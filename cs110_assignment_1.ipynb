{
  "nbformat": 4,
  "nbformat_minor": 0,
  "metadata": {
    "kernelspec": {
      "display_name": "Python 3",
      "language": "python",
      "name": "python3"
    },
    "language_info": {
      "codemirror_mode": {
        "name": "ipython",
        "version": 3
      },
      "file_extension": ".py",
      "mimetype": "text/x-python",
      "name": "python",
      "nbconvert_exporter": "python",
      "pygments_lexer": "ipython3",
      "version": "3.6.5"
    },
    "colab": {
      "name": "cs110_assignment_1.ipynb",
      "provenance": [],
      "include_colab_link": true
    }
  },
  "cells": [
    {
      "cell_type": "markdown",
      "metadata": {
        "id": "view-in-github",
        "colab_type": "text"
      },
      "source": [
        "<a href=\"https://colab.research.google.com/github/mahmud-nobe/cs110_assignment_1/blob/master/cs110_assignment_1.ipynb\" target=\"_parent\"><img src=\"https://colab.research.google.com/assets/colab-badge.svg\" alt=\"Open In Colab\"/></a>"
      ]
    },
    {
      "cell_type": "markdown",
      "metadata": {
        "id": "wqkh_bmW3T3C",
        "colab_type": "text"
      },
      "source": [
        "Before you turn this problem in, make sure everything runs as expected. First, **restart the kernel** (in the menubar, select Kernel$\\rightarrow$Restart) and then **run all cells** (in the menubar, select Cell$\\rightarrow$Run All).\n",
        "\n",
        "Make sure you fill in any place that says `YOUR CODE HERE` or \"YOUR ANSWER HERE\", as well as your name and collaborators below:"
      ]
    },
    {
      "cell_type": "code",
      "metadata": {
        "id": "T3zSBJ_V3T3M",
        "colab_type": "code",
        "colab": {}
      },
      "source": [
        "NAME = \"Md Mahmudunnobe\"\n",
        "COLLABORATORS = \"\""
      ],
      "execution_count": 0,
      "outputs": []
    },
    {
      "cell_type": "markdown",
      "metadata": {
        "id": "BtpxHnia3T3Q",
        "colab_type": "text"
      },
      "source": [
        "---"
      ]
    },
    {
      "cell_type": "markdown",
      "metadata": {
        "deletable": false,
        "editable": false,
        "nbgrader": {
          "checksum": "b40a3a7f6a8c68f100a7bd3ae895c3ee",
          "grade": false,
          "grade_id": "cell-1127d0babde89bd7",
          "locked": true,
          "schema_version": 1,
          "solution": false
        },
        "id": "m7rAZjIx3T3R",
        "colab_type": "text"
      },
      "source": [
        "\n",
        "# CS110 Spring 2020- Assignment 1\n",
        "# Divide and Conquer Sorting Algorithms\n",
        "\n",
        "This assignment focuses on the implementation of sorting algorithms and analyzing their performance both mathematically (using theoretical arguments on the asymptotic behavior of algorithms ) and experimentally (i.e., running experiments for different input arrays and plotting relevant performance results). \n",
        "\n",
        "Every CS110 assignment begins with a check-up on your class responsibilities and professional standing. If you have submitted make-up work, you will also receive formative feedback on it, accompanied by a grade reflecting on your ability to address one of the course LOs. Thus to complete the first part of this assignment, you will need to take a screenshot of your CS110 dashboard on Forum where the following is visible:\n",
        "\n",
        "* your name.\n",
        "* your absences for the course have been set to excused up to the last session from week 2 (inclusively) .\n",
        "\n",
        "This will be evidence that you have submitted acceptable pre-class and make-up work for a CS110 session you may have missed. Please check the specific CS110 make-up and pre-class policies in the syllabus of the course.\n",
        "\n",
        "\n",
        "**NOTES:**\n",
        "\n",
        "1. Your assignment submission needs to include the following resources:\n",
        "\n",
        "* A PDF file must be the first resource. This file must be generated from the template notebook where you have written all of the answers (check this [link](https://docs.google.com/document/d/1gRMol9Ebbvyu1mvEKzma92o_N7ZbNXsPIb1QdQV0TeE/edit#heading=h.10jakf1cwxpq) for instructions on how to do this). Make sure that the PDF displays properly (all text and code can be seen within the paper margins), and that your work is neat and clearly presented. \n",
        "* Your second resource must be the template notebook you have downloaded from the gist provided and where you included your answers. The name of this resource must include your own name. Submit this file directly following the directions in this picture:\n",
        "\n",
        "\n",
        "<img src=\"https://github.com/mahmud-nobe/cs110_assignment_1/raw/master/upload.png?raw=1\" width=\"800\" height=\"200\">\n",
        "\n",
        "If you are unable to submit the jupyter notebook directly, please compress all the materials of your submission, and submit the zip file as your second resource instead.\n",
        "\n",
        "2. Tasks (1)-(7) will be graded on the indicated LOs; please make sure to consult their descriptions and rubrics in the course syllabus. You will not be penalized for not attempting the optional challenge.\n",
        "\n",
        "3. In this first assignment, you will receive formative feedback on your reference, application and justification of the HCs but no actual grades. Only in subsequent assignments will the HCs applications be graded. This is an opportunity for you to deepen your argumentation skills without generating a grade. \n",
        "\n",
        "As such, after completing the assignment, evaluate the application of the HCs you have identified prior to and while you were working on this assignment and footnote them (refer to [these guidelines](https://docs.google.com/document/d/1s7yOVOtMIaHQdKLeRmZbq1gRqwJKfezBsfru9Q6PcHw/edit) on how to incorporate HCs in your work). \n",
        "\n",
        "Here are some examples of weak applications of some of the relevant HCs:\n",
        "\n",
        "* Example 1: “#algorithms: I wrote an implementation of Bubble sort”. \n",
        "    * This is an extremely superficial use of the HC in a course on Algorithms, and your reference will be graded accordingly. Instead, consider what constitutes an algorithm (see Cormen et al., sections 1.1 and 1.2). Once you have a good definition of an algorithm, think of how this notion helped you approach the implementation of the algorithm, analyze its complexity and understand why it’s important to write an optimal Python implementation of the algorithm.\n",
        "\n",
        "* Example 2: “#dataviz: I plotted nice curves showing the execution time of bubble sort, or I plotted beautiful curves with different colors and labels.”\n",
        "\n",
        "    * Again, these two examples are very superficial uses of the HC #dataviz. Instead, consider writing down how do the plots and figures helped you interpret, analyze and write concluding remarks from your experiments. Or write about any insight you included in your work that came from being able to visualize the curves.\n",
        "\n",
        "\n",
        "* Example 3: “#professionalism: I wrote a nice paper/article that follows all the directions in this assignment.” \n",
        "\n",
        "    * By now, you should realize that this is a poor application of the HC #professionalism. Instead, comment on how you actively considered the HC while deciding on the format, length, and style for writing your report.\n",
        "\n",
        "4. Your code will be tested for similarity using Turnitin, both to other students’ work and examples available online. As such, be sure to cite all references that you used in devising your solution. Any plagiarism attempts will be referred to the ASC, as per the course’s policy in the syllabus.\n",
        "\n",
        "\n",
        "** Complete the following tasks which will be graded in the designated LOs and foregrounded HCs (please consult the LOs rubrics on the syllabus):**\n",
        "\n"
      ]
    },
    {
      "cell_type": "markdown",
      "metadata": {
        "id": "gi92n-Sy7R5q",
        "colab_type": "text"
      },
      "source": [
        "## Question 1. [HCs #responsibility; appropriate LO]\n",
        "\n",
        "Submit a screenshot of your CS110 dashboard with the information described above. You can do this by writing:\n",
        "```\n",
        "from IPython.display import Image\n",
        "Image(filename=’your_screenshot.png’)\n",
        "```"
      ]
    },
    {
      "cell_type": "markdown",
      "metadata": {
        "id": "kscPnee778J7",
        "colab_type": "text"
      },
      "source": [
        "My Screenshot:\n",
        "\n",
        "<img src=\"https://github.com/mahmud-nobe/cs110_assignment_1/raw/master/course%20stat.PNG?raw=1\">"
      ]
    },
    {
      "cell_type": "markdown",
      "metadata": {
        "deletable": false,
        "editable": false,
        "nbgrader": {
          "checksum": "b3c8a8e1fd87a705f8ae943081513797",
          "grade": false,
          "grade_id": "cell-2a94124c1b43fea6",
          "locked": true,
          "schema_version": 1,
          "solution": false
        },
        "id": "-2q-CDF63T3V",
        "colab_type": "text"
      },
      "source": [
        "## Question 2. [#SortingAlgorithms, #PythonProgramming, #CodeReadability] \n",
        "\n",
        "Write a Python 3 implementation of the three-way merge sort algorithm discussed in class using the code skeleton below. You should also provide at least three test cases (possibly edge cases) that demonstrate the correctness of your code. Your output must be a sorted **Python list.**\n"
      ]
    },
    {
      "cell_type": "code",
      "metadata": {
        "deletable": false,
        "nbgrader": {
          "checksum": "52fc4bd029432fb3de26fbea6da20cbf",
          "grade": false,
          "grade_id": "cell-47961f0da38f1381",
          "locked": false,
          "schema_version": 1,
          "solution": true
        },
        "id": "Mhj4q3zt3T3W",
        "colab_type": "code",
        "colab": {}
      },
      "source": [
        "import numpy as np\n",
        "\n",
        "def merge_three(A, p, q, r, s):\n",
        "  # create three array and copied the elements from Array A\n",
        " \n",
        "  L = A[p:q+1] \n",
        "  M = A[q+1:r+1]\n",
        "  R = A[r+1:s+1]\n",
        "\n",
        "  # add sentinels in each of the arrays\n",
        "  L = np.append(L, float('INF'))\n",
        "  M = np.append(M, float('INF'))\n",
        "  R = np.append(R, float('INF'))\n",
        "\n",
        "  # set i,j,k as the first index. Compare the i'th element of L, j'th element of M and \n",
        "  # k'th element of R array and store the smaller\n",
        "  # one to the array A. Increase the i/j/k accordingly.\n",
        "  # Do this from l = p to r\n",
        "  i = 0\n",
        "  j = 0\n",
        "  k = 0\n",
        "  for l in range(p,s+1):  ### O(n)\n",
        "    if(L[i] <= M[j] and L[i] <= R[k]):\n",
        "      A[l] = L[i]\n",
        "      i += 1\n",
        "    elif (M[j] <= R[k]):\n",
        "      A[l] = M[j]\n",
        "      j += 1\n",
        "    else:\n",
        "      A[l] = R[k]\n",
        "      k += 1  \n",
        "  return A\n",
        "\n",
        "    \n",
        "def three_way_merge(arr):\n",
        "    \"\"\"Implements three-way marge sort\n",
        "    \n",
        "    Input:\n",
        "    arr: a Python list OR numpy array (your code should work with both of these data types)\n",
        "    \n",
        "    Output: a sorted Python list\"\"\"\n",
        "    \n",
        "    # make the array an numpy array and set the first and last index as p and s\n",
        "    arr = np.array(arr)\n",
        "    s = len(arr) - 1\n",
        "    p = 0\n",
        "\n",
        "    # when p < s, means the number of element is larger than 1, divide the array into three subarray\n",
        "    # according to their index number. Then, recursively call three_way_merge in all arrays and save the sorted \n",
        "    # subarray in their respective indices.\n",
        "    # Lastly merge the arrays by calling merge_three function\n",
        "    # Base case is when p = s, means n=1, then returns the array itself.\n",
        "    if p < s:\n",
        "        q = int((p+s)/3)\n",
        "        r = int(2*(p+s)/3)\n",
        "        arr[:q+1] = three_way_merge(arr[:q+1])\n",
        "        arr[q+1:r+1] = three_way_merge(arr[q+1:r+1])\n",
        "        arr[r+1:] = three_way_merge(arr[r+1:])      ### T(n) = 3T(n/3) + complexity for merge\n",
        "        merge_three(arr,p,q,r,s)                    ### T(n) = 3T(n/3) + O(n)\n",
        "    # return a python list irrespective of the input type\n",
        "    return(list(arr))\n",
        "    \n",
        "    #raise NotImplementedError()"
      ],
      "execution_count": 0,
      "outputs": []
    },
    {
      "cell_type": "code",
      "metadata": {
        "id": "Y8Fc8dhWcgaY",
        "colab_type": "code",
        "outputId": "82561482-ef5b-45ad-eb41-919f77e14c66",
        "colab": {
          "base_uri": "https://localhost:8080/",
          "height": 34
        }
      },
      "source": [
        "A = [2,7,6,8,1,4,9,6]\n",
        "three_way_merge(A)"
      ],
      "execution_count": 0,
      "outputs": [
        {
          "output_type": "execute_result",
          "data": {
            "text/plain": [
              "[1, 2, 4, 6, 6, 7, 8, 9]"
            ]
          },
          "metadata": {
            "tags": []
          },
          "execution_count": 208
        }
      ]
    },
    {
      "cell_type": "code",
      "metadata": {
        "id": "r9u1cjpuKZ8w",
        "colab_type": "code",
        "outputId": "9edfcd01-d17b-4f1d-a2b4-538f5512d245",
        "colab": {
          "base_uri": "https://localhost:8080/",
          "height": 72
        }
      },
      "source": [
        "A = list(reversed(range(-50,50)))\n",
        "print(A)\n",
        "print(three_way_merge(A))"
      ],
      "execution_count": 0,
      "outputs": [
        {
          "output_type": "stream",
          "text": [
            "[49, 48, 47, 46, 45, 44, 43, 42, 41, 40, 39, 38, 37, 36, 35, 34, 33, 32, 31, 30, 29, 28, 27, 26, 25, 24, 23, 22, 21, 20, 19, 18, 17, 16, 15, 14, 13, 12, 11, 10, 9, 8, 7, 6, 5, 4, 3, 2, 1, 0, -1, -2, -3, -4, -5, -6, -7, -8, -9, -10, -11, -12, -13, -14, -15, -16, -17, -18, -19, -20, -21, -22, -23, -24, -25, -26, -27, -28, -29, -30, -31, -32, -33, -34, -35, -36, -37, -38, -39, -40, -41, -42, -43, -44, -45, -46, -47, -48, -49, -50]\n",
            "[-50, -49, -48, -47, -46, -45, -44, -43, -42, -41, -40, -39, -38, -37, -36, -35, -34, -33, -32, -31, -30, -29, -28, -27, -26, -25, -24, -23, -22, -21, -20, -19, -18, -17, -16, -15, -14, -13, -12, -11, -10, -9, -8, -7, -6, -5, -4, -3, -2, -1, 0, 1, 2, 3, 4, 5, 6, 7, 8, 9, 10, 11, 12, 13, 14, 15, 16, 17, 18, 19, 20, 21, 22, 23, 24, 25, 26, 27, 28, 29, 30, 31, 32, 33, 34, 35, 36, 37, 38, 39, 40, 41, 42, 43, 44, 45, 46, 47, 48, 49]\n"
          ],
          "name": "stdout"
        }
      ]
    },
    {
      "cell_type": "code",
      "metadata": {
        "id": "qoo_bpQSZxzL",
        "colab_type": "code",
        "outputId": "ead98daa-a06b-497c-9ed7-db09ae8bcb38",
        "colab": {
          "base_uri": "https://localhost:8080/",
          "height": 72
        }
      },
      "source": [
        "A = list(range(-50,50))\n",
        "print(A)\n",
        "print(three_way_merge(A))"
      ],
      "execution_count": 0,
      "outputs": [
        {
          "output_type": "stream",
          "text": [
            "[-50, -49, -48, -47, -46, -45, -44, -43, -42, -41, -40, -39, -38, -37, -36, -35, -34, -33, -32, -31, -30, -29, -28, -27, -26, -25, -24, -23, -22, -21, -20, -19, -18, -17, -16, -15, -14, -13, -12, -11, -10, -9, -8, -7, -6, -5, -4, -3, -2, -1, 0, 1, 2, 3, 4, 5, 6, 7, 8, 9, 10, 11, 12, 13, 14, 15, 16, 17, 18, 19, 20, 21, 22, 23, 24, 25, 26, 27, 28, 29, 30, 31, 32, 33, 34, 35, 36, 37, 38, 39, 40, 41, 42, 43, 44, 45, 46, 47, 48, 49]\n",
            "[-50, -49, -48, -47, -46, -45, -44, -43, -42, -41, -40, -39, -38, -37, -36, -35, -34, -33, -32, -31, -30, -29, -28, -27, -26, -25, -24, -23, -22, -21, -20, -19, -18, -17, -16, -15, -14, -13, -12, -11, -10, -9, -8, -7, -6, -5, -4, -3, -2, -1, 0, 1, 2, 3, 4, 5, 6, 7, 8, 9, 10, 11, 12, 13, 14, 15, 16, 17, 18, 19, 20, 21, 22, 23, 24, 25, 26, 27, 28, 29, 30, 31, 32, 33, 34, 35, 36, 37, 38, 39, 40, 41, 42, 43, 44, 45, 46, 47, 48, 49]\n"
          ],
          "name": "stdout"
        }
      ]
    },
    {
      "cell_type": "code",
      "metadata": {
        "id": "KSAfc50ng8wf",
        "colab_type": "code",
        "outputId": "9437f656-15fe-4c06-9a89-b66b1bcbe6c4",
        "colab": {
          "base_uri": "https://localhost:8080/",
          "height": 34
        }
      },
      "source": [
        "import numpy as np\n",
        "three_way_merge(np.array([4,3,2,1]))"
      ],
      "execution_count": 0,
      "outputs": [
        {
          "output_type": "execute_result",
          "data": {
            "text/plain": [
              "[1, 2, 3, 4]"
            ]
          },
          "metadata": {
            "tags": []
          },
          "execution_count": 240
        }
      ]
    },
    {
      "cell_type": "code",
      "metadata": {
        "deletable": false,
        "editable": false,
        "nbgrader": {
          "checksum": "d0e00aa2481aea1232da19ec1692f45c",
          "grade": true,
          "grade_id": "cell-41b1d220414c9bd0",
          "locked": true,
          "points": 1,
          "schema_version": 1,
          "solution": false
        },
        "id": "TUQLqpKn3T3Z",
        "colab_type": "code",
        "colab": {}
      },
      "source": [
        "assert(three_way_merge([4,3,2,1]) == [1,2,3,4])\n",
        "assert(three_way_merge(np.array([4,3,2,1])) == [1,2,3,4]) "
      ],
      "execution_count": 0,
      "outputs": []
    },
    {
      "cell_type": "code",
      "metadata": {
        "id": "VI-FmeoC9QzH",
        "colab_type": "code",
        "outputId": "e956966f-090a-453d-9ac3-1320c960ab1a",
        "colab": {
          "base_uri": "https://localhost:8080/",
          "height": 86
        }
      },
      "source": [
        "import random\n",
        "A = random.choices(range(-100,100),k=10)\n",
        "B = random.sample(range(-100,100),k=10)\n",
        "print(A)\n",
        "print(three_way_merge(np.array(A)))\n",
        "print(B)\n",
        "print(three_way_merge(np.array(B)))"
      ],
      "execution_count": 0,
      "outputs": [
        {
          "output_type": "stream",
          "text": [
            "[45, 19, -70, 38, -75, 26, -39, 58, -41, 53]\n",
            "[-75, -70, -41, -39, 19, 26, 38, 45, 53, 58]\n",
            "[-9, 77, 31, -40, 59, 17, 58, -22, 20, 75]\n",
            "[-40, -22, -9, 17, 20, 31, 58, 59, 75, 77]\n"
          ],
          "name": "stdout"
        }
      ]
    },
    {
      "cell_type": "markdown",
      "metadata": {
        "deletable": false,
        "editable": false,
        "nbgrader": {
          "checksum": "fc1955ef79cb6aaf4508478f72b426cf",
          "grade": false,
          "grade_id": "cell-bf1e08fbb21272f7",
          "locked": true,
          "schema_version": 1,
          "solution": false
        },
        "id": "OWGo7uRb3T3d",
        "colab_type": "text"
      },
      "source": [
        "## Question 3.  [#SortingAlgorithms, #PythonProgramming, #CodeReadability, #ComputationalCritique] \n",
        "\n",
        "Implement a second version of a three-way merge sort that calls bubble sort when sublists are below a certain length (of your choice) rather than continuing the subdivision process. Justify on the basis of theoretical and potentially also experimental arguments what might be an appropriate threshold for the input array for applying bubble sort.\n"
      ]
    },
    {
      "cell_type": "code",
      "metadata": {
        "id": "yy6AGTgjUBLV",
        "colab_type": "code",
        "colab": {}
      },
      "source": [
        "# bubbleSort from pre class work\n",
        "def bubbleSort(A):\n",
        "    # put a mark at the beginning of the array\n",
        "    # go through the whole array and every time check the adjacent elements and sort them by swapping\n",
        "    # increase the mark and then go again through the remaining array \n",
        "    # continue doing this until the mark reached to the end\n",
        "    for i in range(len(A)):   ### O(n)\n",
        "      for j in reversed(range(i,len(A))): ### O(n-1)\n",
        "        if (A[j] < A[j-1]):               ### Total complexity O(n(n-1)) = O(n^2)\n",
        "          A[j], A[j-1] = A[j-1], A[j]\n",
        "    return A"
      ],
      "execution_count": 0,
      "outputs": []
    },
    {
      "cell_type": "code",
      "metadata": {
        "id": "aVnZkgAET4B0",
        "colab_type": "code",
        "colab": {
          "base_uri": "https://localhost:8080/",
          "height": 295
        },
        "outputId": "f6f1311e-378d-4f3e-8e64-a37c2d4b2e86"
      },
      "source": [
        "time_merge_three = []\n",
        "time_extended_merge_three = []\n",
        "time_bubble = []\n",
        "\n",
        "import random\n",
        "for k in range(1,16):\n",
        "  list_k = list(random.choices(range(-10000,10000), k = 100*k))\n",
        "\n",
        "  start1 = time.clock()\n",
        "  three_way_merge(list_k)\n",
        "  end1 = time.clock()\n",
        "  time_merge_three.append(end1-start1)\n",
        "\n",
        "  start2 = time.clock()\n",
        "  bubbleSort(list_k)\n",
        "  end2 = time.clock()\n",
        "  time_bubble.append(end2-start2)\n",
        "\n",
        "  start = time.clock()\n",
        "  extended_three_way_merge(list_k)\n",
        "  end = time.clock()\n",
        "  time_extended_merge_three.append(end-start)\n",
        "\n",
        "    \n",
        "\n",
        "k = range(1,16)\n",
        "plt.plot(k,time_merge_three,'b')\n",
        "plt.plot(k,time_extended_merge_three,'r')\n",
        "plt.plot(k,time_bubble,'g')\n",
        "plt.xlabel('k = n/100')\n",
        "plt.ylabel('Time elapsed(s)')\n",
        "plt.legend(['3-way Merge','Extended 3-way Merge','Bubble Sort'])\n",
        "plt.title(\"Time of diffferent sorting algorithm when input array is reversed sorted\")\n",
        "plt.show()\n"
      ],
      "execution_count": 71,
      "outputs": [
        {
          "output_type": "display_data",
          "data": {
            "image/png": "[encoded data removed]",
            "text/plain": [
              "<Figure size 432x288 with 1 Axes>"
            ]
          },
          "metadata": {
            "tags": []
          }
        }
      ]
    },
    {
      "cell_type": "code",
      "metadata": {
        "deletable": false,
        "nbgrader": {
          "checksum": "bda5610ee1c06392a5c75a11acd4aaf0",
          "grade": false,
          "grade_id": "cell-e1e72cc08eb6a5f0",
          "locked": false,
          "schema_version": 1,
          "solution": true
        },
        "colab_type": "code",
        "id": "i9EZ5wK5ShLv",
        "colab": {}
      },
      "source": [
        "def extended_three_way_merge(arr):\n",
        "    \"\"\"Implements the second version of a three-way merge sort\n",
        "    \n",
        "    Input:\n",
        "    arr: a Python list OR numpy array (your code should work with both of these data types)\n",
        "    \n",
        "    Output: a sorted Python list\"\"\"\n",
        "    \n",
        "    # convert into a numpy array and set the first and last indices\n",
        "    arr = np.array(arr)\n",
        "    s = len(arr) - 1\n",
        "    p = 0\n",
        "\n",
        "    # when p < s, means the number of element is larger than 1, divide the array into three subarray\n",
        "    # according to their index number. Then, recursively call three_way_merge in all arrays and save the sorted \n",
        "    # subarray in their respective indices.\n",
        "    # Lastly merge the arrays by calling merge_three function\n",
        "    # Base case is when s <= 2, means n <= 3, then returns the array by sorting it with bubble sort\n",
        "    if s > 2:\n",
        "        q = int((p+s)/3)\n",
        "        r = int(2*(p+s)/3)\n",
        "        arr[:q+1] = extended_three_way_merge(arr[:q+1])\n",
        "        arr[q+1:r+1] = extended_three_way_merge(arr[q+1:r+1])\n",
        "        arr[r+1:] = extended_three_way_merge(arr[r+1:])   ### T(n) = 3T(n/3) + O(n) (for merging)\n",
        "        merge_three(arr,p,q,r,s)\n",
        "    return(bubbleSort(list(arr)))   ### O(n^2) for base case (when n <= 3)\n",
        "\n",
        "    # raise NotImplementedError()"
      ],
      "execution_count": 0,
      "outputs": []
    },
    {
      "cell_type": "code",
      "metadata": {
        "deletable": false,
        "editable": false,
        "nbgrader": {
          "checksum": "67aa3d8368da069e20c5a02e417f6e2f",
          "grade": true,
          "grade_id": "cell-8ab1cb1e1b4c76fb",
          "locked": true,
          "points": 0,
          "schema_version": 1,
          "solution": false
        },
        "id": "-e7lkVqK3T3i",
        "colab_type": "code",
        "colab": {}
      },
      "source": [
        "assert(extended_three_way_merge([4,3,2,1]) == [1,2,3,4])\n",
        "assert(extended_three_way_merge(np.array([4,3,2,1])) == [1,2,3,4]) "
      ],
      "execution_count": 0,
      "outputs": []
    },
    {
      "cell_type": "markdown",
      "metadata": {
        "id": "1AR0E6J6bUWT",
        "colab_type": "text"
      },
      "source": [
        ""
      ]
    },
    {
      "cell_type": "markdown",
      "metadata": {
        "deletable": false,
        "editable": false,
        "nbgrader": {
          "checksum": "19e6aa4b6b6d26cdfe75d36d77e68f9f",
          "grade": false,
          "grade_id": "cell-05230d0283ee03d4",
          "locked": true,
          "schema_version": 1,
          "solution": false
        },
        "id": "ynIfWa5u3T3l",
        "colab_type": "text"
      },
      "source": [
        "## Question 4 [#SortingAlgorithms, #PythonProgramming, #CodeReadability] \n",
        "\n",
        "Bucket sort (or Bin sort) is an algorithm that takes as inputs an n-element array and the number of buckets, k, to be used during sorting.  Then, the algorithm distributes the elements of the input array into k-different buckets and proceeds to sort the individual buckets. Then, merges the sorted buckets to obtained the sorted array. Here is pseudocode for the BucketSort algorithm:\n",
        "\n",
        "<img src=\"https://github.com/mahmud-nobe/cs110_assignment_1/blob/master/bucket.png?raw=1\" width=\"800\" height=\"200\">\n",
        "\n",
        "The BucketSort code above calls the function GetBucketNum  (see the pseudocode below) to distribute all the elements of array A into k-buckets.  Every element in the array is assigned a bucket number based on its value (positive or negative numbers). GetBucketNum returns the bucket number that corresponds to element A[i].   It takes as inputs the element of the array, A[i], the max and min elements in A, the size of the intervals in every bucket (e.g., if you have numbers with values between  0 and 100 numbers and 5 buckets, every bucket has an interval of size 20 = [100-0]/5).  Notice that in pseudocode, the indices of the arrays are from 1 to n. Thus, GetBucketNum consistently returns a number between 1 and n (make sure you account for this in your Python program).\n",
        "\n",
        "\n",
        "<img src=\"https://github.com/mahmud-nobe/cs110_assignment_1/blob/master/getbucketnum.png?raw=1\" width=\"800\" height=\"200\">\n",
        "\n",
        "Write a Python 3 implementation of BucketSort that uses the bubble sort algorithm for sorting the individual buckets in line 10 of the algorithm."
      ]
    },
    {
      "cell_type": "code",
      "metadata": {
        "deletable": false,
        "nbgrader": {
          "checksum": "3c43cacdf4e5272a4f062b7d3a5e3ccc",
          "grade": false,
          "grade_id": "cell-4f283016e5365a91",
          "locked": false,
          "schema_version": 1,
          "solution": true
        },
        "id": "Tn2CkaBy3T3l",
        "colab_type": "code",
        "colab": {}
      },
      "source": [
        "import numpy as np\n",
        "from math import ceil\n",
        "\n",
        "# bubble sort from pre class work\n",
        "def bubbleSort(A):  ### complexity O(n^2)\n",
        "    for i in range(len(A)):\n",
        "      for j in reversed(range(i,len(A))):\n",
        "        if (A[j] < A[j-1]):\n",
        "          A[j], A[j-1] = A[j-1], A[j]\n",
        "    return A\n",
        "\n",
        "def get_bucket_num(a, minimum, maximum, size, k):\n",
        "  # if a is maximum, the bucket number is the last one\n",
        "  if (a == maximum):\n",
        "    b = k\n",
        "  # if a is minimum, the bucket number is the first one\n",
        "  elif (a == minimum):\n",
        "    b = 1\n",
        "  # otherwise, compare with the last possible number of the first bucket, then\n",
        "  # check with the next bucket, if necessary, and continue until find a's bucket\n",
        "  else:\n",
        "    b = 1\n",
        "    while( a >= minimum + (size*b)):  ### O(k) at the worst case\n",
        "      b += 1\n",
        "  # return b-1 as python starts counting at 0\n",
        "  return b-1\n",
        "\n",
        "\n",
        "def bucket_sort(arr, k):\n",
        "    \"\"\"Implements BucketSort\n",
        "    \n",
        "    Input:\n",
        "    arr: a Python list OR numpy array (your code should work with both of these data types)\n",
        "    k: int, number of buckets\n",
        "    \n",
        "    Output: a sorted Python list\"\"\"\n",
        "\n",
        "    arr = np.array(arr)\n",
        "\n",
        "    # derive the maximum, minimum value and bucket size\n",
        "    minimum = min(arr)\n",
        "    maximum = max(arr)\n",
        "    size = ceil((maximum-minimum)/k)\n",
        "\n",
        "    # create k empty buckets\n",
        "    buckets = []\n",
        "    for i in range(k):    ### O(k)\n",
        "      buckets.append([])\n",
        "    \n",
        "    # check with every element on the array and determine their bucket number\n",
        "    # then append it in the corresponding bucket\n",
        "    for i in range(len(arr)):     ### O(n)\n",
        "      b = get_bucket_num (arr[i], minimum, maximum, size, k)   ### O(k) at worst case\n",
        "      buckets[b].append(arr[i])                                ### Total complexity at worst case O(n*k) \n",
        "                                                               ### -- k is constant -- O(n)\n",
        "\n",
        "    # sort every bucket with bubblesort and add them to create final sorted list\n",
        "    A = []\n",
        "    for i in range(k):  ### O(k)\n",
        "      bubbleSort(buckets[i]) ### in worst case in every bucket there will be n/k elements\n",
        "                            ### --> O(k) * O((n/k)^2) --> O(n^2) as k is constant\n",
        "      A = A+buckets[i]\n",
        "    \n",
        "    return A\n",
        "    \n",
        "    \n",
        "    \n",
        "\n",
        "\n",
        "    # raise NotImplementedError()"
      ],
      "execution_count": 0,
      "outputs": []
    },
    {
      "cell_type": "code",
      "metadata": {
        "id": "q9Vmo3iHrY3J",
        "colab_type": "code",
        "colab": {}
      },
      "source": [
        "A = np.array([1,2,3])\n",
        "B = np.array([2,3,4])\n"
      ],
      "execution_count": 0,
      "outputs": []
    },
    {
      "cell_type": "code",
      "metadata": {
        "id": "7V8fkTmdbalq",
        "colab_type": "code",
        "outputId": "4d727798-e104-4d04-e041-edcfe8a38065",
        "colab": {
          "base_uri": "https://localhost:8080/",
          "height": 34
        }
      },
      "source": [
        "bucket_sort([6,5,4,3,8,2,9,1,7], 3)\n"
      ],
      "execution_count": 0,
      "outputs": [
        {
          "output_type": "execute_result",
          "data": {
            "text/plain": [
              "[1, 2, 3, 4, 5, 6, 7, 8, 9]"
            ]
          },
          "metadata": {
            "tags": []
          },
          "execution_count": 301
        }
      ]
    },
    {
      "cell_type": "code",
      "metadata": {
        "deletable": false,
        "editable": false,
        "nbgrader": {
          "checksum": "d1c98d0dd0e38818a8dc5a57ef1ad1ae",
          "grade": true,
          "grade_id": "cell-2a287ffea077a4e6",
          "locked": true,
          "points": 1,
          "schema_version": 1,
          "solution": false
        },
        "id": "uY9xFIFM3T3o",
        "colab_type": "code",
        "colab": {}
      },
      "source": [
        "assert(bucket_sort([4,3,2,1], 3) == [1,2,3,4])\n",
        "assert(bucket_sort(np.array([4,3,2,1]), 3) == [1,2,3,4])"
      ],
      "execution_count": 0,
      "outputs": []
    },
    {
      "cell_type": "markdown",
      "metadata": {
        "deletable": false,
        "editable": false,
        "nbgrader": {
          "checksum": "d720b82cffed91c73c65f935dce98c9c",
          "grade": false,
          "grade_id": "cell-280061fa442a3cdf",
          "locked": true,
          "schema_version": 1,
          "solution": false
        },
        "id": "QDAW3gNn3T3s",
        "colab_type": "text"
      },
      "source": [
        "## Question 5 [#SortingAlgorithms, #PythonProgramming, #CodeReadability]\n",
        "\n",
        "Implement a second version of the BucketSort algorithm. This time in line 10 of BucketSort apply the Bucket sort algorithm recursively until the size of the bucket is less than or equal to k, the base case (notice that fewer than k partitions will be inefficient).\n"
      ]
    },
    {
      "cell_type": "markdown",
      "metadata": {
        "id": "0a9JzH3mB1jB",
        "colab_type": "text"
      },
      "source": [
        "**First way - Less efficient:** Base case is when the size of the input array is less than or equal to 1, it just returns the array. No other sort method is needed, but recursive call will continue until the size becomes one or zero, thus increase the complexity time."
      ]
    },
    {
      "cell_type": "code",
      "metadata": {
        "deletable": false,
        "nbgrader": {
          "checksum": "57dbe67cb68f6268950463afaf5ababa",
          "grade": false,
          "grade_id": "cell-d90434b2aa46d9aa",
          "locked": false,
          "schema_version": 1,
          "solution": true
        },
        "id": "arAeH9Mp3T3u",
        "colab_type": "code",
        "colab": {}
      },
      "source": [
        "def extended_bucket_sort(arr, k):\n",
        "    \"\"\"Implements the second version of the BucketSort algorithm\n",
        "    \n",
        "    Input:\n",
        "    arr: a Python list OR numpy array (your code should work with both of these data types)\n",
        "    k: int, number of buckets\n",
        "    \n",
        "    Output: a sorted Python list\"\"\"\n",
        "\n",
        "    arr = np.array(arr)\n",
        "\n",
        "    # when there is less than or equal 1 element, return the array itself\n",
        "    if(len(arr) <= 1):    ### O(1)\n",
        "      return list(arr)\n",
        "    \n",
        "    else:\n",
        "      # derive the maximum, minimum value and bucket size\n",
        "      minimum = min(arr)\n",
        "      maximum = max(arr)\n",
        "      size = ceil((maximum-minimum)/k)\n",
        "\n",
        "      # create k empty buckets\n",
        "      buckets = []\n",
        "      for i in range(k):  ### O(k)\n",
        "        buckets.append([])\n",
        "      \n",
        "      # check with every element on the array and determine their bucket number\n",
        "      # then append it in the corresponding bucket\n",
        "      for i in range(len(arr)):   ### O(n)\n",
        "        b = get_bucket_num (arr[i], minimum, maximum, size, k)   ### O(k) at worst case\n",
        "        buckets[b].append(arr[i])                                ### Total complexity at worst case O(n*k) \n",
        "                                                                 ###  -- k is constant -- O(n)\n",
        "\n",
        "      # sort every bucket through recursion.\n",
        "      # if there is only one element (or 0) skip the bucket\n",
        "      # for larger buckets call the extended_bucket_sort again to sort them \n",
        "      # using k buckets and store the sorted list in the corresponding indices\n",
        "      for i in range(k):\n",
        "        if(len(buckets[i]) > 1):      \n",
        "          buckets[i] = extended_bucket_sort(buckets[i], k)    ### T(n) = k T(n/k) + base case complexity\n",
        "                                                            ### T(n) = k T(n/k) + O(1)\n",
        "      \n",
        "      # add them up in a final sorted list\n",
        "      A = []    \n",
        "      for i in range(k): ### O(k) \n",
        "        A = A + buckets[i]\n",
        "    \n",
        "    return A\n",
        "\n",
        "    raise NotImplementedError()"
      ],
      "execution_count": 0,
      "outputs": []
    },
    {
      "cell_type": "code",
      "metadata": {
        "id": "24Rs7URPKXDt",
        "colab_type": "code",
        "colab": {}
      },
      "source": [
        ""
      ],
      "execution_count": 0,
      "outputs": []
    },
    {
      "cell_type": "code",
      "metadata": {
        "id": "OHvMEfX3uOse",
        "colab_type": "code",
        "outputId": "7f87186b-e64a-496d-e64a-590c7421796f",
        "colab": {
          "base_uri": "https://localhost:8080/",
          "height": 34
        }
      },
      "source": [
        "extended_bucket_sort([4,3,2,1],3)"
      ],
      "execution_count": 0,
      "outputs": [
        {
          "output_type": "execute_result",
          "data": {
            "text/plain": [
              "[1, 2, 3, 4]"
            ]
          },
          "metadata": {
            "tags": []
          },
          "execution_count": 304
        }
      ]
    },
    {
      "cell_type": "code",
      "metadata": {
        "id": "n2WpvkxrDEzf",
        "colab_type": "code",
        "colab": {}
      },
      "source": [
        "assert(extended_bucket_sort([4,3,2,1], 3) == [1,2,3,4])\n",
        "assert(extended_bucket_sort(np.array([4,3,2,1]), 3) == [1,2,3,4])"
      ],
      "execution_count": 0,
      "outputs": []
    },
    {
      "cell_type": "markdown",
      "metadata": {
        "id": "fciD-jc2DNvC",
        "colab_type": "text"
      },
      "source": [
        "**Second way: more efficient:** Base case is when the size of the array is less than or equal k, it returns a sorted array using bubble sort. Now the complexity is $O(n^2)$ when the number of element is less than or equal k, but when n goes larger and larger, this algorithm becomes more efficient than the previous one as our recursive call is much lower in number now."
      ]
    },
    {
      "cell_type": "code",
      "metadata": {
        "id": "EOmyqLNy72ff",
        "colab_type": "code",
        "colab": {}
      },
      "source": [
        "def extended_bucket_sort(arr, k):\n",
        "    \"\"\"Implements the second version of the BucketSort algorithm\n",
        "    \n",
        "    Input:\n",
        "    arr: a Python list OR numpy array (your code should work with both of these data types)\n",
        "    k: int, number of buckets\n",
        "    \n",
        "    Output: a sorted Python list\"\"\"\n",
        "\n",
        "    arr = np.array(arr)\n",
        "    # when there is less than or equal k element, return the array by sorting it \n",
        "    # by bubbleSort\n",
        "    if(len(arr) <= k):\n",
        "      return list(bubbleSort(arr))  ### O(k^2)\n",
        "    \n",
        "    else:\n",
        "      minimum = min(arr)\n",
        "      maximum = max(arr)\n",
        "      size = ceil((maximum-minimum)/k)\n",
        "     \n",
        "      # create k empty buckets\n",
        "      buckets = []\n",
        "      for i in range(k):  ### O(k)\n",
        "        buckets.append([])\n",
        "\n",
        "      # check with every element on the array and determine their bucket number\n",
        "      # then append it in the corresponding bucket\n",
        "      for i in range(len(arr)):\n",
        "        b = get_bucket_num (arr[i], minimum, maximum, size, k)   ### O(k) at worst case\n",
        "        buckets[b].append(arr[i])                                ### Total complexity at worst case O(n*k) \n",
        "                                                                 ###  -- k is constant -- O(n)\n",
        "\n",
        "      # sort every bucket through recursion.\n",
        "      # for every buckets call the extended_bucket_sort again to sort them \n",
        "      # using k buckets and store the sorted list in the corresponding indices\n",
        "      # but if k is 1, then increase k by 1 to avoid calling the same array infinite time.\n",
        "      for i in range(k):\n",
        "        if(k == 1):     \n",
        "          buckets[i] = extended_bucket_sort(buckets[i], k+1)  ### T(n) = k T(n/k) + O(k^2)\n",
        "        else:\n",
        "          buckets[i] = extended_bucket_sort(buckets[i], k+1)\n",
        "      \n",
        "      # add them up in a final sorted list      \n",
        "      A = []  \n",
        "      for i in range(k):    ### O(k)\n",
        "        A = A + buckets[i]\n",
        "    \n",
        "      return A\n",
        "\n",
        "    raise NotImplementedError()"
      ],
      "execution_count": 0,
      "outputs": []
    },
    {
      "cell_type": "code",
      "metadata": {
        "id": "2PPSA1Ix8CI4",
        "colab_type": "code",
        "outputId": "36c7cfa9-b304-4786-bfc2-5fc1b46fcd0a",
        "colab": {
          "base_uri": "https://localhost:8080/",
          "height": 34
        }
      },
      "source": [
        "extended_bucket_sort([4,3,2,1],1)"
      ],
      "execution_count": 67,
      "outputs": [
        {
          "output_type": "execute_result",
          "data": {
            "text/plain": [
              "[1, 2, 3, 4]"
            ]
          },
          "metadata": {
            "tags": []
          },
          "execution_count": 67
        }
      ]
    },
    {
      "cell_type": "code",
      "metadata": {
        "id": "t8raDFJF8Bue",
        "colab_type": "code",
        "colab": {}
      },
      "source": [
        ""
      ],
      "execution_count": 0,
      "outputs": []
    },
    {
      "cell_type": "code",
      "metadata": {
        "deletable": false,
        "editable": false,
        "nbgrader": {
          "checksum": "b0c3c5f1da945aa3256c69929ea50658",
          "grade": true,
          "grade_id": "cell-a42f473f6bd53e24",
          "locked": true,
          "points": 1,
          "schema_version": 1,
          "solution": false
        },
        "id": "W21RU8MQ3T3x",
        "colab_type": "code",
        "colab": {}
      },
      "source": [
        "assert(extended_bucket_sort([4,3,2,1], 3) == [1,2,3,4])\n",
        "assert(extended_bucket_sort(np.array([4,3,2,1]), 3) == [1,2,3,4])"
      ],
      "execution_count": 0,
      "outputs": []
    },
    {
      "cell_type": "markdown",
      "metadata": {
        "deletable": false,
        "editable": false,
        "nbgrader": {
          "checksum": "6067f95c6b23e98e07fb691da8fc7ade",
          "grade": false,
          "grade_id": "cell-13706de3e5f69cf9",
          "locked": true,
          "schema_version": 1,
          "solution": false
        },
        "id": "H6MOpy_83T30",
        "colab_type": "text"
      },
      "source": [
        "## Question 6 [#ComplexityAnalysis, #ComputationalCritique] \n",
        "\n",
        "Analyze and compare the practical run times of regular merge sort (i.e., two-way merge sort), three-way merge sort, and the augmented merge sort from (3) by producing a plot that illustrates how every running time grows with input size. Make sure to:\n",
        "\n",
        "1. define what each algorithm's complexity is\n",
        "2. enumerate the explicit assumptions made to assess each run time of the algorithm's run time.\n",
        "3. and compare your benchmarks with the theoretical result we have discussed in class.\n"
      ]
    },
    {
      "cell_type": "markdown",
      "metadata": {
        "id": "Lu4zFqeDfy6N",
        "colab_type": "text"
      },
      "source": [
        "**1. Complexity:**\n",
        "\n",
        "Each of the algorithm's complexity is the following:\n",
        "\n",
        "- Two-way merge sort -- $O(n\\, log_2n)$\n",
        "- Three-way merge sort -- $O(n\\, log_3n)$\n",
        "- Three-way-bubble sort -- $O(n^2)$ for $n\\leq3$, $O(n\\, log_3n)$ for $n>3$"
      ]
    },
    {
      "cell_type": "markdown",
      "metadata": {
        "id": "3zml60C9ghKh",
        "colab_type": "text"
      },
      "source": [
        "**Two way Merge sort:**"
      ]
    },
    {
      "cell_type": "code",
      "metadata": {
        "deletable": false,
        "nbgrader": {
          "checksum": "b27c65928ef98faa0539bcb27f7a6eb7",
          "grade": true,
          "grade_id": "cell-7de481a7d24e508b",
          "locked": false,
          "points": 0,
          "schema_version": 1,
          "solution": true
        },
        "id": "Tf3EYraa3T31",
        "colab_type": "code",
        "colab": {}
      },
      "source": [
        "### Two way merge short (from pre class work)\n",
        "\n",
        "def merge_two(A, p, q, r):\n",
        "  # create two array and copied the elements from Array A\n",
        "  L = A[p:q+1]\n",
        "  R = A[q+1:r+1]\n",
        "  L.append(float('INF'))\n",
        "  R.append(float('INF'))\n",
        "    \n",
        "  # set i,j as the first index. Compare the i'th element of L and j'th element of R array and store the smaller\n",
        "  # one to the array A. Increase the i/j accordingly.\n",
        "  # Do this from k = p to r\n",
        "  i = 0\n",
        "  j = 0\n",
        "  for k in range(p,r+1): ### O(n)\n",
        "    if(L[i] <= R[j]):\n",
        "      A[k] = L[i]\n",
        "      i += 1\n",
        "    else:\n",
        "      A[k] = R[j]\n",
        "      j += 1  \n",
        "  return A\n",
        "\n",
        "def merge_sort_two(A,p,r):\n",
        "  # as long as p<r, means the array size is greater than 1, divide in in two array\n",
        "  # and call merge_sort on both of them recursively\n",
        "  # Base case: when array size is 1 or lower (p<s), return the array\n",
        "  if p < r:\n",
        "      q = int((p+r)/2)\n",
        "      merge_sort_two(A,p,q) ### T(n) = 2T(n/2) + O(n) for merging\n",
        "      merge_sort_two(A,q+1,r)\n",
        "      merge_two(A,p,q,r)\n",
        "  return(A)\n",
        "\n",
        "\n",
        "  # raise NotImplementedError()"
      ],
      "execution_count": 0,
      "outputs": []
    },
    {
      "cell_type": "markdown",
      "metadata": {
        "id": "2oPi4FvmjT2T",
        "colab_type": "text"
      },
      "source": [
        "**Understanding the complexity:**\n",
        "\n",
        "**2-way Merge Sort:**\n",
        "\n",
        "```\n",
        "# This is formatted as code\n",
        "```\n",
        "\n",
        "\n",
        "\n",
        "*merge_two:* It run's through the every element of the array. $\\therefore$ complexity: $O(n)$\n",
        "\n",
        "*merge_sort_two:* Everytime calling two array with (n/2) elements and use both of them. Base case is when n = 1. After reaching it comes back using *merge_two* in each of the node, whose complexity is $O(n)$.\n",
        "So, the recurrance will be,\n",
        "\n",
        "$T(n) = 2T(n/2) + O(n)$\n",
        "\n",
        "Solving the recurrance using the following tree method, we get,\n",
        "\n",
        "Complexity = $O(n\\,log_2n)$"
      ]
    },
    {
      "cell_type": "markdown",
      "metadata": {
        "id": "oN03gGDslfpZ",
        "colab_type": "text"
      },
      "source": [
        "**3-way Merge Sort:**\n",
        "\n",
        "*merge_three:* It run's through the every element of the array. $\\therefore$ complexity: $O(n)$\n",
        "\n",
        "*three_way_merge:* Everytime calling three array with (n/3) elements and use all of them. Base case is when n = 1. After reaching it comes back using *merge_three* in each of the node, whose complexity is $O(n)$.\n",
        "So, the recurrance will be,\n",
        "\n",
        "$T(n) = 3T(n/3) + O(n)$\n",
        "\n",
        "Solving the recurrance using the following tree method, we get,\n",
        "\n",
        "Complexity = $O(n\\,log_3n)$"
      ]
    },
    {
      "cell_type": "markdown",
      "metadata": {
        "id": "4po2O6wEl2Wh",
        "colab_type": "text"
      },
      "source": [
        "**Extended-3-way Merge Sort:**\n",
        "\n",
        "*merge_three:* It run's through the every element of the array. $\\therefore$ complexity: $O(n)$\n",
        "\n",
        "*bubbleSort:* It run's through every element (i = 1 to n) and in each time, cheking by another loop from i to n. $\\therefore$ complexity: $O(n(n-1)) = O(n^2)$\n",
        "\n",
        "*extended_merge_sort_three:* Everytime calling three array with (n/3) elements and use both of them. Base case is when n = 3, when it sorts using bubbleSort ($O(n^2)$). After reaching base case comes back using *merge_two* in each of the node, whose complexity is $O(n)$.\n",
        "So, the recurrance will be,\n",
        "\n",
        "$T(n) = 3T(n/2) +$ complexity in each node.\n",
        "Complexity in each node: $O(n)$ when $n>3$ (merge_two) and $O(n^2)$ when $n\\leq3$ (bubbleSort).\n",
        "\n",
        "Solving the recurrance using the following tree method, we get,\n",
        "\n",
        "Complexity = $O(n\\,log_3n)$\n",
        "\n",
        "\n",
        "But when input array size is less than or equal 3, it will only use bubbleSort of complexity $O(n^2)$"
      ]
    },
    {
      "cell_type": "markdown",
      "metadata": {
        "id": "gPV4WuVepw5y",
        "colab_type": "text"
      },
      "source": [
        " **Running time of different algorithm for different input size and different array** "
      ]
    },
    {
      "cell_type": "code",
      "metadata": {
        "id": "WDHOLfK8SR-w",
        "colab_type": "code",
        "outputId": "1b9ba417-77c0-4fd8-ce3b-7b752bbbd6ec",
        "colab": {
          "base_uri": "https://localhost:8080/",
          "height": 294
        }
      },
      "source": [
        "import matplotlib.pyplot as plt\n",
        "%matplotlib inline\n",
        "import time\n",
        "\n",
        "time_merge_two = []\n",
        "time_merge_three = []\n",
        "time_merge_three_bubble = []\n",
        "\n",
        "for k in range(1,25):\n",
        "  list_k = [i for i in range(100*k, 0, -1)]\n",
        "\n",
        "  start = time.clock()\n",
        "  merge_sort_two(list_k, 0, len(list_k)-1)\n",
        "  end = time.clock()\n",
        "  time_merge_two.append(end-start)\n",
        "\n",
        "  start = time.clock()\n",
        "  three_way_merge(list_k)\n",
        "  end = time.clock()\n",
        "  time_merge_three.append(end-start)\n",
        "\n",
        "  start = time.clock()\n",
        "  extended_three_way_merge(list_k)\n",
        "  end = time.clock()\n",
        "  time_merge_three_bubble.append(end-start)\n",
        "\n",
        "  \n",
        "\n",
        "k = range(1,25)\n",
        "plt.plot(k,time_merge_two,'b')\n",
        "plt.plot(k,time_merge_three,'g')\n",
        "plt.plot(k,time_merge_three_bubble,'r')\n",
        "plt.xlabel('k = n/100')\n",
        "plt.ylabel('Time elapsed(s)')\n",
        "plt.legend(['2-way Merge','3-way Merge','Extended-3-way Merge'])\n",
        "plt.title(\"Time of diffferent sorting algorithm when input array is in reversed order\")\n",
        "plt.show()"
      ],
      "execution_count": 0,
      "outputs": [
        {
          "output_type": "display_data",
          "data": {
            "image/png": "[encoded data removed]",
            "text/plain": [
              "<Figure size 432x288 with 1 Axes>"
            ]
          },
          "metadata": {
            "tags": []
          }
        }
      ]
    },
    {
      "cell_type": "code",
      "metadata": {
        "id": "-pJ1-yTqTz_I",
        "colab_type": "code",
        "outputId": "49702249-f7d3-4ccd-e38d-35214a896690",
        "colab": {
          "base_uri": "https://localhost:8080/",
          "height": 294
        }
      },
      "source": [
        "import matplotlib.pyplot as plt\n",
        "%matplotlib inline\n",
        "import time\n",
        "\n",
        "time_merge_two = []\n",
        "time_merge_three = []\n",
        "time_merge_three_bubble = []\n",
        "\n",
        "import random\n",
        "for k in range(1,16):\n",
        "  list_k = random.choices(range(-10000, 10000), k = 100*k)\n",
        "\n",
        "  start = time.clock()\n",
        "  three_way_merge(list_k)\n",
        "  end = time.clock()\n",
        "  time_merge_three.append(end-start)\n",
        "\n",
        "  start = time.clock()\n",
        "  extended_three_way_merge(list_k)\n",
        "  end = time.clock()\n",
        "  time_merge_three_bubble.append(end-start)\n",
        "\n",
        "  start = time.clock()\n",
        "  merge_sort_two(list_k, 0, len(list_k)-1)\n",
        "  end = time.clock()\n",
        "  time_merge_two.append(end-start)\n",
        "\n",
        "k = range(1,16)\n",
        "plt.plot(k,time_merge_two,'b')\n",
        "plt.plot(k,time_merge_three,'g')\n",
        "plt.plot(k,time_merge_three_bubble,'r')\n",
        "plt.xlabel('k = n/100')\n",
        "plt.ylabel('Time elapsed(s)')\n",
        "plt.legend(['2-way Merge','3-way Merge','Extended-3-way Merge'])\n",
        "plt.title(\"Time of diffferent sorting algorithm when input array is random\")\n",
        "plt.show()"
      ],
      "execution_count": 0,
      "outputs": [
        {
          "output_type": "display_data",
          "data": {
            "image/png": "[encoded data removed]",
            "text/plain": [
              "<Figure size 432x288 with 1 Axes>"
            ]
          },
          "metadata": {
            "tags": []
          }
        }
      ]
    },
    {
      "cell_type": "code",
      "metadata": {
        "id": "kHBcZiAAUj5Y",
        "colab_type": "code",
        "colab": {}
      },
      "source": [
        ""
      ],
      "execution_count": 0,
      "outputs": []
    },
    {
      "cell_type": "markdown",
      "metadata": {
        "deletable": false,
        "editable": false,
        "nbgrader": {
          "checksum": "182abfd4b5c161d778fd41c1c59b1b0d",
          "grade": false,
          "grade_id": "cell-f6182ad360cf8184",
          "locked": true,
          "schema_version": 1,
          "solution": false
        },
        "id": "s_-Hzrqg3T34",
        "colab_type": "text"
      },
      "source": [
        "## Question 7. [#ComplexityAnalysis, #ComputationalCritique] \n",
        "\n",
        "Analyze and compare the practical run times of regular merge sort (i.e., two-way merge sort), Bucket sort, and extended_bucket_sort by producing a plot that illustrates how the algorithms' runtimes depend on both the input size and the nature of the input (e.g., totally randomized inputs vs inversely sorted inputs). Make sure to:\n",
        "\n",
        "1. define what each algorithm's complexity is in terms of the BigO notation\n",
        "2. enumerate the explicit assumptions made to assess each algorithm's run time\n",
        "3. analyze the running times on inputs of at least three different natures\n",
        "4. and compare your benchmarks with the theoretical result we have discussed in class.\n"
      ]
    },
    {
      "cell_type": "markdown",
      "metadata": {
        "id": "YL1budeppprr",
        "colab_type": "text"
      },
      "source": [
        "**Complexity for each of the algorithms:** *italicized text*\n",
        "\n",
        "- Two-way merge sort --  $O(n\\,log_2n)$ \n",
        "- Bucket Sort --  $O(n^2)$ \n",
        "- Bucket Recursive Sort --  $O(n^2)$  for  $n≤k$ ,  $O(log_k n)$  for  $n>k$"
      ]
    },
    {
      "cell_type": "markdown",
      "metadata": {
        "id": "RgJfhcVJnudu",
        "colab_type": "text"
      },
      "source": [
        "**Understanding the complexity:**\n",
        "\n",
        "**2-way Merge:** As shown earlier, complexity: $O(n\\,log_2n)$"
      ]
    },
    {
      "cell_type": "markdown",
      "metadata": {
        "id": "_51w7XUxn-d7",
        "colab_type": "text"
      },
      "source": [
        "**Bucket Sort:**\n",
        "\n",
        "*get_bucket_num:* When the element's bucket is the last one, it run through the every bucket.\n",
        "So in worst case, complexity: $O(k) = O(1)$ (k = constant)\n",
        "\n",
        "*bucket_sort:*\n",
        "\n",
        "- Create empty buckets: $O(k) = O(1)$\n",
        "- Find every element's bucket number:\n",
        "  - Selecting each elements of the array: $O(n)$\n",
        "  - *get_bucket_num:* $O(k)$\n",
        "  - Total: $O(n) * O(k) = O(kn) = O(n)$ \n",
        "- Sorting the buckets:\n",
        "  - Selecting each bucket: $O(k)$\n",
        "  - bubbleSort to sorting them: $O(n/k)^2$\n",
        "  - Total: $O(k) * O(n/k)^2 = O(n^2)$\n",
        "\n",
        "All three of them are going to add up and the largest of them is $O(n^2)$. $\\therefore$ Complexity: $O(n^2)$"
      ]
    },
    {
      "cell_type": "markdown",
      "metadata": {
        "id": "oBMgQMFOpcAd",
        "colab_type": "text"
      },
      "source": [
        "**Extended Bucket Sort:**\n",
        "\n",
        "*get_bucket_num:* When the element's bucket is the last one, it run through the every bucket.\n",
        "So in worst case, complexity: $O(k) = O(1)$ (k = constant)\n",
        "\n",
        "*extended_bucket_sort:*\n",
        "\n",
        "- Create empty buckets: $O(k) = O(1)$\n",
        "- Find every element's bucket number:\n",
        "  - Selecting each elements of the array: $O(n)$\n",
        "  - *get_bucket_num:* $O(k)$\n",
        "  - Total: $O(n) * O(k) = O(kn) = O(n)$ \n",
        "- Sorting the buckets:\n",
        "  - Selecting each bucket: $O(k)$\n",
        "  - Every time call the *extended_bucket_sort* recursively. So, in worst case, in all k buckets, there will be (n/k) elements. So the recurrance will be:\n",
        "  $T(n) = k T(n/k) +$ complexity at each node.\n",
        "\n",
        "  - Complexity at each node: \n",
        "    - $O(n)$ when $n>k$, as when we call the bucket sort again, it takes $O(n)$ time to find every element's bucket number.\n",
        "\t- $O(n^2)$, when $n\\leq k$ for bubbleSort\n",
        "\n",
        "Solving the recurrance by following tree method, we get the complexity: $O(n\\,log_kn)$\n",
        "\n",
        "But when input array size is less than k, it will only use bubbleSort of complexity $O(n^2)$"
      ]
    },
    {
      "cell_type": "markdown",
      "metadata": {
        "id": "nkWpwvYTpXIB",
        "colab_type": "text"
      },
      "source": [
        "#### Plotting the running times for different array type"
      ]
    },
    {
      "cell_type": "code",
      "metadata": {
        "deletable": false,
        "nbgrader": {
          "checksum": "dace8b567522d6b9040779f6fcf6dafd",
          "grade": true,
          "grade_id": "cell-76dce7d4abf57157",
          "locked": false,
          "points": 0,
          "schema_version": 1,
          "solution": true
        },
        "id": "0zEZqSFv3T35",
        "colab_type": "code",
        "outputId": "c58141fe-ce44-4f01-a02f-0186a2c6884f",
        "colab": {
          "base_uri": "https://localhost:8080/",
          "height": 294
        }
      },
      "source": [
        "import matplotlib.pyplot as plt\n",
        "%matplotlib inline\n",
        "import time\n",
        "\n",
        "time_merge_two = []\n",
        "time_bucket = []\n",
        "time_bucket_recursive = []\n",
        "\n",
        "for k in range(1,16):\n",
        "  list_k = [i for i in range(100*k, 0, -1)]\n",
        "\n",
        "  start = time.clock()\n",
        "  bucket_sort(list_k, 6)\n",
        "  end = time.clock()\n",
        "  time_bucket.append(end-start)\n",
        "\n",
        "  start = time.clock()\n",
        "  extended_bucket_sort(list_k, 6)\n",
        "  end = time.clock()\n",
        "  time_bucket_recursive.append(end-start)\n",
        "\n",
        "  start = time.clock()\n",
        "  merge_sort_two(list_k, 0, len(list_k)-1)\n",
        "  end = time.clock()\n",
        "  time_merge_two.append(end-start)\n",
        "    \n",
        "k = range(1,16)\n",
        "plt.plot(k,time_merge_two,'b')\n",
        "plt.plot(k,time_bucket,'g')\n",
        "plt.plot(k,time_bucket_recursive,'r')\n",
        "plt.xlabel('k = n/100')\n",
        "plt.ylabel('Time elapsed(s)')\n",
        "plt.legend(['2-way Merge','Bucket Sort','Bucket Recursive Sort'])\n",
        "plt.title(\"Time of diffferent sorting algorithm when input array is in reversed order\")\n",
        "plt.show()"
      ],
      "execution_count": 0,
      "outputs": [
        {
          "output_type": "display_data",
          "data": {
            "image/png": "[encoded data removed]",
            "text/plain": [
              "<Figure size 432x288 with 1 Axes>"
            ]
          },
          "metadata": {
            "tags": []
          }
        }
      ]
    },
    {
      "cell_type": "code",
      "metadata": {
        "id": "QVdS6LKanYyQ",
        "colab_type": "code",
        "outputId": "a0b1a1e2-a0d9-4cbd-df5f-b4efdc987022",
        "colab": {
          "base_uri": "https://localhost:8080/",
          "height": 294
        }
      },
      "source": [
        "time_merge_two = []\n",
        "time_bucket = []\n",
        "time_bucket_recursive = []\n",
        "\n",
        "for k in range(1,16):\n",
        "  list_k = [i for i in range(0, 100*k, 1)]\n",
        "\n",
        "  start = time.clock()\n",
        "  bucket_sort(list_k, 6)\n",
        "  end = time.clock()\n",
        "  time_bucket.append(end-start)\n",
        "\n",
        "  start = time.clock()\n",
        "  extended_bucket_sort(list_k, 6)\n",
        "  end = time.clock()\n",
        "  time_bucket_recursive.append(end-start)\n",
        "\n",
        "  start = time.clock()\n",
        "  merge_sort_two(list_k, 0, len(list_k)-1)\n",
        "  end = time.clock()\n",
        "  time_merge_two.append(end-start)\n",
        "    \n",
        "\n",
        "k = range(1,16)\n",
        "plt.plot(k,time_merge_two,'b')\n",
        "plt.plot(k,time_bucket,'g')\n",
        "plt.plot(k,time_bucket_recursive,'r')\n",
        "plt.xlabel('k = n/100')\n",
        "plt.ylabel('Time elapsed(s)')\n",
        "plt.legend(['2-way Merge','Bucket Sort','Bucket Recursive Sort'])\n",
        "plt.title(\"Time of diffferent sorting algorithm when input array is sorted\")\n",
        "plt.show()\n"
      ],
      "execution_count": 0,
      "outputs": [
        {
          "output_type": "display_data",
          "data": {
            "image/png": "[encoded data removed]",
            "text/plain": [
              "<Figure size 432x288 with 1 Axes>"
            ]
          },
          "metadata": {
            "tags": []
          }
        }
      ]
    },
    {
      "cell_type": "code",
      "metadata": {
        "id": "d-DLui9doWko",
        "colab_type": "code",
        "outputId": "653ddc93-7c84-493b-8bb1-d376e15ea6f8",
        "colab": {
          "base_uri": "https://localhost:8080/",
          "height": 294
        }
      },
      "source": [
        "time_merge_two = []\n",
        "time_bucket = []\n",
        "time_bucket_recursive = []\n",
        "\n",
        "import random\n",
        "for k in range(1,16):\n",
        "  list_k = random.choices(range(-10000, 10000), k = 100*k)\n",
        "\n",
        "  start = time.clock()\n",
        "  bucket_sort(list_k, 6)\n",
        "  end = time.clock()\n",
        "  time_bucket.append(end-start)\n",
        "\n",
        "  start = time.clock()\n",
        "  extended_bucket_sort(list_k, 6)\n",
        "  end = time.clock()\n",
        "  time_bucket_recursive.append(end-start)\n",
        "\n",
        "  start = time.clock()\n",
        "  merge_sort_two(list_k, 0, len(list_k)-1)\n",
        "  end = time.clock()\n",
        "  time_merge_two.append(end-start)\n",
        "    \n",
        "\n",
        "k = range(1,16)\n",
        "plt.plot(k,time_merge_two,'b')\n",
        "plt.plot(k,time_bucket,'g')\n",
        "plt.plot(k,time_bucket_recursive,'r')\n",
        "plt.xlabel('k = n/100')\n",
        "plt.ylabel('Time elapsed(s)')\n",
        "plt.legend(['2-way Merge','Bucket Sort','Bucket Recursive Sort'])\n",
        "plt.title(\"Time of diffferent sorting algorithm when input array is random\")\n",
        "plt.show()\n"
      ],
      "execution_count": 0,
      "outputs": [
        {
          "output_type": "display_data",
          "data": {
            "image/png": "[encoded data removed]",
            "text/plain": [
              "<Figure size 432x288 with 1 Axes>"
            ]
          },
          "metadata": {
            "tags": []
          }
        }
      ]
    },
    {
      "cell_type": "code",
      "metadata": {
        "id": "ppSjmpUzpbtP",
        "colab_type": "code",
        "outputId": "a08fe1f5-eb84-4458-b1f2-0d68f71ec2ff",
        "colab": {
          "base_uri": "https://localhost:8080/",
          "height": 294
        }
      },
      "source": [
        "time_merge_two = []\n",
        "time_bucket = []\n",
        "time_bucket_recursive = []\n",
        "\n",
        "import random\n",
        "for k in range(1,16):\n",
        "  list_k = random.sample(range(-10000, 10000), k = 100*k)\n",
        "\n",
        "  start = time.clock()\n",
        "  bucket_sort(list_k, 6)\n",
        "  end = time.clock()\n",
        "  time_bucket.append(end-start)\n",
        "\n",
        "  start = time.clock()\n",
        "  extended_bucket_sort(list_k, 6)\n",
        "  end = time.clock()\n",
        "  time_bucket_recursive.append(end-start)\n",
        "\n",
        "  start = time.clock()\n",
        "  merge_sort_two(list_k, 0, len(list_k)-1)\n",
        "  end = time.clock()\n",
        "  time_merge_two.append(end-start)\n",
        "    \n",
        "\n",
        "k = range(1,16)\n",
        "plt.plot(k,time_merge_two,'b')\n",
        "plt.plot(k,time_bucket,'g')\n",
        "plt.plot(k,time_bucket_recursive,'r')\n",
        "plt.xlabel('k = n/100')\n",
        "plt.ylabel('Time elapsed(s)')\n",
        "plt.legend(['2-way Merge','Bucket Sort','Bucket Recursive Sort'])\n",
        "plt.title(\"Time of diffferent sorting algorithm when input array is random without replacement\")\n",
        "plt.show()\n"
      ],
      "execution_count": 0,
      "outputs": [
        {
          "output_type": "display_data",
          "data": {
            "image/png": "[encoded data removed]",
            "text/plain": [
              "<Figure size 432x288 with 1 Axes>"
            ]
          },
          "metadata": {
            "tags": []
          }
        }
      ]
    },
    {
      "cell_type": "markdown",
      "metadata": {
        "deletable": false,
        "editable": false,
        "nbgrader": {
          "checksum": "72149ac74d7f27ebbcdeaa8dd8419c1f",
          "grade": false,
          "grade_id": "cell-3c5032287675ae90",
          "locked": true,
          "schema_version": 1,
          "solution": false
        },
        "id": "zAcbJsBj3T38",
        "colab_type": "text"
      },
      "source": [
        "## [Optional challenge] Question 8 (#SortingAlgorithm and/or #ComputationalCritique) \n",
        "\n",
        "Implement k-way merge sort, where the user specifies k. Develop and run experiments to support a hypothesis about the “best” value of k.\n"
      ]
    },
    {
      "cell_type": "code",
      "metadata": {
        "deletable": false,
        "nbgrader": {
          "checksum": "26d404273e9e57cc94a872d6ab25b565",
          "grade": true,
          "grade_id": "cell-30f70f3f9d3ec067",
          "locked": false,
          "points": 0,
          "schema_version": 1,
          "solution": true
        },
        "id": "A6zW4_dm3T39",
        "colab_type": "code",
        "outputId": "133ba67f-84e0-4567-c40c-ae07954589ba",
        "colab": {
          "base_uri": "https://localhost:8080/",
          "height": 130
        }
      },
      "source": [
        "def merge_k(A, p, middle, s):\n",
        "  # create three array and copied the elements from Array A\n",
        " \n",
        "  k = len(middle) + 1\n",
        "  buckets = []\n",
        "  for i in range(k):\n",
        "    buckets.append([])\n",
        "  \n",
        "  bucket[0] = A[p:middle[0]+1]\n",
        "  for i in range(1,len(middle)):\n",
        "    buckets[i] = A[middle[i-1]:middle[i]+1]\n",
        "  \n",
        "  bucket[k-1] = A[middle[-1]+1:s+1]\n",
        "\n",
        "  for i in range(k):\n",
        "    buckets[i] = np.append(buckets[i], float('INF'))\n",
        "\n",
        "\n",
        "\n",
        "\n",
        "  indices = np.zeros(k)\n",
        "\n",
        "  for i in range(p,s+1):\n",
        "    min_num = buckets[0][indices[0]]\n",
        "    min_bucket = 0\n",
        "    for j in range(1,k):\n",
        "      if (buckets[j][indices[j]]) < min_num) :\n",
        "        min_num = buckets[j][indices[j]]\n",
        "        min_bucket = j\n",
        "    A[i] = min_num\n",
        "    indices[min_bucket] += 1\n",
        "  \n",
        "  return A\n",
        "\n",
        "\n",
        "def k_way_merge(arr, k):\n",
        "    \"\"\"Implements k-way marge sort\n",
        "    \n",
        "    Input:\n",
        "    arr: a Python list OR numpy array (your code should work with both of these data types)\n",
        "    \n",
        "    Output: a sorted Python list\"\"\"\n",
        "    \n",
        "    arr = np.array(arr)\n",
        "    s = len(arr) - 1\n",
        "    p = 0\n",
        "\n",
        "    if p < s:\n",
        "        middle = []\n",
        "        for i in range(k-1):\n",
        "          middle[i] = \n",
        "        q = int((p+s)/3)\n",
        "        r = int(2*(p+s)/3)\n",
        "        arr[:q+1] = three_way_merge(arr[:q+1])\n",
        "        arr[q+1:r+1] = three_way_merge(arr[q+1:r+1])\n",
        "        arr[r+1:] = three_way_merge(arr[r+1:])\n",
        "        merge_three(arr,p,q,r,s)\n",
        "    return(list(arr))\n",
        "\n",
        "raise NotImplementedError()"
      ],
      "execution_count": 0,
      "outputs": [
        {
          "output_type": "error",
          "ename": "SyntaxError",
          "evalue": "ignored",
          "traceback": [
            "\u001b[0;36m  File \u001b[0;32m\"<ipython-input-348-536e0e6d21b5>\"\u001b[0;36m, line \u001b[0;32m30\u001b[0m\n\u001b[0;31m    if (buckets[j][indices[j]]) < min_num) :\u001b[0m\n\u001b[0m                                         ^\u001b[0m\n\u001b[0;31mSyntaxError\u001b[0m\u001b[0;31m:\u001b[0m invalid syntax\n"
          ]
        }
      ]
    },
    {
      "cell_type": "code",
      "metadata": {
        "id": "_ipzmE4is_pG",
        "colab_type": "code",
        "colab": {}
      },
      "source": [
        ""
      ],
      "execution_count": 0,
      "outputs": []
    }
  ]
}