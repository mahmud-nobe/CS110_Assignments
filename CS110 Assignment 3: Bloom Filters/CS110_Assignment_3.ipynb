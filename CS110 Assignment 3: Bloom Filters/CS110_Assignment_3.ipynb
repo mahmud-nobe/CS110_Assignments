{
  "nbformat": 4,
  "nbformat_minor": 0,
  "metadata": {
    "kernelspec": {
      "display_name": "Python 3",
      "language": "python",
      "name": "python3"
    },
    "language_info": {
      "codemirror_mode": {
        "name": "ipython",
        "version": 3
      },
      "file_extension": ".py",
      "mimetype": "text/x-python",
      "name": "python",
      "nbconvert_exporter": "python",
      "pygments_lexer": "ipython3",
      "version": "3.6.5"
    },
    "colab": {
      "name": "CS110 Assignment 3",
      "provenance": [],
      "include_colab_link": true
    }
  },
  "cells": [
    {
      "cell_type": "markdown",
      "metadata": {
        "id": "view-in-github",
        "colab_type": "text"
      },
      "source": [
        "<a href=\"https://colab.research.google.com/github/mahmud-nobe/CS110_Assignments/blob/master/CS110%20Assignment%203%3A%20Bloom%20Filters/CS110_Assignment_3.ipynb\" target=\"_parent\"><img src=\"https://colab.research.google.com/assets/colab-badge.svg\" alt=\"Open In Colab\"/></a>"
      ]
    },
    {
      "cell_type": "markdown",
      "metadata": {
        "id": "Q_2E6rSRQLLE",
        "colab_type": "text"
      },
      "source": [
        "Before you turn this problem in, make sure everything runs as expected. First, **restart the kernel** (in the menubar, select Kernel$\\rightarrow$Restart) and then **run all cells** (in the menubar, select Cell$\\rightarrow$Run All).\n",
        "\n",
        "Make sure you fill in any place that says `YOUR CODE HERE` or \"YOUR ANSWER HERE\", as well as your name and collaborators below:"
      ]
    },
    {
      "cell_type": "code",
      "metadata": {
        "id": "j7dPGE1iQLLG",
        "colab_type": "code",
        "colab": {}
      },
      "source": [
        "NAME = \"\"\n",
        "COLLABORATORS = \"\""
      ],
      "execution_count": 0,
      "outputs": []
    },
    {
      "cell_type": "markdown",
      "metadata": {
        "id": "GzhnQLkhQLLK",
        "colab_type": "text"
      },
      "source": [
        "---"
      ]
    },
    {
      "cell_type": "markdown",
      "metadata": {
        "deletable": false,
        "editable": false,
        "nbgrader": {
          "checksum": "e5d2038e11c57d2abd9d2c24d9421273",
          "grade": false,
          "grade_id": "cell-26967b3698cd6565",
          "locked": true,
          "schema_version": 1,
          "solution": false
        },
        "id": "C5JGSswBQLLL",
        "colab_type": "text"
      },
      "source": [
        "\n",
        "# CS110 Spring 2020 Assignment - Indexing Techniques and Data Structures.\n",
        "\n",
        "\n",
        "## Overview\n",
        "\n",
        " In this assignment, you  will research  Counting Bloom Filters (CBFs), which are data structures that extend the standard Bloom Filters. You will design and implement in Python a set of CBFs initialized at a given false positive rate, and will need to summarize your findings in a report. A report structured has been provided for you in the form of enumerated tasks, which you should follow.\n",
        " \n",
        " ## Intended Style and Key Audience\n",
        " \n",
        "Your report needs to be written in the style of a chapter from the Cormen textbook (i.e., exhibiting academic rigor and clear explanations) or a Wikipedia page on the subject (i.e., a general overview on a topic that will be peer-reviewed by the world-wide community). Thus, with a beginner’s audience in mind, your report needs to: \n",
        "\n",
        "* Carefully explain the concepts of a CBFs, \n",
        "* Include details on your CBFs design, \n",
        "* Perform an analysis of your implementation and experimental results pertaining to your Python implementation and \n",
        "* Perform a critical comparison analysis between the experimental results and the theoretically predicted ones. \n",
        "* Use the provided code cells to include all your code, and if these are not enough, please add more cells which you deem necessary.\n",
        "* Use the same function names provided in the template. \n",
        "* Thoroughly describe the algorithmic strategies you are employing in a given question. To do so, feel free to include extra Markdown cells whenever relevant--you may find this [how-to-guide](https://medium.com/analytics-vidhya/the-ultimate-markdown-guide-for-jupyter-notebook-d5e5abf728fd) helpful. \n",
        "\n",
        "Make sure you properly cite your sources of information. \n",
        "\n",
        "## Notes on the Submission Materials\n",
        "\n",
        "1. Your **first resource** should be a PDF file created from the Jupyter notebook template provided in these instructions. If your name is “Dumbledore”, your PDF should be named “Dumbledore.pdf”.\n",
        "2. Your **second resource** must be a single Jupyter Notebook named “Dumbledore.ipynb”. Alternatively, you can also submit a zip file that includes your Jupyter notebook, but please make sure to name it “Dumbledore.zip” (if your name is Dumbledore, the Jupyter notebook submitted as part of such zip file should still be named “Dumbledore.ipynb”!).\n",
        "\n",
        "## Notes on the Grading Rubrics\n",
        "\n",
        "* This is a strictly individual assignment. Everything you submit must reflect your own writing and coding. Please do refer to the course guidelines on the syllabus namely in what constitutes plagiarism. \n",
        "* All the tasks will be graded on the indicated companion LOs; please make sure to consult their descriptions and rubrics in the course syllabus to maximally align your approach to them. You will not be penalized for not attempting the optional challenge.\n",
        "* As per the course’s policy on the syllabus, you will need to footnote **at least three HCs** by including a meaningful justification of the application of each HC and how they enabled you to complete part of your work on this assignment. Please refer to [these guidelines](https://docs.google.com/document/d/1s7yOVOtMIaHQdKLeRmZbq1gRqwJKfezBsfru9Q6PcHw/edit) on how to incorporate HCs in your work.\n",
        "\n",
        "## Report Structured Tasks\n",
        "\n",
        "### Task 1. [#responsibility] [appropriate LO for the make-up work] \n",
        "\n",
        "Take a screenshot of your CS110 dashboard on Forum where the following is visible: \n",
        "* your name. \n",
        "* your absences for the course have been set to excused up to the end of week 7 (inclusively). Submit this screenshot as a PNG file on your Jupyter notebook. "
      ]
    },
    {
      "cell_type": "code",
      "metadata": {
        "deletable": false,
        "nbgrader": {
          "checksum": "128ce1269093d9e434af0c39cae9cdae",
          "grade": true,
          "grade_id": "cell-bc6c759845183c37",
          "locked": false,
          "points": 0,
          "schema_version": 1,
          "solution": true
        },
        "id": "PKqbHDwOQLLM",
        "colab_type": "code",
        "colab": {}
      },
      "source": [
        "# YOUR CODE HERE\n",
        "raise NotImplementedError()"
      ],
      "execution_count": 0,
      "outputs": []
    },
    {
      "cell_type": "markdown",
      "metadata": {
        "deletable": false,
        "editable": false,
        "nbgrader": {
          "checksum": "8469a85198e41dc824049110ffbbc6f3",
          "grade": false,
          "grade_id": "cell-a9085d1cfd0bf0e1",
          "locked": true,
          "schema_version": 1,
          "solution": false
        },
        "id": "VZRNYuYWQLLQ",
        "colab_type": "text"
      },
      "source": [
        "### Task 2.  [#ComputationalSolutions, #DataStructures, #ComplexityAnalysis]  \n",
        "\n",
        "Write a summary  of the CBFs as an indexing technique, with their underlying data structure and  hashing functionality. This is,  list all the operations they support. For all CBF operations, include an analysis of their asymptotic order growth (complexity analysis). Give a few examples of practical, real-life computational applications that can benefit from using CBFs and carefully justify why. "
      ]
    },
    {
      "cell_type": "markdown",
      "metadata": {
        "deletable": false,
        "nbgrader": {
          "checksum": "89b640ab4f7518099d2ca503738991ab",
          "grade": true,
          "grade_id": "cell-b0a98c487d3be44b",
          "locked": false,
          "points": 0,
          "schema_version": 1,
          "solution": true
        },
        "id": "DMLbkrkuQLLR",
        "colab_type": "text"
      },
      "source": [
        "YOUR ANSWER HERE"
      ]
    },
    {
      "cell_type": "markdown",
      "metadata": {
        "id": "oV7e1Lv_QLLS",
        "colab_type": "text"
      },
      "source": [
        "### Task 3. [#DataStructures, #PythonProgramming, #CodeReadability] \n",
        "\n",
        "Implement in Python 3 your designed CBFs data structure and all its operations using the code template below. Make sure you carefully organize your Python code, write meaningful comments (feel free to use [docstrings](https://www.python.org/dev/peps/pep-0257/)), and provide a thorough justification for your choice of hash functions. \n",
        "\n",
        "If you decide to use the Python library  `mmh3`,  you will need to provide a thorough explanation of why you have chosen the hashing functions therein. You may also use  `numpy`, `matplotlib`, `random`, `statistics`, and `math`. If you plan to use any other external library not mentioned in this list, you will need to contact your instructor first for validation.\n",
        "\n",
        "Make sure to strictly follow the honor code as any plagiarism attempt will be referred to the ASC. Please refer to [resource1](https://new.library.arizona.edu/research/citing/plagiarism) and [resource2](https://poorvucenter.yale.edu/writing/using-sources/understanding-and-avoiding-plagiarism/what-plagiarism), which specify what constitutes plagiarism. \n",
        "\n",
        "Demonstrate how your code works by inserting a list of words in [Shakespeare’s works](https://ocw.mit.edu/ans7870/6/6.006/s08/lecturenotes/files/t8.shakespeare.txt). The following lines of code will create such a list of words in Python:\n",
        "\n",
        "```python\n",
        "txt_file = open(\"t8.shakespeare.txt\", \"r\")\n",
        "\n",
        "entries = txt_file.read().split(' ')\n",
        "lines = [string.replace('\\n', '') for string in entries]\n",
        "all_text = [line for line in lines if line != '']\n",
        "```\n",
        "\n",
        "Feel free to use another interesting dataset for further validation, but this is optional."
      ]
    },
    {
      "cell_type": "code",
      "metadata": {
        "id": "TwrjbpYJQLLT",
        "colab_type": "code",
        "colab": {}
      },
      "source": [
        "# Feel free to define additional classes that you think are helpful \n",
        "# in building this class of CountingBloomFilter \n",
        "\n",
        "import numpy as np\n",
        "# import mmh3\n",
        "\n",
        "class CountingBloomFilter(object):\n",
        "    \"\"\"Implement the counting bloom filter which supports:\n",
        "    - search: queries the membership of an element\n",
        "    - insert: inserts a string to the filter\n",
        "    - delete: removes a string from the filter \n",
        "    \n",
        "    Feel free to define any helpful additional methods.\n",
        "    \"\"\"\n",
        "    def __init__(self, num_item, fpr):\n",
        "        \"\"\"\n",
        "        /YOUR ARGUMENTS/ are the two parameters of your choice from the \n",
        "        following parameters of a CBF:\n",
        "        - fpr: float, false positive rate\n",
        "        - memory_size: int, memory size\n",
        "        - num_item: int, number of items stored\n",
        "        - num_hashfn: int, number of hash functions\n",
        "        \n",
        "        For example, if you choose fpr and memory_size, edit your __init__ to\n",
        "        `def __init__(self, memory_size, fpr)`\n",
        "        \"\"\"\n",
        "        # false positive rate\n",
        "        self.fpr = fpr\n",
        "\n",
        "        # memory size\n",
        "        self.memory_size = -1*int( (num_item * math.log(fpr)) / (math.log(2)**2) )\n",
        "        \n",
        "        # initialize an empty numpy array as our hash table\n",
        "        self.hash_table = np.zeros(self.memory_size, dtype= np.int8)\n",
        "\n",
        "        # number of hash functions\n",
        "        self.num_hashfn = 6 #TESTING\n",
        "    \n",
        "    def hash_cbf(self, item):\n",
        "        \"\"\"\n",
        "        Returns hash values of an item\n",
        "        [ADD ADDITIONAL DESCRIPTION, IF NEED BE]\n",
        "        \"\"\"\n",
        "        hashed_slots = []\n",
        "\n",
        "        for num in range(self.num_hashfn):\n",
        "          slot = mmh3.hash(item, seed = 5*num) % self.memory_size\n",
        "          hashed_slots.append(slot)\n",
        "\n",
        "        return hashed_slots\n",
        "    \n",
        "    def search(self, item):\n",
        "        \"\"\"\n",
        "        [YOUR FUNCTION DESCRIPTION]\n",
        "        \"\"\"\n",
        "        hashed_slots = self.hash_cbf(item)\n",
        "\n",
        "        for slot in hashed_slots:\n",
        "          if (self.hash_table[slot] == 0):\n",
        "            return False\n",
        "        \n",
        "        return True\n",
        "    \n",
        "    def insert(self, item):\n",
        "        \"\"\"\n",
        "        [YOUR FUNCTION DESCRIPTION]\n",
        "        \"\"\"\n",
        "        hashed_slots = self.hash_cbf(item)\n",
        "\n",
        "        for slot in hashed_slots:\n",
        "          self.hash_table[slot] += 1\n",
        "    \n",
        "    def delete(self, item):\n",
        "        \"\"\"\n",
        "        [YOUR FUNCTION DESCRIPTION]\n",
        "        \"\"\"\n",
        "        if (search(self, item)):\n",
        "          hashed_slots = self.hash_cbf(item)\n",
        "\n",
        "          for slot in hashed_slots:\n",
        "            self.hash_table[slot] -= 1\n",
        "        else:\n",
        "          KeyError('{} not found in counting_bloom_filter'.format(item))\n",
        "        \n"
      ],
      "execution_count": 0,
      "outputs": []
    },
    {
      "cell_type": "code",
      "metadata": {
        "id": "YBBgPqqRvXUc",
        "colab_type": "code",
        "colab": {}
      },
      "source": [
        "txt_file = open(\"t8.shakespeare.txt\", \"r\")\n",
        " \n",
        "entries = txt_file.read().split(' ')\n",
        "lines = [string.replace('\\n', '') for string in entries]\n",
        "all_text = [line for line in lines if line != '']"
      ],
      "execution_count": 0,
      "outputs": []
    },
    {
      "cell_type": "code",
      "metadata": {
        "id": "3Ii3tep3wT6F",
        "colab_type": "code",
        "colab": {}
      },
      "source": [
        "np.random.shuffle(all_text)\n",
        "nwords_to_add = int(len(all_text) * 0.7)\n",
        "\n",
        "present = all_text[:nwords_to_add]\n",
        "absent = all_text[nwords_to_add:]\n",
        "\n",
        "np.random.shuffle(present)\n",
        "np.random.shuffle(absent)"
      ],
      "execution_count": 0,
      "outputs": []
    },
    {
      "cell_type": "code",
      "metadata": {
        "id": "pL45BSlKxIbL",
        "colab_type": "code",
        "colab": {
          "base_uri": "https://localhost:8080/",
          "height": 255
        },
        "outputId": "1be80d35-0153-48ce-f5b6-daec35ee68db"
      },
      "source": [
        "num_item = 20\n",
        "fpr = 0.05\n",
        "\n",
        "CBFs = CountingBloomFilter(num_item, fpr)\n",
        "\n",
        "for word in present[:1000]:\n",
        "  CBFs.insert(word)\n",
        "\n",
        "testing_words = present[:1000] + absent[:500]\n",
        "\n",
        "true_positive = 0\n",
        "false_positive = 0\n",
        "\n",
        "for word in testing_words:\n",
        "  is_found = CBFs.search(word)\n",
        "\n",
        "  if (is_found and word not in present):\n",
        "    print(word)\n",
        "    false_positive += 1 \n",
        "  else:\n",
        "    true_positive += 1\n",
        "\n",
        "total_positive = false_positive + true_positive\n",
        "print('True Positive, False Positive, False Positive Rate:',true_positive, false_positive, false_positive/(total_positive))"
      ],
      "execution_count": 57,
      "outputs": [
        {
          "output_type": "stream",
          "text": [
            "glorify\n",
            "Eighty\n",
            "Taxation!\n",
            "fatal.\n",
            "ache\n",
            "fleshly\n",
            "DON\n",
            "spurs!\n",
            "playfellow.\n",
            "orderly;\n",
            "accoutrement,\n",
            "cicatrices\n",
            "bowsprit,\n",
            "True Positive, False Positive, False Positive Rate: 1487 13 0.008666666666666666\n"
          ],
          "name": "stdout"
        }
      ]
    },
    {
      "cell_type": "code",
      "metadata": {
        "id": "v5UUybI1fsa2",
        "colab_type": "code",
        "colab": {
          "base_uri": "https://localhost:8080/",
          "height": 119
        },
        "outputId": "fd199ba2-7ef7-416a-bb6c-a0c29f27b8c0"
      },
      "source": [
        "#testing shell\n",
        "\n",
        "import math\n",
        "\n",
        "#!pip install mmh3\n",
        "import mmh3\n",
        "mmh3.hash('foo', 1)\n",
        "\n",
        "item = 9\n",
        "print()\n",
        "print('{} not found in counting_bloom_filter'.format(item))\n",
        "import numpy as np\n",
        "slots = [1,2,3]\n",
        "key = np.array([3,0,0,0,7,5])\n",
        "np.append(key, 4)\n",
        "print(key[slots] == 0)\n",
        "print(key)\n",
        "#else:\n",
        " # print(slots)\n",
        "\n",
        "\n",
        "n = 10\n",
        "p = 0.6\n",
        "m =  -1*int( (n * math.log(p)) / (math.log(2)**2) )\n",
        "print(m) \n",
        "\n",
        "np.random.sample()"
      ],
      "execution_count": 31,
      "outputs": [
        {
          "output_type": "stream",
          "text": [
            "\n",
            "9 not found in counting_bloom_filter\n",
            "[ True  True  True]\n",
            "[3 0 0 0 7 5]\n",
            "10\n"
          ],
          "name": "stdout"
        },
        {
          "output_type": "execute_result",
          "data": {
            "text/plain": [
              "'him'"
            ]
          },
          "metadata": {
            "tags": []
          },
          "execution_count": 31
        }
      ]
    },
    {
      "cell_type": "code",
      "metadata": {
        "id": "wJNKCjtkAHAw",
        "colab_type": "code",
        "colab": {
          "base_uri": "https://localhost:8080/",
          "height": 68
        },
        "outputId": "a20b58c9-4ce1-4907-dccd-aac904efeecb"
      },
      "source": [
        "num_item = 20\n",
        "fpr = 0.05\n",
        "\n",
        "CBFs = CountingBloomFilter(num_item, fpr)\n",
        "print(CBFs.hash_table[:10])\n",
        "print(CBFs.memory_size)\n",
        "CBFs.memory_size = 10\n",
        "print(CBFs.memory_size)\n",
        "\n",
        "for word in present[:200]:\n",
        "  CBFs.insert(word)"
      ],
      "execution_count": 75,
      "outputs": [
        {
          "output_type": "stream",
          "text": [
            "[0 0 0 0 0 0 0 0 0 0]\n",
            "124\n",
            "10\n"
          ],
          "name": "stdout"
        }
      ]
    },
    {
      "cell_type": "code",
      "metadata": {
        "id": "3zzGn6ehA_CG",
        "colab_type": "code",
        "colab": {
          "base_uri": "https://localhost:8080/",
          "height": 34
        },
        "outputId": "cd009f14-cfd8-4970-a98c-c607df4c6cbd"
      },
      "source": [
        "len(CBFs.hash_table)\n",
        "print(CBFs.hash_table[:10])"
      ],
      "execution_count": 76,
      "outputs": [
        {
          "output_type": "stream",
          "text": [
            "[ 122  114  100  109 -123 -117  126  120  104 -123]\n"
          ],
          "name": "stdout"
        }
      ]
    },
    {
      "cell_type": "markdown",
      "metadata": {
        "deletable": false,
        "editable": false,
        "nbgrader": {
          "checksum": "e80f94d7ec5e70f525c050d9abd6a418",
          "grade": false,
          "grade_id": "cell-55313f6a52567abd",
          "locked": true,
          "schema_version": 1,
          "solution": false
        },
        "id": "sfW86lX1QLLW",
        "colab_type": "text"
      },
      "source": [
        "### Task 4 [#ComplexityAnalysis, #ComputationalCritique].\n",
        "\n",
        "Now you will verify the effectiveness of your CBF implementation by testing how well the implementation matches or diverges from the theoretical findings. The following tasks will help you make this computational analysis. Explicitly include any assumptions you have made to arrive at your results. If there are any discrepancies between the theory and the computational experiments, provide an explanation for these.\n",
        "\n",
        "1. [#DataStructures] Create several CBFs (at least 10) for different FPRs, and evaluate how the memory size scales with the FPR. \n",
        "2. [#DataStructures] How does the memory size scale with the number of items stored, for a fixed FPR?\n",
        "3. [#DataStructures, #ComplexityAnalysis] How does the actual FPR scale with the number of hash functions?\n",
        "4. [#DataStructures, #ComplexityAnalysis] How does the access time to hashed values scale with the number of items stored in a CBF kept at constant FPR?\n"
      ]
    },
    {
      "cell_type": "markdown",
      "metadata": {
        "deletable": false,
        "nbgrader": {
          "checksum": "f454ec05ad12849a094bb2017f596b7c",
          "grade": true,
          "grade_id": "cell-a1db8a260a21986a",
          "locked": false,
          "points": 0,
          "schema_version": 1,
          "solution": true
        },
        "id": "PzQR0iC4QLLX",
        "colab_type": "text"
      },
      "source": [
        "YOUR ANSWER HERE"
      ]
    },
    {
      "cell_type": "markdown",
      "metadata": {
        "deletable": false,
        "editable": false,
        "nbgrader": {
          "checksum": "d7f70354cd73ab5698686a0264a7bd48",
          "grade": false,
          "grade_id": "cell-2b3ef79d47e4e5d8",
          "locked": true,
          "schema_version": 1,
          "solution": false
        },
        "id": "pBVWtxDpQLLY",
        "colab_type": "text"
      },
      "source": [
        "### Task 5. [#ComputationalCritique]\n",
        "\n",
        "Identify and list (if any) corner cases for CBFs. Explain why these cases should be taken into account if you are a software engineer.\n"
      ]
    },
    {
      "cell_type": "markdown",
      "metadata": {
        "deletable": false,
        "nbgrader": {
          "checksum": "152195ee2616469d23c43456f16aadb0",
          "grade": true,
          "grade_id": "cell-dfe791e15f2fe896",
          "locked": false,
          "points": 0,
          "schema_version": 1,
          "solution": true
        },
        "id": "wgkuCdVWQLLZ",
        "colab_type": "text"
      },
      "source": [
        "YOUR ANSWER HERE"
      ]
    }
  ]
}