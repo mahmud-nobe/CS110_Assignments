{
  "nbformat": 4,
  "nbformat_minor": 0,
  "metadata": {
    "kernelspec": {
      "display_name": "Python 3",
      "language": "python",
      "name": "python3"
    },
    "language_info": {
      "codemirror_mode": {
        "name": "ipython",
        "version": 3
      },
      "file_extension": ".py",
      "mimetype": "text/x-python",
      "name": "python",
      "nbconvert_exporter": "python",
      "pygments_lexer": "ipython3",
      "version": "3.6.5"
    },
    "colab": {
      "name": "CS110 Assignment 3",
      "provenance": [],
      "include_colab_link": true
    }
  },
  "cells": [
    {
      "cell_type": "markdown",
      "metadata": {
        "id": "view-in-github",
        "colab_type": "text"
      },
      "source": [
        "<a href=\"https://colab.research.google.com/github/mahmud-nobe/CS110_Assignments/blob/master/CS110%20Assignment%203%3A%20Bloom%20Filters/CS110_Assignment_3.ipynb\" target=\"_parent\"><img src=\"https://colab.research.google.com/assets/colab-badge.svg\" alt=\"Open In Colab\"/></a>"
      ]
    },
    {
      "cell_type": "markdown",
      "metadata": {
        "id": "Q_2E6rSRQLLE",
        "colab_type": "text"
      },
      "source": [
        "Before you turn this problem in, make sure everything runs as expected. First, **restart the kernel** (in the menubar, select Kernel$\\rightarrow$Restart) and then **run all cells** (in the menubar, select Cell$\\rightarrow$Run All).\n",
        "\n",
        "Make sure you fill in any place that says `YOUR CODE HERE` or \"YOUR ANSWER HERE\", as well as your name and collaborators below:"
      ]
    },
    {
      "cell_type": "code",
      "metadata": {
        "id": "j7dPGE1iQLLG",
        "colab_type": "code",
        "colab": {}
      },
      "source": [
        "NAME = \"Md Mahmudunnobe\"\n",
        "COLLABORATORS = \"\""
      ],
      "execution_count": 0,
      "outputs": []
    },
    {
      "cell_type": "markdown",
      "metadata": {
        "id": "GzhnQLkhQLLK",
        "colab_type": "text"
      },
      "source": [
        "---"
      ]
    },
    {
      "cell_type": "markdown",
      "metadata": {
        "deletable": false,
        "editable": false,
        "nbgrader": {
          "checksum": "e5d2038e11c57d2abd9d2c24d9421273",
          "grade": false,
          "grade_id": "cell-26967b3698cd6565",
          "locked": true,
          "schema_version": 1,
          "solution": false
        },
        "id": "C5JGSswBQLLL",
        "colab_type": "text"
      },
      "source": [
        "\n",
        "# CS110 Spring 2020 Assignment - Indexing Techniques and Data Structures.\n",
        "\n",
        "\n",
        "## Overview\n",
        "\n",
        " In this assignment, you  will research  Counting Bloom Filters (CBFs), which are data structures that extend the standard Bloom Filters. You will design and implement in Python a set of CBFs initialized at a given false positive rate, and will need to summarize your findings in a report. A report structured has been provided for you in the form of enumerated tasks, which you should follow.\n",
        " \n",
        " ## Intended Style and Key Audience\n",
        " \n",
        "Your report needs to be written in the style of a chapter from the Cormen textbook (i.e., exhibiting academic rigor and clear explanations) or a Wikipedia page on the subject (i.e., a general overview on a topic that will be peer-reviewed by the world-wide community). Thus, with a beginner’s audience in mind, your report needs to: \n",
        "\n",
        "* Carefully explain the concepts of a CBFs, \n",
        "* Include details on your CBFs design, \n",
        "* Perform an analysis of your implementation and experimental results pertaining to your Python implementation and \n",
        "* Perform a critical comparison analysis between the experimental results and the theoretically predicted ones. \n",
        "* Use the provided code cells to include all your code, and if these are not enough, please add more cells which you deem necessary.\n",
        "* Use the same function names provided in the template. \n",
        "* Thoroughly describe the algorithmic strategies you are employing in a given question. To do so, feel free to include extra Markdown cells whenever relevant--you may find this [how-to-guide](https://medium.com/analytics-vidhya/the-ultimate-markdown-guide-for-jupyter-notebook-d5e5abf728fd) helpful. \n",
        "\n",
        "Make sure you properly cite your sources of information. \n",
        "\n",
        "## Notes on the Submission Materials\n",
        "\n",
        "1. Your **first resource** should be a PDF file created from the Jupyter notebook template provided in these instructions. If your name is “Dumbledore”, your PDF should be named “Dumbledore.pdf”.\n",
        "2. Your **second resource** must be a single Jupyter Notebook named “Dumbledore.ipynb”. Alternatively, you can also submit a zip file that includes your Jupyter notebook, but please make sure to name it “Dumbledore.zip” (if your name is Dumbledore, the Jupyter notebook submitted as part of such zip file should still be named “Dumbledore.ipynb”!).\n",
        "\n",
        "## Notes on the Grading Rubrics\n",
        "\n",
        "* This is a strictly individual assignment. Everything you submit must reflect your own writing and coding. Please do refer to the course guidelines on the syllabus namely in what constitutes plagiarism. \n",
        "* All the tasks will be graded on the indicated companion LOs; please make sure to consult their descriptions and rubrics in the course syllabus to maximally align your approach to them. You will not be penalized for not attempting the optional challenge.\n",
        "* As per the course’s policy on the syllabus, you will need to footnote **at least three HCs** by including a meaningful justification of the application of each HC and how they enabled you to complete part of your work on this assignment. Please refer to [these guidelines](https://docs.google.com/document/d/1s7yOVOtMIaHQdKLeRmZbq1gRqwJKfezBsfru9Q6PcHw/edit) on how to incorporate HCs in your work.\n",
        "\n",
        "## Report Structured Tasks\n",
        "\n",
        "### Task 1. [#responsibility] [appropriate LO for the make-up work] \n",
        "\n",
        "Take a screenshot of your CS110 dashboard on Forum where the following is visible: \n",
        "* your name. \n",
        "* your absences for the course have been set to excused up to the end of week 7 (inclusively). Submit this screenshot as a PNG file on your Jupyter notebook. "
      ]
    },
    {
      "cell_type": "markdown",
      "metadata": {
        "id": "LEGmGvLh4MpV",
        "colab_type": "text"
      },
      "source": [
        "![alt text](https://github.com/mahmud-nobe/CS110_Assignments/raw/master/CS110%20Assignment%203:%20Bloom%20Filters/CS110-stat.PNG)"
      ]
    },
    {
      "cell_type": "code",
      "metadata": {
        "deletable": false,
        "nbgrader": {
          "checksum": "128ce1269093d9e434af0c39cae9cdae",
          "grade": true,
          "grade_id": "cell-bc6c759845183c37",
          "locked": false,
          "points": 0,
          "schema_version": 1,
          "solution": true
        },
        "id": "PKqbHDwOQLLM",
        "colab_type": "code",
        "colab": {}
      },
      "source": [
        "# raise NotImplementedError()"
      ],
      "execution_count": 0,
      "outputs": []
    },
    {
      "cell_type": "markdown",
      "metadata": {
        "deletable": false,
        "editable": false,
        "nbgrader": {
          "checksum": "8469a85198e41dc824049110ffbbc6f3",
          "grade": false,
          "grade_id": "cell-a9085d1cfd0bf0e1",
          "locked": true,
          "schema_version": 1,
          "solution": false
        },
        "id": "VZRNYuYWQLLQ",
        "colab_type": "text"
      },
      "source": [
        "### Task 2.  [#ComputationalSolutions, #DataStructures, #ComplexityAnalysis]  \n",
        "\n",
        "Write a summary  of the CBFs as an indexing technique, with their underlying data structure and  hashing functionality. This is,  list all the operations they support. For all CBF operations, include an analysis of their asymptotic order growth (complexity analysis). Give a few examples of practical, real-life computational applications that can benefit from using CBFs and carefully justify why. "
      ]
    },
    {
      "cell_type": "markdown",
      "metadata": {
        "deletable": false,
        "nbgrader": {
          "checksum": "89b640ab4f7518099d2ca503738991ab",
          "grade": true,
          "grade_id": "cell-b0a98c487d3be44b",
          "locked": false,
          "points": 0,
          "schema_version": 1,
          "solution": true
        },
        "id": "DMLbkrkuQLLR",
        "colab_type": "text"
      },
      "source": [
        "#### Introduction\n",
        "\n",
        "Currently Giuhub has 40 million user and every one of them has their unique id. Now when I want to open an account, every time I chose a user-name, Github has to search through the all available user name to ensure that this user-name is not used before. \n",
        "\n",
        "Counting Bloom Filters are the extension of the standarad bloom filters. So it will be helpful to briefly overview the standard bloom filters. \n",
        "\n",
        "\n",
        "#### Standard Bloom Filter\n",
        "\n",
        "Standard Bloom Filters are space efficient probabilistic \n",
        "\n",
        "\n",
        "#### Counting Bloom filter\n",
        "\n",
        "\n",
        "#### Initialization\n",
        "\n",
        "\n",
        "```\n",
        "INSERT()\n",
        "```\n",
        "\n"
      ]
    },
    {
      "cell_type": "markdown",
      "metadata": {
        "id": "oV7e1Lv_QLLS",
        "colab_type": "text"
      },
      "source": [
        "### Task 3. [#DataStructures, #PythonProgramming, #CodeReadability] \n",
        "\n",
        "Implement in Python 3 your designed CBFs data structure and all its operations using the code template below. Make sure you carefully organize your Python code, write meaningful comments (feel free to use [docstrings](https://www.python.org/dev/peps/pep-0257/)), and provide a thorough justification for your choice of hash functions. \n",
        "\n",
        "If you decide to use the Python library  `mmh3`,  you will need to provide a thorough explanation of why you have chosen the hashing functions therein. You may also use  `numpy`, `matplotlib`, `random`, `statistics`, and `math`. If you plan to use any other external library not mentioned in this list, you will need to contact your instructor first for validation.\n",
        "\n",
        "Make sure to strictly follow the honor code as any plagiarism attempt will be referred to the ASC. Please refer to [resource1](https://new.library.arizona.edu/research/citing/plagiarism) and [resource2](https://poorvucenter.yale.edu/writing/using-sources/understanding-and-avoiding-plagiarism/what-plagiarism), which specify what constitutes plagiarism. \n",
        "\n",
        "Demonstrate how your code works by inserting a list of words in [Shakespeare’s works](https://ocw.mit.edu/ans7870/6/6.006/s08/lecturenotes/files/t8.shakespeare.txt). The following lines of code will create such a list of words in Python:\n",
        "\n",
        "```python\n",
        "txt_file = open(\"t8.shakespeare.txt\", \"r\")\n",
        "\n",
        "entries = txt_file.read().split(' ')\n",
        "lines = [string.replace('\\n', '') for string in entries]\n",
        "all_text = [line for line in lines if line != '']\n",
        "```\n",
        "\n",
        "Feel free to use another interesting dataset for further validation, but this is optional."
      ]
    },
    {
      "cell_type": "code",
      "metadata": {
        "id": "n9slkMvP9Ose",
        "colab_type": "code",
        "colab": {
          "base_uri": "https://localhost:8080/",
          "height": 170
        },
        "outputId": "0da992b4-5753-4057-cf27-08edf5867a3b"
      },
      "source": [
        "# import necessary packages\n",
        "\n",
        "!pip install mmh3\n",
        "import mmh3\n",
        "import hashlib\n",
        "\n",
        "import numpy as np\n",
        "import time\n",
        "import math"
      ],
      "execution_count": 3,
      "outputs": [
        {
          "output_type": "stream",
          "text": [
            "Collecting mmh3\n",
            "  Downloading https://files.pythonhosted.org/packages/fa/7e/3ddcab0a9fcea034212c02eb411433db9330e34d626360b97333368b4052/mmh3-2.5.1.tar.gz\n",
            "Building wheels for collected packages: mmh3\n",
            "  Building wheel for mmh3 (setup.py) ... \u001b[?25l\u001b[?25hdone\n",
            "  Created wheel for mmh3: filename=mmh3-2.5.1-cp36-cp36m-linux_x86_64.whl size=37842 sha256=c82480378345284f09b3cd323fa02e35b74c134d8ce279f5b03f29f3ba86c477\n",
            "  Stored in directory: /root/.cache/pip/wheels/38/b4/ea/6e4e321c625d3320c0c496bf4088371546d8fce5f1dd71b219\n",
            "Successfully built mmh3\n",
            "Installing collected packages: mmh3\n",
            "Successfully installed mmh3-2.5.1\n"
          ],
          "name": "stdout"
        }
      ]
    },
    {
      "cell_type": "code",
      "metadata": {
        "id": "8NxXqGTJ4YeC",
        "colab_type": "code",
        "outputId": "80a4ba77-532c-47ed-9e2d-ecccdb15bc73",
        "colab": {
          "base_uri": "https://localhost:8080/",
          "height": 34
        }
      },
      "source": [
        "# reading the words from the shakespeare file\n",
        "\n",
        "txt_file = open(\"t8.shakespeare.txt\", \"r\")\n",
        " \n",
        "entries = txt_file.read().split(' ')\n",
        "lines = [string.replace('\\n', '') for string in entries]\n",
        "all_text = [line for line in lines if line != '']\n",
        "len(all_text)"
      ],
      "execution_count": 0,
      "outputs": [
        {
          "output_type": "execute_result",
          "data": {
            "text/plain": [
              "896183"
            ]
          },
          "metadata": {
            "tags": []
          },
          "execution_count": 45
        }
      ]
    },
    {
      "cell_type": "markdown",
      "metadata": {
        "id": "9bkmBrQOaAxj",
        "colab_type": "text"
      },
      "source": [
        "Two very important criterias for a good hash function are the following\n",
        "- Its hashing time should be fast as we will call it again and again while inserting or deleting a new element as well as searching. So if it is slow, it will decrease the overall  efficiency of the algorithm.\n",
        "\n",
        "- The output of the hash function should be uniformly distributed. When the distribution is uniform, its equally likely for a given item to hash in any item in the hash table. Uniform distribution ensure less collision and improve the overall efficiency\n",
        "\n",
        "We will compare the hash functions of mmh3 and hashlib packages based on these two properties to understand which will be a good hash function to use in our algorithm."
      ]
    },
    {
      "cell_type": "code",
      "metadata": {
        "id": "A4W4JzVm_9Af",
        "colab_type": "code",
        "colab": {}
      },
      "source": [
        "######\n",
        "# Thesting the efficiency (hashing time and distribution of hashed value) of different hash functions  \n",
        "######\n",
        "\n",
        "# lists for storing hashed values\n",
        "hashlib1 = []\n",
        "hashlib2 = []\n",
        "hashlib3 = []\n",
        "\n",
        "mmh3_1 = []\n",
        "mmh3_2 = []\n",
        "mmh3_3 = []\n",
        "\n",
        "# for storing the hashed computed time\n",
        "time_hashlib1 = 0\n",
        "time_hashlib2 = 0\n",
        "time_hashlib3 = 0\n",
        "\n",
        "time_mmh3_1 = 0\n",
        "time_mmh3_2 = 0\n",
        "time_mmh3_3 = 0\n",
        "\n",
        "# slot size in hash table\n",
        "num_slot = 2000\n",
        "\n",
        "for word in all_text:\n",
        "  \n",
        "  ### hashlib package: \n",
        "\n",
        "  # 1st hash functions from hashlib: algorthim: sha3_256\n",
        "  start = time.time() \n",
        "  # encode the word, then use the algorithm to get a hash_value,\n",
        "  # digest it as hexadecimal value, then transform to integer and \n",
        "  # then take the mode of num_slot\n",
        "  hash_value = int(hashlib.sha3_256(word.encode()).hexdigest(), 16) % num_slot\n",
        "  end = time.time()\n",
        "\n",
        "  # appending the hash_value in corresponding list\n",
        "  # and increment the corresponding hashing time\n",
        "  hashlib1.append(hash_value)\n",
        "  time_hashlib1 += end - start\n",
        "\n",
        "  # 2nd hash functions from hashlib: algorthim: sha3_384\n",
        "  start = time.time() \n",
        "  hash_value = int(hashlib.sha3_384(word.encode()).hexdigest(), 16) % num_slot\n",
        "  end = time.time()\n",
        "\n",
        "  # appending the hash_value in corresponding list\n",
        "  # and increment the corresponding hashing time\n",
        "  hashlib2.append(hash_value)\n",
        "  time_hashlib2 += end - start\n",
        "\n",
        "  # 3rd hash functions from hashlib: algorthim: sha3_512\n",
        "  start = time.time() \n",
        "  hash_value = int(hashlib.sha3_512(word.encode()).hexdigest(), 16) % num_slot\n",
        "  end = time.time()\n",
        "\n",
        "  # appending the hash_value in corresponding list\n",
        "  # and increment the corresponding hashing time\n",
        "  hashlib3.append(hash_value)\n",
        "  time_hashlib3 += end - start\n",
        "\n",
        "  ### mmh3 package\n",
        "\n",
        "  # 1st hash functions from mmh3 with seed = 200\n",
        "  start = time.time() \n",
        "  # hashed the word using a specific seed and then take the mode of num_slot\n",
        "  hash_value = mmh3.hash(word, seed = 200) % num_slot\n",
        "  end = time.time()\n",
        "\n",
        "  # appending the hash_value in corresponding list\n",
        "  # and increment the corresponding hashing time\n",
        "  mmh3_1.append(hash_value)\n",
        "  time_mmh3_1 += end - start\n",
        "\n",
        "  # 2nd hash functions from mmh3 with seed = 300\n",
        "  start = time.time() \n",
        "  hash_value = mmh3.hash(word, seed = 300) % num_slot\n",
        "  end = time.time()\n",
        "\n",
        "  # appending the hash_value in corresponding list\n",
        "  # and increment the corresponding hashing time\n",
        "  mmh3_2.append(hash_value)\n",
        "  time_mmh3_2 += end - start\n",
        "\n",
        "  # 3rd hash functions from mmh3 with seed = 400\n",
        "  start = time.time() \n",
        "  hash_value = mmh3.hash(word, seed = 400) % num_slot\n",
        "  end = time.time()\n",
        "\n",
        "  # appending the hash_value in corresponding list\n",
        "  # and increment the corresponding hashing time\n",
        "  mmh3_3.append(hash_value)\n",
        "  time_mmh3_3 += end - start"
      ],
      "execution_count": 0,
      "outputs": []
    },
    {
      "cell_type": "code",
      "metadata": {
        "id": "GvO12Z65Gygz",
        "colab_type": "code",
        "outputId": "4f174edb-c999-4f46-f54d-3f7fe172db2f",
        "colab": {
          "base_uri": "https://localhost:8080/",
          "height": 663
        }
      },
      "source": [
        "import matplotlib.pyplot as plt\n",
        "import seaborn as sns\n",
        "\n",
        "### plotting and analyzing the Histogram\n",
        "\n",
        "# create subplots\n",
        "fig, ax =  plt.subplots(2,3, figsize = (15,10))\n",
        "\n",
        "# title\n",
        "fig.suptitle('Histogram for Different Hash Functions', fontsize = 20)\n",
        "\n",
        "# plot histogram and set the corresponding titles \n",
        "sns.distplot(hashlib1, ax = ax[0][0])\n",
        "ax[0][0].set_title('Hashlib 1')\n",
        "\n",
        "sns.distplot(hashlib2, ax = ax[0][1])\n",
        "ax[0][1].set_title('Hashlib 3')\n",
        "\n",
        "sns.distplot(hashlib3, ax = ax[0][2])\n",
        "ax[0][2].set_title('Hashlib 3')\n",
        "\n",
        "sns.distplot(mmh3_1, ax = ax[1][0])\n",
        "ax[1][0].set_title('mmh3 1')\n",
        "\n",
        "sns.distplot(mmh3_2, ax = ax[1][1])\n",
        "ax[1][1].set_title('mmh3 2')\n",
        "\n",
        "sns.distplot(mmh3_3, ax = ax[1][2])\n",
        "ax[1][2].set_title('mmh3 3')\n",
        "\n",
        "plt.show()"
      ],
      "execution_count": 0,
      "outputs": [
        {
          "output_type": "display_data",
          "data": {
            "image/png": "[encoded data removed]",
            "text/plain": [
              "<Figure size 1080x720 with 6 Axes>"
            ]
          },
          "metadata": {
            "tags": []
          }
        }
      ]
    },
    {
      "cell_type": "code",
      "metadata": {
        "id": "qlgmRzrrEBsg",
        "colab_type": "code",
        "outputId": "137a4624-36b0-4927-9a41-c79f6fe8fef3",
        "colab": {
          "base_uri": "https://localhost:8080/",
          "height": 297
        }
      },
      "source": [
        "# Now plotting the hashing time for each hash functions\n",
        "\n",
        "sns.barplot(['Hashlib 1', 'Hashlib 2', 'Hashlib 3', 'mmh3 1', 'mmh3 2', 'mmh3 3'],\n",
        "        [time_hashlib1, time_hashlib2, time_hashlib3, \n",
        "         time_mmh3_1, time_mmh3_2, time_mmh3_3])\n",
        "plt.title('Time taken for different hash function to hash a constant number of item', fontsize = 15)\n",
        "plt.ylabel('Time (s)')\n",
        "plt.xlabel('Hash function')\n",
        "plt.show()"
      ],
      "execution_count": 0,
      "outputs": [
        {
          "output_type": "display_data",
          "data": {
            "image/png": "[encoded data removed]",
            "text/plain": [
              "<Figure size 432x288 with 1 Axes>"
            ]
          },
          "metadata": {
            "tags": []
          }
        }
      ]
    },
    {
      "cell_type": "markdown",
      "metadata": {
        "id": "_kFJ3OGoLoci",
        "colab_type": "text"
      },
      "source": [
        "Hash function from both packages show almost uniform distribution but the hashing time for mmh3 packages are way more smaller (about half of hashlib). So it will be more efficient to use the function from mmh3 packages.\n"
      ]
    },
    {
      "cell_type": "code",
      "metadata": {
        "id": "TwrjbpYJQLLT",
        "colab_type": "code",
        "colab": {}
      },
      "source": [
        "# Feel free to define additional classes that you think are helpful \n",
        "# in building this class of CountingBloomFilter \n",
        "\n",
        "import numpy as np\n",
        "# import mmh3\n",
        "\n",
        "class CountingBloomFilter(object):\n",
        "    \"\"\"Implement the counting bloom filter which supports:\n",
        "    - search: queries the membership of an element\n",
        "    - insert: inserts a string to the filter\n",
        "    - delete: removes a string from the filter \n",
        "    \n",
        "    Feel free to define any helpful additional methods.\n",
        "    \"\"\"\n",
        "    def __init__(self, num_item, fpr):\n",
        "        \"\"\"\n",
        "        /YOUR ARGUMENTS/ are the two parameters of your choice from the \n",
        "        following parameters of a CBF:\n",
        "        - fpr: float, false positive rate\n",
        "        - memory_size: int, memory size\n",
        "        - num_item: int, number of items stored\n",
        "        - num_hashfn: int, number of hash functions\n",
        "        \n",
        "        For example, if you choose fpr and memory_size, edit your __init__ to\n",
        "        `def __init__(self, memory_size, fpr)`\n",
        "        \"\"\"\n",
        "        # false positive rate\n",
        "        self.fpr = fpr\n",
        "\n",
        "        # number of item\n",
        "        self.num_item = num_item\n",
        "\n",
        "        # memory size\n",
        "        self.memory_size = -1*int( (self.num_item * math.log(self.fpr)) / (math.log(2)**2) )\n",
        "        \n",
        "        # initialize an empty numpy array as our hash table\n",
        "        self.hash_table = np.zeros(self.memory_size)\n",
        "\n",
        "        # number of hash functions\n",
        "        self.num_hashfn = int((self.memory_size/self.num_item) * math.log(2)) \n",
        "    \n",
        "    def hash_cbf(self, item):\n",
        "        \"\"\"\n",
        "        Returns hash values of an item\n",
        "        input:\n",
        "          a str as an item\n",
        "        output:\n",
        "          a list of the hashed_slot for that item \n",
        "        \"\"\"\n",
        "        # empty array for storing the hashed slots\n",
        "        hashed_slots = []\n",
        "\n",
        "        # calculate the slot using num_hashfn number of hash functions\n",
        "        # it used murmur hash function from mmh3 package and \n",
        "        # ith hash function use i*5 as its seed\n",
        "        for num in range(self.num_hashfn):\n",
        "          slot = mmh3.hash(item, seed = 5*num) % self.memory_size\n",
        "          hashed_slots.append(slot)\n",
        "\n",
        "        return hashed_slots\n",
        "    \n",
        "    def search(self, item):\n",
        "        \"\"\"\n",
        "        Checks if an item is present in the hash table or not.\n",
        "        Input:\n",
        "          an item to search for\n",
        "        Output:\n",
        "          True: if it is probably present\n",
        "          False: if it not present\n",
        "        \"\"\"\n",
        "\n",
        "        hashed_slots = self.hash_cbf(item)\n",
        "\n",
        "        # check for every hashed_slot for that item\n",
        "        # if any of the slot is 0, return False\n",
        "        for slot in hashed_slots:\n",
        "          if (self.hash_table[slot] == 0):\n",
        "            return False\n",
        "        \n",
        "        # if no slot contains 0, returns True\n",
        "        return True\n",
        "    \n",
        "    def insert(self, item):\n",
        "        \"\"\"\n",
        "        Inserts  \n",
        "        \"\"\"\n",
        "        hashed_slots = self.hash_cbf(item)\n",
        "\n",
        "        for slot in hashed_slots:\n",
        "          self.hash_table[slot] += 1\n",
        "\n",
        "        return self\n",
        "    \n",
        "    def delete(self, item):\n",
        "        \"\"\"\n",
        "        [YOUR FUNCTION DESCRIPTION]\n",
        "        \"\"\"\n",
        "        if (search(self, item)):\n",
        "          hashed_slots = self.hash_cbf(item)\n",
        "\n",
        "          for slot in hashed_slots:\n",
        "            self.hash_table[slot] -= 1\n",
        "        else:\n",
        "          KeyError('{} not found in counting_bloom_filter'.format(item))\n",
        "        \n",
        "        return self\n"
      ],
      "execution_count": 0,
      "outputs": []
    },
    {
      "cell_type": "code",
      "metadata": {
        "id": "YBBgPqqRvXUc",
        "colab_type": "code",
        "outputId": "5d068e0a-fe66-4f13-99d3-a8b72345c416",
        "colab": {
          "base_uri": "https://localhost:8080/",
          "height": 34
        }
      },
      "source": [
        "txt_file = open(\"t8.shakespeare.txt\", \"r\")\n",
        " \n",
        "entries = txt_file.read().split(' ')\n",
        "lines = [string.replace('\\n', '') for string in entries]\n",
        "all_text = [line for line in lines if line != '']\n",
        "len(all_text)"
      ],
      "execution_count": 7,
      "outputs": [
        {
          "output_type": "execute_result",
          "data": {
            "text/plain": [
              "896183"
            ]
          },
          "metadata": {
            "tags": []
          },
          "execution_count": 7
        }
      ]
    },
    {
      "cell_type": "code",
      "metadata": {
        "id": "3Ii3tep3wT6F",
        "colab_type": "code",
        "colab": {}
      },
      "source": [
        ""
      ],
      "execution_count": 0,
      "outputs": []
    },
    {
      "cell_type": "code",
      "metadata": {
        "id": "pL45BSlKxIbL",
        "colab_type": "code",
        "outputId": "14b02407-f9f2-4b9b-aeeb-a7e3c751895e",
        "colab": {
          "base_uri": "https://localhost:8080/",
          "height": 34
        }
      },
      "source": [
        "num_item = 20000\n",
        "fpr = 0.1\n",
        "\n",
        "CBFs = CountingBloomFilter(num_item, fpr)\n",
        "\n",
        "np.random.shuffle(all_text)\n",
        "num_item = int(len(all_text) * 0.5)\n",
        "\n",
        "present = all_text[:num_item]\n",
        "absent = all_text[num_item:]\n",
        "\n",
        "np.random.shuffle(present)\n",
        "np.random.shuffle(absent)\n",
        "\n",
        "for word in present:\n",
        "  CBFs.insert(word)\n",
        "\n",
        "true_positive = 0\n",
        "false_positive = 0\n",
        "\n",
        "for word in all_text:\n",
        "  is_found = CBFs.search(word)\n",
        "\n",
        "  if (is_found):\n",
        "    if (word not in present):\n",
        "      false_positive += 1 \n",
        "    else:\n",
        "      true_positive += 1\n",
        "\n",
        "total_positive = false_positive + true_positive\n",
        "print('True Positive, False Positive, False Positive Rate:',true_positive, false_positive, false_positive/(total_positive))"
      ],
      "execution_count": 9,
      "outputs": [
        {
          "output_type": "stream",
          "text": [
            "True Positive, False Positive, False Positive Rate: 695695 1165 0.0016717848635306948\n"
          ],
          "name": "stdout"
        }
      ]
    },
    {
      "cell_type": "code",
      "metadata": {
        "id": "v5UUybI1fsa2",
        "colab_type": "code",
        "outputId": "fd199ba2-7ef7-416a-bb6c-a0c29f27b8c0",
        "colab": {
          "base_uri": "https://localhost:8080/",
          "height": 119
        }
      },
      "source": [
        "#testing shell\n",
        "\n",
        "import math\n",
        "\n",
        "#!pip install mmh3\n",
        "import mmh3\n",
        "mmh3.hash('foo', 1)\n",
        "\n",
        "item = 9\n",
        "print()\n",
        "print('{} not found in counting_bloom_filter'.format(item))\n",
        "import numpy as np\n",
        "slots = [1,2,3]\n",
        "key = np.array([3,0,0,0,7,5])\n",
        "np.append(key, 4)\n",
        "print(key[slots] == 0)\n",
        "print(key)\n",
        "#else:\n",
        " # print(slots)\n",
        "\n",
        "\n",
        "n = 10\n",
        "p = 0.6\n",
        "m =  -1*int( (n * math.log(p)) / (math.log(2)**2) )\n",
        "print(m) \n",
        "\n",
        "np.random.sample()\n",
        "\n"
      ],
      "execution_count": 0,
      "outputs": [
        {
          "output_type": "stream",
          "text": [
            "\n",
            "9 not found in counting_bloom_filter\n",
            "[ True  True  True]\n",
            "[3 0 0 0 7 5]\n",
            "10\n"
          ],
          "name": "stdout"
        },
        {
          "output_type": "execute_result",
          "data": {
            "text/plain": [
              "'him'"
            ]
          },
          "metadata": {
            "tags": []
          },
          "execution_count": 31
        }
      ]
    },
    {
      "cell_type": "code",
      "metadata": {
        "id": "DUVLPzIcCDyZ",
        "colab_type": "code",
        "colab": {
          "base_uri": "https://localhost:8080/",
          "height": 163
        },
        "outputId": "dfc603b3-2209-49fe-e4ff-341be8624512"
      },
      "source": [
        "mmh3.hash(12)"
      ],
      "execution_count": 4,
      "outputs": [
        {
          "output_type": "error",
          "ename": "TypeError",
          "evalue": "ignored",
          "traceback": [
            "\u001b[0;31m---------------------------------------------------------------------------\u001b[0m",
            "\u001b[0;31mTypeError\u001b[0m                                 Traceback (most recent call last)",
            "\u001b[0;32m<ipython-input-4-97d0d8a219ef>\u001b[0m in \u001b[0;36m<module>\u001b[0;34m()\u001b[0m\n\u001b[0;32m----> 1\u001b[0;31m \u001b[0mmmh3\u001b[0m\u001b[0;34m.\u001b[0m\u001b[0mhash\u001b[0m\u001b[0;34m(\u001b[0m\u001b[0;36m12\u001b[0m\u001b[0;34m)\u001b[0m\u001b[0;34m\u001b[0m\u001b[0;34m\u001b[0m\u001b[0m\n\u001b[0m",
            "\u001b[0;31mTypeError\u001b[0m: a bytes-like object is required, not 'int'"
          ]
        }
      ]
    },
    {
      "cell_type": "code",
      "metadata": {
        "id": "wJNKCjtkAHAw",
        "colab_type": "code",
        "outputId": "a20b58c9-4ce1-4907-dccd-aac904efeecb",
        "colab": {
          "base_uri": "https://localhost:8080/",
          "height": 68
        }
      },
      "source": [
        "num_item = 20\n",
        "fpr = 0.05\n",
        "\n",
        "CBFs = CountingBloomFilter(num_item, fpr)\n",
        "print(CBFs.hash_table[:10])\n",
        "print(CBFs.memory_size)\n",
        "CBFs.memory_size = 10\n",
        "print(CBFs.memory_size)\n",
        "\n",
        "for word in present[:200]:\n",
        "  CBFs.insert(word)"
      ],
      "execution_count": 0,
      "outputs": [
        {
          "output_type": "stream",
          "text": [
            "[0 0 0 0 0 0 0 0 0 0]\n",
            "124\n",
            "10\n"
          ],
          "name": "stdout"
        }
      ]
    },
    {
      "cell_type": "code",
      "metadata": {
        "id": "3zzGn6ehA_CG",
        "colab_type": "code",
        "outputId": "cd009f14-cfd8-4970-a98c-c607df4c6cbd",
        "colab": {
          "base_uri": "https://localhost:8080/",
          "height": 34
        }
      },
      "source": [
        "len(CBFs.hash_table)\n",
        "print(CBFs.hash_table[:10])"
      ],
      "execution_count": 0,
      "outputs": [
        {
          "output_type": "stream",
          "text": [
            "[ 122  114  100  109 -123 -117  126  120  104 -123]\n"
          ],
          "name": "stdout"
        }
      ]
    },
    {
      "cell_type": "markdown",
      "metadata": {
        "deletable": false,
        "editable": false,
        "nbgrader": {
          "checksum": "e80f94d7ec5e70f525c050d9abd6a418",
          "grade": false,
          "grade_id": "cell-55313f6a52567abd",
          "locked": true,
          "schema_version": 1,
          "solution": false
        },
        "id": "sfW86lX1QLLW",
        "colab_type": "text"
      },
      "source": [
        "### Task 4 [#ComplexityAnalysis, #ComputationalCritique].\n",
        "\n",
        "Now you will verify the effectiveness of your CBF implementation by testing how well the implementation matches or diverges from the theoretical findings. The following tasks will help you make this computational analysis. Explicitly include any assumptions you have made to arrive at your results. If there are any discrepancies between the theory and the computational experiments, provide an explanation for these.\n",
        "\n",
        "1. [#DataStructures] Create several CBFs (at least 10) for different FPRs, and evaluate how the memory size scales with the FPR. \n",
        "2. [#DataStructures] How does the memory size scale with the number of items stored, for a fixed FPR?\n",
        "3. [#DataStructures, #ComplexityAnalysis] How does the actual FPR scale with the number of hash functions?\n",
        "4. [#DataStructures, #ComplexityAnalysis] How does the access time to hashed values scale with the number of items stored in a CBF kept at constant FPR?\n"
      ]
    },
    {
      "cell_type": "code",
      "metadata": {
        "id": "Mz8x006b99OM",
        "colab_type": "code",
        "colab": {
          "base_uri": "https://localhost:8080/",
          "height": 1000
        },
        "outputId": "8875c64e-e0ff-4835-b1bb-313c26fb9e04"
      },
      "source": [
        "np.linspace(0.01, 0.5, 499)"
      ],
      "execution_count": 12,
      "outputs": [
        {
          "output_type": "execute_result",
          "data": {
            "text/plain": [
              "array([0.01      , 0.01098394, 0.01196787, 0.01295181, 0.01393574,\n",
              "       0.01491968, 0.01590361, 0.01688755, 0.01787149, 0.01885542,\n",
              "       0.01983936, 0.02082329, 0.02180723, 0.02279116, 0.0237751 ,\n",
              "       0.02475904, 0.02574297, 0.02672691, 0.02771084, 0.02869478,\n",
              "       0.02967871, 0.03066265, 0.03164659, 0.03263052, 0.03361446,\n",
              "       0.03459839, 0.03558233, 0.03656627, 0.0375502 , 0.03853414,\n",
              "       0.03951807, 0.04050201, 0.04148594, 0.04246988, 0.04345382,\n",
              "       0.04443775, 0.04542169, 0.04640562, 0.04738956, 0.04837349,\n",
              "       0.04935743, 0.05034137, 0.0513253 , 0.05230924, 0.05329317,\n",
              "       0.05427711, 0.05526104, 0.05624498, 0.05722892, 0.05821285,\n",
              "       0.05919679, 0.06018072, 0.06116466, 0.06214859, 0.06313253,\n",
              "       0.06411647, 0.0651004 , 0.06608434, 0.06706827, 0.06805221,\n",
              "       0.06903614, 0.07002008, 0.07100402, 0.07198795, 0.07297189,\n",
              "       0.07395582, 0.07493976, 0.07592369, 0.07690763, 0.07789157,\n",
              "       0.0788755 , 0.07985944, 0.08084337, 0.08182731, 0.08281124,\n",
              "       0.08379518, 0.08477912, 0.08576305, 0.08674699, 0.08773092,\n",
              "       0.08871486, 0.0896988 , 0.09068273, 0.09166667, 0.0926506 ,\n",
              "       0.09363454, 0.09461847, 0.09560241, 0.09658635, 0.09757028,\n",
              "       0.09855422, 0.09953815, 0.10052209, 0.10150602, 0.10248996,\n",
              "       0.1034739 , 0.10445783, 0.10544177, 0.1064257 , 0.10740964,\n",
              "       0.10839357, 0.10937751, 0.11036145, 0.11134538, 0.11232932,\n",
              "       0.11331325, 0.11429719, 0.11528112, 0.11626506, 0.117249  ,\n",
              "       0.11823293, 0.11921687, 0.1202008 , 0.12118474, 0.12216867,\n",
              "       0.12315261, 0.12413655, 0.12512048, 0.12610442, 0.12708835,\n",
              "       0.12807229, 0.12905622, 0.13004016, 0.1310241 , 0.13200803,\n",
              "       0.13299197, 0.1339759 , 0.13495984, 0.13594378, 0.13692771,\n",
              "       0.13791165, 0.13889558, 0.13987952, 0.14086345, 0.14184739,\n",
              "       0.14283133, 0.14381526, 0.1447992 , 0.14578313, 0.14676707,\n",
              "       0.147751  , 0.14873494, 0.14971888, 0.15070281, 0.15168675,\n",
              "       0.15267068, 0.15365462, 0.15463855, 0.15562249, 0.15660643,\n",
              "       0.15759036, 0.1585743 , 0.15955823, 0.16054217, 0.1615261 ,\n",
              "       0.16251004, 0.16349398, 0.16447791, 0.16546185, 0.16644578,\n",
              "       0.16742972, 0.16841365, 0.16939759, 0.17038153, 0.17136546,\n",
              "       0.1723494 , 0.17333333, 0.17431727, 0.1753012 , 0.17628514,\n",
              "       0.17726908, 0.17825301, 0.17923695, 0.18022088, 0.18120482,\n",
              "       0.18218876, 0.18317269, 0.18415663, 0.18514056, 0.1861245 ,\n",
              "       0.18710843, 0.18809237, 0.18907631, 0.19006024, 0.19104418,\n",
              "       0.19202811, 0.19301205, 0.19399598, 0.19497992, 0.19596386,\n",
              "       0.19694779, 0.19793173, 0.19891566, 0.1998996 , 0.20088353,\n",
              "       0.20186747, 0.20285141, 0.20383534, 0.20481928, 0.20580321,\n",
              "       0.20678715, 0.20777108, 0.20875502, 0.20973896, 0.21072289,\n",
              "       0.21170683, 0.21269076, 0.2136747 , 0.21465863, 0.21564257,\n",
              "       0.21662651, 0.21761044, 0.21859438, 0.21957831, 0.22056225,\n",
              "       0.22154618, 0.22253012, 0.22351406, 0.22449799, 0.22548193,\n",
              "       0.22646586, 0.2274498 , 0.22843373, 0.22941767, 0.23040161,\n",
              "       0.23138554, 0.23236948, 0.23335341, 0.23433735, 0.23532129,\n",
              "       0.23630522, 0.23728916, 0.23827309, 0.23925703, 0.24024096,\n",
              "       0.2412249 , 0.24220884, 0.24319277, 0.24417671, 0.24516064,\n",
              "       0.24614458, 0.24712851, 0.24811245, 0.24909639, 0.25008032,\n",
              "       0.25106426, 0.25204819, 0.25303213, 0.25401606, 0.255     ,\n",
              "       0.25598394, 0.25696787, 0.25795181, 0.25893574, 0.25991968,\n",
              "       0.26090361, 0.26188755, 0.26287149, 0.26385542, 0.26483936,\n",
              "       0.26582329, 0.26680723, 0.26779116, 0.2687751 , 0.26975904,\n",
              "       0.27074297, 0.27172691, 0.27271084, 0.27369478, 0.27467871,\n",
              "       0.27566265, 0.27664659, 0.27763052, 0.27861446, 0.27959839,\n",
              "       0.28058233, 0.28156627, 0.2825502 , 0.28353414, 0.28451807,\n",
              "       0.28550201, 0.28648594, 0.28746988, 0.28845382, 0.28943775,\n",
              "       0.29042169, 0.29140562, 0.29238956, 0.29337349, 0.29435743,\n",
              "       0.29534137, 0.2963253 , 0.29730924, 0.29829317, 0.29927711,\n",
              "       0.30026104, 0.30124498, 0.30222892, 0.30321285, 0.30419679,\n",
              "       0.30518072, 0.30616466, 0.30714859, 0.30813253, 0.30911647,\n",
              "       0.3101004 , 0.31108434, 0.31206827, 0.31305221, 0.31403614,\n",
              "       0.31502008, 0.31600402, 0.31698795, 0.31797189, 0.31895582,\n",
              "       0.31993976, 0.32092369, 0.32190763, 0.32289157, 0.3238755 ,\n",
              "       0.32485944, 0.32584337, 0.32682731, 0.32781124, 0.32879518,\n",
              "       0.32977912, 0.33076305, 0.33174699, 0.33273092, 0.33371486,\n",
              "       0.3346988 , 0.33568273, 0.33666667, 0.3376506 , 0.33863454,\n",
              "       0.33961847, 0.34060241, 0.34158635, 0.34257028, 0.34355422,\n",
              "       0.34453815, 0.34552209, 0.34650602, 0.34748996, 0.3484739 ,\n",
              "       0.34945783, 0.35044177, 0.3514257 , 0.35240964, 0.35339357,\n",
              "       0.35437751, 0.35536145, 0.35634538, 0.35732932, 0.35831325,\n",
              "       0.35929719, 0.36028112, 0.36126506, 0.362249  , 0.36323293,\n",
              "       0.36421687, 0.3652008 , 0.36618474, 0.36716867, 0.36815261,\n",
              "       0.36913655, 0.37012048, 0.37110442, 0.37208835, 0.37307229,\n",
              "       0.37405622, 0.37504016, 0.3760241 , 0.37700803, 0.37799197,\n",
              "       0.3789759 , 0.37995984, 0.38094378, 0.38192771, 0.38291165,\n",
              "       0.38389558, 0.38487952, 0.38586345, 0.38684739, 0.38783133,\n",
              "       0.38881526, 0.3897992 , 0.39078313, 0.39176707, 0.392751  ,\n",
              "       0.39373494, 0.39471888, 0.39570281, 0.39668675, 0.39767068,\n",
              "       0.39865462, 0.39963855, 0.40062249, 0.40160643, 0.40259036,\n",
              "       0.4035743 , 0.40455823, 0.40554217, 0.4065261 , 0.40751004,\n",
              "       0.40849398, 0.40947791, 0.41046185, 0.41144578, 0.41242972,\n",
              "       0.41341365, 0.41439759, 0.41538153, 0.41636546, 0.4173494 ,\n",
              "       0.41833333, 0.41931727, 0.4203012 , 0.42128514, 0.42226908,\n",
              "       0.42325301, 0.42423695, 0.42522088, 0.42620482, 0.42718876,\n",
              "       0.42817269, 0.42915663, 0.43014056, 0.4311245 , 0.43210843,\n",
              "       0.43309237, 0.43407631, 0.43506024, 0.43604418, 0.43702811,\n",
              "       0.43801205, 0.43899598, 0.43997992, 0.44096386, 0.44194779,\n",
              "       0.44293173, 0.44391566, 0.4448996 , 0.44588353, 0.44686747,\n",
              "       0.44785141, 0.44883534, 0.44981928, 0.45080321, 0.45178715,\n",
              "       0.45277108, 0.45375502, 0.45473896, 0.45572289, 0.45670683,\n",
              "       0.45769076, 0.4586747 , 0.45965863, 0.46064257, 0.46162651,\n",
              "       0.46261044, 0.46359438, 0.46457831, 0.46556225, 0.46654618,\n",
              "       0.46753012, 0.46851406, 0.46949799, 0.47048193, 0.47146586,\n",
              "       0.4724498 , 0.47343373, 0.47441767, 0.47540161, 0.47638554,\n",
              "       0.47736948, 0.47835341, 0.47933735, 0.48032129, 0.48130522,\n",
              "       0.48228916, 0.48327309, 0.48425703, 0.48524096, 0.4862249 ,\n",
              "       0.48720884, 0.48819277, 0.48917671, 0.49016064, 0.49114458,\n",
              "       0.49212851, 0.49311245, 0.49409639, 0.49508032, 0.49606426,\n",
              "       0.49704819, 0.49803213, 0.49901606, 0.5       ])"
            ]
          },
          "metadata": {
            "tags": []
          },
          "execution_count": 12
        }
      ]
    },
    {
      "cell_type": "markdown",
      "metadata": {
        "deletable": false,
        "nbgrader": {
          "checksum": "f454ec05ad12849a094bb2017f596b7c",
          "grade": true,
          "grade_id": "cell-a1db8a260a21986a",
          "locked": false,
          "points": 0,
          "schema_version": 1,
          "solution": true
        },
        "id": "PzQR0iC4QLLX",
        "colab_type": "text"
      },
      "source": [
        "YOUR ANSWER HERE"
      ]
    },
    {
      "cell_type": "markdown",
      "metadata": {
        "deletable": false,
        "editable": false,
        "nbgrader": {
          "checksum": "d7f70354cd73ab5698686a0264a7bd48",
          "grade": false,
          "grade_id": "cell-2b3ef79d47e4e5d8",
          "locked": true,
          "schema_version": 1,
          "solution": false
        },
        "id": "pBVWtxDpQLLY",
        "colab_type": "text"
      },
      "source": [
        "### Task 5. [#ComputationalCritique]\n",
        "\n",
        "Identify and list (if any) corner cases for CBFs. Explain why these cases should be taken into account if you are a software engineer.\n"
      ]
    },
    {
      "cell_type": "markdown",
      "metadata": {
        "deletable": false,
        "nbgrader": {
          "checksum": "152195ee2616469d23c43456f16aadb0",
          "grade": true,
          "grade_id": "cell-dfe791e15f2fe896",
          "locked": false,
          "points": 0,
          "schema_version": 1,
          "solution": true
        },
        "id": "wgkuCdVWQLLZ",
        "colab_type": "text"
      },
      "source": [
        "\n",
        "\n",
        "YOUR ANSWER HERE"
      ]
    },
    {
      "cell_type": "markdown",
      "metadata": {
        "id": "-J95B6t0MHl4",
        "colab_type": "text"
      },
      "source": [
        "**Reference:**\n",
        "\n",
        "Alsayed, K. (2020). What are Counting Bloom Filters? — Python Implementation. Retrievedfrom https://medium.com/analytics-vidhya/cbfs-44c66b1b4a78\n",
        "\n",
        "\n",
        "Appleby, A. (2020). mmh3. Retrieved 7 March 2020, from https://pypi.org/project/mmh3/\n",
        "\n",
        "\n",
        "Bloom filter. (2020). Retrieved from https://en.wikipedia.org/wiki/Bloom_filter#Counting_Bloom_filters\n",
        "\n",
        "\n",
        "Bonomi F., Mitzenmacher M., Panigrahy R., Singh S., Varghese G. (2006) An Improved Construction for Counting Bloom Filters. In: Azar Y., Erlebach T. (eds) Algorithms – ESA 2006. ESA 2006. Lecture Notes in Computer Science, vol 4168. Springer, Berlin, Heidelberg\n",
        "\n",
        "\n",
        "Hashing | Set 1 (Introduction). (2020). Retrieved from https://www.geeksforgeeks.org/hashing-set-1-introduction/\n",
        "\n",
        "\n",
        "Kumar, A. (2020). Bloom Filters - Introduction and Python Implementation - GeeksforGeeks. Retrieved from https://www.geeksforgeeks.org/bloom-filters-introduction-and-python-implementation/"
      ]
    },
    {
      "cell_type": "markdown",
      "metadata": {
        "id": "NhHX_Dh_Pv0e",
        "colab_type": "text"
      },
      "source": [
        "**HC Index:**\n",
        "\n",
        ".#medium:\n",
        "\n",
        ".#organization:\n",
        "\n",
        ".#breakitdown: \n"
      ]
    },
    {
      "cell_type": "code",
      "metadata": {
        "id": "VH7znZkROSH3",
        "colab_type": "code",
        "colab": {}
      },
      "source": [
        ""
      ],
      "execution_count": 0,
      "outputs": []
    }
  ]
}