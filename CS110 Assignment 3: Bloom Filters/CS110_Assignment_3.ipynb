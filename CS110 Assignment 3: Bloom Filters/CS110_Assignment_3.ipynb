{
  "nbformat": 4,
  "nbformat_minor": 0,
  "metadata": {
    "kernelspec": {
      "display_name": "Python 3",
      "language": "python",
      "name": "python3"
    },
    "language_info": {
      "codemirror_mode": {
        "name": "ipython",
        "version": 3
      },
      "file_extension": ".py",
      "mimetype": "text/x-python",
      "name": "python",
      "nbconvert_exporter": "python",
      "pygments_lexer": "ipython3",
      "version": "3.6.5"
    },
    "colab": {
      "name": "CS110 Assignment 3",
      "provenance": [],
      "include_colab_link": true
    }
  },
  "cells": [
    {
      "cell_type": "markdown",
      "metadata": {
        "id": "view-in-github",
        "colab_type": "text"
      },
      "source": [
        "<a href=\"https://colab.research.google.com/github/mahmud-nobe/CS110_Assignments/blob/master/CS110%20Assignment%203%3A%20Bloom%20Filters/CS110_Assignment_3.ipynb\" target=\"_parent\"><img src=\"https://colab.research.google.com/assets/colab-badge.svg\" alt=\"Open In Colab\"/></a>"
      ]
    },
    {
      "cell_type": "markdown",
      "metadata": {
        "id": "Q_2E6rSRQLLE",
        "colab_type": "text"
      },
      "source": [
        "Before you turn this problem in, make sure everything runs as expected. First, **restart the kernel** (in the menubar, select Kernel$\\rightarrow$Restart) and then **run all cells** (in the menubar, select Cell$\\rightarrow$Run All).\n",
        "\n",
        "Make sure you fill in any place that says `YOUR CODE HERE` or \"YOUR ANSWER HERE\", as well as your name and collaborators below:"
      ]
    },
    {
      "cell_type": "code",
      "metadata": {
        "id": "j7dPGE1iQLLG",
        "colab_type": "code",
        "colab": {}
      },
      "source": [
        "NAME = \"Md Mahmudunnobe\"\n",
        "COLLABORATORS = \"\""
      ],
      "execution_count": 0,
      "outputs": []
    },
    {
      "cell_type": "markdown",
      "metadata": {
        "id": "GzhnQLkhQLLK",
        "colab_type": "text"
      },
      "source": [
        "---"
      ]
    },
    {
      "cell_type": "markdown",
      "metadata": {
        "deletable": false,
        "editable": false,
        "nbgrader": {
          "checksum": "e5d2038e11c57d2abd9d2c24d9421273",
          "grade": false,
          "grade_id": "cell-26967b3698cd6565",
          "locked": true,
          "schema_version": 1,
          "solution": false
        },
        "id": "C5JGSswBQLLL",
        "colab_type": "text"
      },
      "source": [
        "\n",
        "# CS110 Spring 2020 Assignment - Indexing Techniques and Data Structures.\n",
        "\n",
        "\n",
        "## Overview\n",
        "\n",
        " In this assignment, you  will research  Counting Bloom Filters (CBFs), which are data structures that extend the standard Bloom Filters. You will design and implement in Python a set of CBFs initialized at a given false positive rate, and will need to summarize your findings in a report. A report structured has been provided for you in the form of enumerated tasks, which you should follow.\n",
        " \n",
        " ## Intended Style and Key Audience\n",
        " \n",
        "Your report needs to be written in the style of a chapter from the Cormen textbook (i.e., exhibiting academic rigor and clear explanations) or a Wikipedia page on the subject (i.e., a general overview on a topic that will be peer-reviewed by the world-wide community). Thus, with a beginner’s audience in mind, your report needs to: \n",
        "\n",
        "* Carefully explain the concepts of a CBFs, \n",
        "* Include details on your CBFs design, \n",
        "* Perform an analysis of your implementation and experimental results pertaining to your Python implementation and \n",
        "* Perform a critical comparison analysis between the experimental results and the theoretically predicted ones. \n",
        "* Use the provided code cells to include all your code, and if these are not enough, please add more cells which you deem necessary.\n",
        "* Use the same function names provided in the template. \n",
        "* Thoroughly describe the algorithmic strategies you are employing in a given question. To do so, feel free to include extra Markdown cells whenever relevant--you may find this [how-to-guide](https://medium.com/analytics-vidhya/the-ultimate-markdown-guide-for-jupyter-notebook-d5e5abf728fd) helpful. \n",
        "\n",
        "Make sure you properly cite your sources of information. \n",
        "\n",
        "## Notes on the Submission Materials\n",
        "\n",
        "1. Your **first resource** should be a PDF file created from the Jupyter notebook template provided in these instructions. If your name is “Dumbledore”, your PDF should be named “Dumbledore.pdf”.\n",
        "2. Your **second resource** must be a single Jupyter Notebook named “Dumbledore.ipynb”. Alternatively, you can also submit a zip file that includes your Jupyter notebook, but please make sure to name it “Dumbledore.zip” (if your name is Dumbledore, the Jupyter notebook submitted as part of such zip file should still be named “Dumbledore.ipynb”!).\n",
        "\n",
        "## Notes on the Grading Rubrics\n",
        "\n",
        "* This is a strictly individual assignment. Everything you submit must reflect your own writing and coding. Please do refer to the course guidelines on the syllabus namely in what constitutes plagiarism. \n",
        "* All the tasks will be graded on the indicated companion LOs; please make sure to consult their descriptions and rubrics in the course syllabus to maximally align your approach to them. You will not be penalized for not attempting the optional challenge.\n",
        "* As per the course’s policy on the syllabus, you will need to footnote **at least three HCs** by including a meaningful justification of the application of each HC and how they enabled you to complete part of your work on this assignment. Please refer to [these guidelines](https://docs.google.com/document/d/1s7yOVOtMIaHQdKLeRmZbq1gRqwJKfezBsfru9Q6PcHw/edit) on how to incorporate HCs in your work.\n",
        "\n",
        "## Report Structured Tasks\n",
        "\n",
        "### Task 1. [#responsibility] [appropriate LO for the make-up work] \n",
        "\n",
        "Take a screenshot of your CS110 dashboard on Forum where the following is visible: \n",
        "* your name. \n",
        "* your absences for the course have been set to excused up to the end of week 7 (inclusively). Submit this screenshot as a PNG file on your Jupyter notebook. "
      ]
    },
    {
      "cell_type": "markdown",
      "metadata": {
        "id": "LEGmGvLh4MpV",
        "colab_type": "text"
      },
      "source": [
        "![alt text](https://github.com/mahmud-nobe/CS110_Assignments/raw/master/CS110%20Assignment%203:%20Bloom%20Filters/CS110-stat.PNG)"
      ]
    },
    {
      "cell_type": "code",
      "metadata": {
        "deletable": false,
        "nbgrader": {
          "checksum": "128ce1269093d9e434af0c39cae9cdae",
          "grade": true,
          "grade_id": "cell-bc6c759845183c37",
          "locked": false,
          "points": 0,
          "schema_version": 1,
          "solution": true
        },
        "id": "PKqbHDwOQLLM",
        "colab_type": "code",
        "colab": {}
      },
      "source": [
        "# raise NotImplementedError()"
      ],
      "execution_count": 0,
      "outputs": []
    },
    {
      "cell_type": "markdown",
      "metadata": {
        "deletable": false,
        "editable": false,
        "nbgrader": {
          "checksum": "8469a85198e41dc824049110ffbbc6f3",
          "grade": false,
          "grade_id": "cell-a9085d1cfd0bf0e1",
          "locked": true,
          "schema_version": 1,
          "solution": false
        },
        "id": "VZRNYuYWQLLQ",
        "colab_type": "text"
      },
      "source": [
        "### Task 2.  [#ComputationalSolutions, #DataStructures, #ComplexityAnalysis]  \n",
        "\n",
        "Write a summary  of the CBFs as an indexing technique, with their underlying data structure and  hashing functionality. This is,  list all the operations they support. For all CBF operations, include an analysis of their asymptotic order growth (complexity analysis). Give a few examples of practical, real-life computational applications that can benefit from using CBFs and carefully justify why. "
      ]
    },
    {
      "cell_type": "markdown",
      "metadata": {
        "deletable": false,
        "nbgrader": {
          "checksum": "89b640ab4f7518099d2ca503738991ab",
          "grade": true,
          "grade_id": "cell-b0a98c487d3be44b",
          "locked": false,
          "points": 0,
          "schema_version": 1,
          "solution": true
        },
        "id": "DMLbkrkuQLLR",
        "colab_type": "text"
      },
      "source": [
        "#### Introduction\n",
        "\n",
        "Currently Giuhub has 40 million user and every one of them has their unique id. Now when I want to open an account, every time I chose a user-name, Github has to search through the all available user name to ensure that this user-name is not used before. \n",
        "\n",
        "Counting Bloom Filters are the extension of the standarad bloom filters. So it will be helpful to briefly overview the standard bloom filters. \n",
        "\n",
        "\n",
        "#### Standard Bloom Filter\n",
        "\n",
        "Standard Bloom Filters are space efficient probabilistic \n",
        "\n",
        "\n",
        "#### Counting Bloom filter\n",
        "\n",
        "\n",
        "#### Initialization\n",
        "\n",
        "\n",
        "```\n",
        "INSERT()\n",
        "```\n",
        "\n"
      ]
    },
    {
      "cell_type": "markdown",
      "metadata": {
        "id": "oV7e1Lv_QLLS",
        "colab_type": "text"
      },
      "source": [
        "### Task 3. [#DataStructures, #PythonProgramming, #CodeReadability] \n",
        "\n",
        "Implement in Python 3 your designed CBFs data structure and all its operations using the code template below. Make sure you carefully organize your Python code, write meaningful comments (feel free to use [docstrings](https://www.python.org/dev/peps/pep-0257/)), and provide a thorough justification for your choice of hash functions. \n",
        "\n",
        "If you decide to use the Python library  `mmh3`,  you will need to provide a thorough explanation of why you have chosen the hashing functions therein. You may also use  `numpy`, `matplotlib`, `random`, `statistics`, and `math`. If you plan to use any other external library not mentioned in this list, you will need to contact your instructor first for validation.\n",
        "\n",
        "Make sure to strictly follow the honor code as any plagiarism attempt will be referred to the ASC. Please refer to [resource1](https://new.library.arizona.edu/research/citing/plagiarism) and [resource2](https://poorvucenter.yale.edu/writing/using-sources/understanding-and-avoiding-plagiarism/what-plagiarism), which specify what constitutes plagiarism. \n",
        "\n",
        "Demonstrate how your code works by inserting a list of words in [Shakespeare’s works](https://ocw.mit.edu/ans7870/6/6.006/s08/lecturenotes/files/t8.shakespeare.txt). The following lines of code will create such a list of words in Python:\n",
        "\n",
        "```python\n",
        "txt_file = open(\"t8.shakespeare.txt\", \"r\")\n",
        "\n",
        "entries = txt_file.read().split(' ')\n",
        "lines = [string.replace('\\n', '') for string in entries]\n",
        "all_text = [line for line in lines if line != '']\n",
        "```\n",
        "\n",
        "Feel free to use another interesting dataset for further validation, but this is optional."
      ]
    },
    {
      "cell_type": "code",
      "metadata": {
        "id": "n9slkMvP9Ose",
        "colab_type": "code",
        "colab": {
          "base_uri": "https://localhost:8080/",
          "height": 34
        },
        "outputId": "b7f5db45-e1e3-4b80-ffa0-9ce00087f244"
      },
      "source": [
        "# import necessary packages\n",
        "\n",
        "!pip install mmh3\n",
        "import mmh3\n",
        "import hashlib\n",
        "\n",
        "import numpy as np\n",
        "import time\n",
        "import math"
      ],
      "execution_count": 23,
      "outputs": [
        {
          "output_type": "stream",
          "text": [
            "Requirement already satisfied: mmh3 in /usr/local/lib/python3.6/dist-packages (2.5.1)\n"
          ],
          "name": "stdout"
        }
      ]
    },
    {
      "cell_type": "code",
      "metadata": {
        "id": "8NxXqGTJ4YeC",
        "colab_type": "code",
        "outputId": "499887db-d9c5-48f2-8a2e-8f995a0cc0e9",
        "colab": {
          "base_uri": "https://localhost:8080/",
          "height": 34
        }
      },
      "source": [
        "# reading the words from the shakespeare file\n",
        "\n",
        "txt_file = open(\"t8.shakespeare.txt\", \"r\")\n",
        " \n",
        "entries = txt_file.read().split(' ')\n",
        "lines = [string.replace('\\n', '') for string in entries]\n",
        "all_text = [line for line in lines if line != '']\n",
        "len(all_text)"
      ],
      "execution_count": 24,
      "outputs": [
        {
          "output_type": "execute_result",
          "data": {
            "text/plain": [
              "896183"
            ]
          },
          "metadata": {
            "tags": []
          },
          "execution_count": 24
        }
      ]
    },
    {
      "cell_type": "markdown",
      "metadata": {
        "id": "9bkmBrQOaAxj",
        "colab_type": "text"
      },
      "source": [
        "Two very important criterias for a good hash function are the following\n",
        "- Its hashing time should be fast as we will call it again and again while inserting or deleting a new element as well as searching. So if it is slow, it will decrease the overall  efficiency of the algorithm.\n",
        "\n",
        "- The output of the hash function should be uniformly distributed. When the distribution is uniform, its equally likely for a given item to hash in any item in the hash table. Uniform distribution ensure less collision and improve the overall efficiency\n",
        "\n",
        "We will compare the hash functions of mmh3 and hashlib packages based on these two properties to understand which will be a good hash function to use in our algorithm."
      ]
    },
    {
      "cell_type": "code",
      "metadata": {
        "id": "A4W4JzVm_9Af",
        "colab_type": "code",
        "colab": {}
      },
      "source": [
        "######\n",
        "# Thesting the efficiency (hashing time and distribution of hashed value) of different hash functions  \n",
        "######\n",
        "\n",
        "# lists for storing hashed values\n",
        "hashlib1 = []\n",
        "hashlib2 = []\n",
        "hashlib3 = []\n",
        "\n",
        "mmh3_1 = []\n",
        "mmh3_2 = []\n",
        "mmh3_3 = []\n",
        "\n",
        "# for storing the hashed computed time\n",
        "time_hashlib1 = 0\n",
        "time_hashlib2 = 0\n",
        "time_hashlib3 = 0\n",
        "\n",
        "time_mmh3_1 = 0\n",
        "time_mmh3_2 = 0\n",
        "time_mmh3_3 = 0\n",
        "\n",
        "# slot size in hash table\n",
        "num_slot = 2000\n",
        "\n",
        "for word in all_text:\n",
        "  \n",
        "  ### hashlib package: \n",
        "\n",
        "  # 1st hash functions from hashlib: algorthim: sha3_256\n",
        "  start = time.time() \n",
        "  # encode the word, then use the algorithm to get a hash_value,\n",
        "  # digest it as hexadecimal value, then transform to integer and \n",
        "  # then take the mode of num_slot\n",
        "  hash_value = int(hashlib.sha3_256(word.encode()).hexdigest(), 16) % num_slot\n",
        "  end = time.time()\n",
        "\n",
        "  # appending the hash_value in corresponding list\n",
        "  # and increment the corresponding hashing time\n",
        "  hashlib1.append(hash_value)\n",
        "  time_hashlib1 += end - start\n",
        "\n",
        "  # 2nd hash functions from hashlib: algorthim: sha3_384\n",
        "  start = time.time() \n",
        "  hash_value = int(hashlib.sha3_384(word.encode()).hexdigest(), 16) % num_slot\n",
        "  end = time.time()\n",
        "\n",
        "  # appending the hash_value in corresponding list\n",
        "  # and increment the corresponding hashing time\n",
        "  hashlib2.append(hash_value)\n",
        "  time_hashlib2 += end - start\n",
        "\n",
        "  # 3rd hash functions from hashlib: algorthim: sha3_512\n",
        "  start = time.time() \n",
        "  hash_value = int(hashlib.sha3_512(word.encode()).hexdigest(), 16) % num_slot\n",
        "  end = time.time()\n",
        "\n",
        "  # appending the hash_value in corresponding list\n",
        "  # and increment the corresponding hashing time\n",
        "  hashlib3.append(hash_value)\n",
        "  time_hashlib3 += end - start\n",
        "\n",
        "  ### mmh3 package\n",
        "\n",
        "  # 1st hash functions from mmh3 with seed = 200\n",
        "  start = time.time() \n",
        "  # hashed the word using a specific seed and then take the mode of num_slot\n",
        "  hash_value = mmh3.hash(word, seed = 200) % num_slot\n",
        "  end = time.time()\n",
        "\n",
        "  # appending the hash_value in corresponding list\n",
        "  # and increment the corresponding hashing time\n",
        "  mmh3_1.append(hash_value)\n",
        "  time_mmh3_1 += end - start\n",
        "\n",
        "  # 2nd hash functions from mmh3 with seed = 300\n",
        "  start = time.time() \n",
        "  hash_value = mmh3.hash(word, seed = 300) % num_slot\n",
        "  end = time.time()\n",
        "\n",
        "  # appending the hash_value in corresponding list\n",
        "  # and increment the corresponding hashing time\n",
        "  mmh3_2.append(hash_value)\n",
        "  time_mmh3_2 += end - start\n",
        "\n",
        "  # 3rd hash functions from mmh3 with seed = 400\n",
        "  start = time.time() \n",
        "  hash_value = mmh3.hash(word, seed = 400) % num_slot\n",
        "  end = time.time()\n",
        "\n",
        "  # appending the hash_value in corresponding list\n",
        "  # and increment the corresponding hashing time\n",
        "  mmh3_3.append(hash_value)\n",
        "  time_mmh3_3 += end - start"
      ],
      "execution_count": 0,
      "outputs": []
    },
    {
      "cell_type": "code",
      "metadata": {
        "id": "GvO12Z65Gygz",
        "colab_type": "code",
        "outputId": "4fb91250-98ba-4b93-c0a9-87dba672965e",
        "colab": {
          "base_uri": "https://localhost:8080/",
          "height": 663
        }
      },
      "source": [
        "import matplotlib.pyplot as plt\n",
        "import seaborn as sns\n",
        "\n",
        "### plotting and analyzing the Histogram\n",
        "\n",
        "# create subplots\n",
        "fig, ax =  plt.subplots(2,3, figsize = (15,10))\n",
        "\n",
        "# title\n",
        "fig.suptitle('Histogram for Different Hash Functions', fontsize = 20)\n",
        "\n",
        "# plot histogram and set the corresponding titles \n",
        "sns.distplot(hashlib1, ax = ax[0][0])\n",
        "ax[0][0].set_title('Hashlib 1')\n",
        "\n",
        "sns.distplot(hashlib2, ax = ax[0][1])\n",
        "ax[0][1].set_title('Hashlib 3')\n",
        "\n",
        "sns.distplot(hashlib3, ax = ax[0][2])\n",
        "ax[0][2].set_title('Hashlib 3')\n",
        "\n",
        "sns.distplot(mmh3_1, ax = ax[1][0])\n",
        "ax[1][0].set_title('mmh3 1')\n",
        "\n",
        "sns.distplot(mmh3_2, ax = ax[1][1])\n",
        "ax[1][1].set_title('mmh3 2')\n",
        "\n",
        "sns.distplot(mmh3_3, ax = ax[1][2])\n",
        "ax[1][2].set_title('mmh3 3')\n",
        "\n",
        "plt.show()"
      ],
      "execution_count": 26,
      "outputs": [
        {
          "output_type": "display_data",
          "data": {
            "image/png": "[encoded data removed]",
            "text/plain": [
              "<Figure size 1080x720 with 6 Axes>"
            ]
          },
          "metadata": {
            "tags": []
          }
        }
      ]
    },
    {
      "cell_type": "code",
      "metadata": {
        "id": "qlgmRzrrEBsg",
        "colab_type": "code",
        "outputId": "efb74a8c-d5c3-4ff2-9c8f-65132f4774fd",
        "colab": {
          "base_uri": "https://localhost:8080/",
          "height": 297
        }
      },
      "source": [
        "# Now plotting the hashing time for each hash functions\n",
        "\n",
        "sns.barplot(['Hashlib 1', 'Hashlib 2', 'Hashlib 3', 'mmh3 1', 'mmh3 2', 'mmh3 3'],\n",
        "        [time_hashlib1, time_hashlib2, time_hashlib3, \n",
        "         time_mmh3_1, time_mmh3_2, time_mmh3_3])\n",
        "plt.title('Time taken for different hash function to hash a constant number of item', fontsize = 15)\n",
        "plt.ylabel('Time (s)')\n",
        "plt.xlabel('Hash function')\n",
        "plt.show()"
      ],
      "execution_count": 27,
      "outputs": [
        {
          "output_type": "display_data",
          "data": {
            "image/png": "[encoded data removed]",
            "text/plain": [
              "<Figure size 432x288 with 1 Axes>"
            ]
          },
          "metadata": {
            "tags": []
          }
        }
      ]
    },
    {
      "cell_type": "markdown",
      "metadata": {
        "id": "_kFJ3OGoLoci",
        "colab_type": "text"
      },
      "source": [
        "Hash function from both packages show almost uniform distribution but the hashing time for mmh3 packages are way more smaller (about half of hashlib). So it will be more efficient to use the function from mmh3 packages.\n"
      ]
    },
    {
      "cell_type": "code",
      "metadata": {
        "id": "TwrjbpYJQLLT",
        "colab_type": "code",
        "colab": {}
      },
      "source": [
        "# Feel free to define additional classes that you think are helpful \n",
        "# in building this class of CountingBloomFilter \n",
        "\n",
        "import numpy as np\n",
        "# import mmh3\n",
        "\n",
        "class CountingBloomFilter(object):\n",
        "    \"\"\"Implement the counting bloom filter which supports:\n",
        "    - search: queries the membership of an element\n",
        "    - insert: inserts a string to the filter\n",
        "    - delete: removes a string from the filter \n",
        "    \n",
        "    Feel free to define any helpful additional methods.\n",
        "    \"\"\"\n",
        "    def __init__(self, num_item, fpr):\n",
        "        \"\"\"\n",
        "        /YOUR ARGUMENTS/ are the two parameters of your choice from the \n",
        "        following parameters of a CBF:\n",
        "        - fpr: float, false positive rate\n",
        "        - memory_size: int, memory size\n",
        "        - num_item: int, number of items stored\n",
        "        - num_hashfn: int, number of hash functions\n",
        "        \n",
        "        For example, if you choose fpr and memory_size, edit your __init__ to\n",
        "        `def __init__(self, memory_size, fpr)`\n",
        "        \"\"\"\n",
        "        # false positive rate\n",
        "        self.fpr = fpr\n",
        "\n",
        "        # number of item\n",
        "        self.num_item = num_item\n",
        "\n",
        "        # memory size\n",
        "        self.memory_size = -1*int( (self.num_item * math.log(self.fpr)) / (math.log(2)**2) )\n",
        "        \n",
        "        # initialize an empty numpy array as our hash table\n",
        "        self.hash_table = np.zeros(self.memory_size)\n",
        "\n",
        "        # number of hash functions\n",
        "        self.num_hashfn = int((self.memory_size/self.num_item) * math.log(2)) \n",
        "    \n",
        "    def hash_cbf(self, item):\n",
        "        \"\"\"\n",
        "        Returns hash values of an item\n",
        "        input:\n",
        "          a str as an item\n",
        "        output:\n",
        "          a list of the hashed_slot for that item \n",
        "        \"\"\"\n",
        "        # empty array for storing the hashed slots\n",
        "        hashed_slots = []\n",
        "\n",
        "        # calculate the slot using num_hashfn number of hash functions\n",
        "        # it used murmur hash function from mmh3 package and \n",
        "        # ith hash function use i*5 as its seed\n",
        "        for num in range(self.num_hashfn):\n",
        "          slot = mmh3.hash(item, seed = 5*num) % self.memory_size\n",
        "          hashed_slots.append(slot)\n",
        "\n",
        "        return hashed_slots\n",
        "    \n",
        "    def search(self, item):\n",
        "        \"\"\"\n",
        "        Checks if an item is present in the hash table or not.\n",
        "        Input:\n",
        "          an item to search for\n",
        "        Output:\n",
        "          True: if it is probably present\n",
        "          False: if it not present\n",
        "        \"\"\"\n",
        "\n",
        "        hashed_slots = self.hash_cbf(item)\n",
        "\n",
        "        # check for every hashed_slot for that item\n",
        "        # if any of the slot is 0, return False\n",
        "        for slot in hashed_slots:\n",
        "          if (self.hash_table[slot] == 0):\n",
        "            return False\n",
        "        \n",
        "        # if no slot contains 0, returns True\n",
        "        return True\n",
        "    \n",
        "    def insert(self, item):\n",
        "        \"\"\"\n",
        "        Inserts  \n",
        "        \"\"\"\n",
        "        hashed_slots = self.hash_cbf(item)\n",
        "\n",
        "        for slot in hashed_slots:\n",
        "          self.hash_table[slot] += 1\n",
        "\n",
        "        return self\n",
        "    \n",
        "    def delete(self, item):\n",
        "        \"\"\"\n",
        "        [YOUR FUNCTION DESCRIPTION]\n",
        "        \"\"\"\n",
        "        if (search(self, item)):\n",
        "          hashed_slots = self.hash_cbf(item)\n",
        "\n",
        "          for slot in hashed_slots:\n",
        "            self.hash_table[slot] -= 1\n",
        "        else:\n",
        "          KeyError('{} not found in counting_bloom_filter'.format(item))\n",
        "        \n",
        "        return self\n"
      ],
      "execution_count": 0,
      "outputs": []
    },
    {
      "cell_type": "code",
      "metadata": {
        "id": "YBBgPqqRvXUc",
        "colab_type": "code",
        "outputId": "0dc5183b-ae1a-4f63-efe4-f984c96dd33f",
        "colab": {
          "base_uri": "https://localhost:8080/",
          "height": 34
        }
      },
      "source": [
        "txt_file = open(\"t8.shakespeare.txt\", \"r\")\n",
        " \n",
        "entries = txt_file.read().split(' ')\n",
        "lines = [string.replace('\\n', '') for string in entries]\n",
        "all_text = [line for line in lines if line != '']\n",
        "len(all_text)"
      ],
      "execution_count": 29,
      "outputs": [
        {
          "output_type": "execute_result",
          "data": {
            "text/plain": [
              "896183"
            ]
          },
          "metadata": {
            "tags": []
          },
          "execution_count": 29
        }
      ]
    },
    {
      "cell_type": "code",
      "metadata": {
        "id": "3Ii3tep3wT6F",
        "colab_type": "code",
        "colab": {}
      },
      "source": [
        ""
      ],
      "execution_count": 0,
      "outputs": []
    },
    {
      "cell_type": "code",
      "metadata": {
        "id": "pL45BSlKxIbL",
        "colab_type": "code",
        "outputId": "d585ef2d-226d-4945-d2d3-95eaffa307b9",
        "colab": {
          "base_uri": "https://localhost:8080/",
          "height": 231
        }
      },
      "source": [
        "num_item = 20000\n",
        "fpr = 0.1\n",
        "\n",
        "CBFs = CountingBloomFilter(num_item, fpr)\n",
        "\n",
        "np.random.shuffle(all_text)\n",
        "num_item = int(len(all_text) * 0.5)\n",
        "\n",
        "present = all_text[:num_item]\n",
        "absent = all_text[num_item:]\n",
        "\n",
        "np.random.shuffle(present)\n",
        "np.random.shuffle(absent)\n",
        "\n",
        "for word in present:\n",
        "  CBFs.insert(word)\n",
        "\n",
        "true_positive = 0\n",
        "false_positive = 0\n",
        "\n",
        "for word in all_text:\n",
        "  is_found = CBFs.search(word)\n",
        "\n",
        "  if (is_found):\n",
        "    if (word not in present):\n",
        "      false_positive += 1 \n",
        "    else:\n",
        "      true_positive += 1\n",
        "\n",
        "total_positive = false_positive + true_positive\n",
        "print('True Positive, False Positive, False Positive Rate:',true_positive, false_positive, false_positive/(total_positive))"
      ],
      "execution_count": 30,
      "outputs": [
        {
          "output_type": "error",
          "ename": "KeyboardInterrupt",
          "evalue": "ignored",
          "traceback": [
            "\u001b[0;31m---------------------------------------------------------------------------\u001b[0m",
            "\u001b[0;31mKeyboardInterrupt\u001b[0m                         Traceback (most recent call last)",
            "\u001b[0;32m<ipython-input-30-d953c04731ab>\u001b[0m in \u001b[0;36m<module>\u001b[0;34m()\u001b[0m\n\u001b[1;32m     23\u001b[0m \u001b[0;34m\u001b[0m\u001b[0m\n\u001b[1;32m     24\u001b[0m   \u001b[0;32mif\u001b[0m \u001b[0;34m(\u001b[0m\u001b[0mis_found\u001b[0m\u001b[0;34m)\u001b[0m\u001b[0;34m:\u001b[0m\u001b[0;34m\u001b[0m\u001b[0;34m\u001b[0m\u001b[0m\n\u001b[0;32m---> 25\u001b[0;31m     \u001b[0;32mif\u001b[0m \u001b[0;34m(\u001b[0m\u001b[0mword\u001b[0m \u001b[0;32mnot\u001b[0m \u001b[0;32min\u001b[0m \u001b[0mpresent\u001b[0m\u001b[0;34m)\u001b[0m\u001b[0;34m:\u001b[0m\u001b[0;34m\u001b[0m\u001b[0;34m\u001b[0m\u001b[0m\n\u001b[0m\u001b[1;32m     26\u001b[0m       \u001b[0mfalse_positive\u001b[0m \u001b[0;34m+=\u001b[0m \u001b[0;36m1\u001b[0m\u001b[0;34m\u001b[0m\u001b[0;34m\u001b[0m\u001b[0m\n\u001b[1;32m     27\u001b[0m     \u001b[0;32melse\u001b[0m\u001b[0;34m:\u001b[0m\u001b[0;34m\u001b[0m\u001b[0;34m\u001b[0m\u001b[0m\n",
            "\u001b[0;31mKeyboardInterrupt\u001b[0m: "
          ]
        }
      ]
    },
    {
      "cell_type": "code",
      "metadata": {
        "id": "v5UUybI1fsa2",
        "colab_type": "code",
        "outputId": "fd199ba2-7ef7-416a-bb6c-a0c29f27b8c0",
        "colab": {
          "base_uri": "https://localhost:8080/",
          "height": 119
        }
      },
      "source": [
        "#testing shell\n",
        "\n",
        "import math\n",
        "\n",
        "#!pip install mmh3\n",
        "import mmh3\n",
        "mmh3.hash('foo', 1)\n",
        "\n",
        "item = 9\n",
        "print()\n",
        "print('{} not found in counting_bloom_filter'.format(item))\n",
        "import numpy as np\n",
        "slots = [1,2,3]\n",
        "key = np.array([3,0,0,0,7,5])\n",
        "np.append(key, 4)\n",
        "print(key[slots] == 0)\n",
        "print(key)\n",
        "#else:\n",
        " # print(slots)\n",
        "\n",
        "\n",
        "n = 10\n",
        "p = 0.6\n",
        "m =  -1*int( (n * math.log(p)) / (math.log(2)**2) )\n",
        "print(m) \n",
        "\n",
        "np.random.sample()\n",
        "\n"
      ],
      "execution_count": 0,
      "outputs": [
        {
          "output_type": "stream",
          "text": [
            "\n",
            "9 not found in counting_bloom_filter\n",
            "[ True  True  True]\n",
            "[3 0 0 0 7 5]\n",
            "10\n"
          ],
          "name": "stdout"
        },
        {
          "output_type": "execute_result",
          "data": {
            "text/plain": [
              "'him'"
            ]
          },
          "metadata": {
            "tags": []
          },
          "execution_count": 31
        }
      ]
    },
    {
      "cell_type": "code",
      "metadata": {
        "id": "DUVLPzIcCDyZ",
        "colab_type": "code",
        "colab": {
          "base_uri": "https://localhost:8080/",
          "height": 163
        },
        "outputId": "dfc603b3-2209-49fe-e4ff-341be8624512"
      },
      "source": [
        "mmh3.hash(12)"
      ],
      "execution_count": 4,
      "outputs": [
        {
          "output_type": "error",
          "ename": "TypeError",
          "evalue": "ignored",
          "traceback": [
            "\u001b[0;31m---------------------------------------------------------------------------\u001b[0m",
            "\u001b[0;31mTypeError\u001b[0m                                 Traceback (most recent call last)",
            "\u001b[0;32m<ipython-input-4-97d0d8a219ef>\u001b[0m in \u001b[0;36m<module>\u001b[0;34m()\u001b[0m\n\u001b[0;32m----> 1\u001b[0;31m \u001b[0mmmh3\u001b[0m\u001b[0;34m.\u001b[0m\u001b[0mhash\u001b[0m\u001b[0;34m(\u001b[0m\u001b[0;36m12\u001b[0m\u001b[0;34m)\u001b[0m\u001b[0;34m\u001b[0m\u001b[0;34m\u001b[0m\u001b[0m\n\u001b[0m",
            "\u001b[0;31mTypeError\u001b[0m: a bytes-like object is required, not 'int'"
          ]
        }
      ]
    },
    {
      "cell_type": "code",
      "metadata": {
        "id": "wJNKCjtkAHAw",
        "colab_type": "code",
        "outputId": "a20b58c9-4ce1-4907-dccd-aac904efeecb",
        "colab": {
          "base_uri": "https://localhost:8080/",
          "height": 68
        }
      },
      "source": [
        "num_item = 20\n",
        "fpr = 0.05\n",
        "\n",
        "CBFs = CountingBloomFilter(num_item, fpr)\n",
        "print(CBFs.hash_table[:10])\n",
        "print(CBFs.memory_size)\n",
        "CBFs.memory_size = 10\n",
        "print(CBFs.memory_size)\n",
        "\n",
        "for word in present[:200]:\n",
        "  CBFs.insert(word)"
      ],
      "execution_count": 0,
      "outputs": [
        {
          "output_type": "stream",
          "text": [
            "[0 0 0 0 0 0 0 0 0 0]\n",
            "124\n",
            "10\n"
          ],
          "name": "stdout"
        }
      ]
    },
    {
      "cell_type": "code",
      "metadata": {
        "id": "3zzGn6ehA_CG",
        "colab_type": "code",
        "outputId": "cd009f14-cfd8-4970-a98c-c607df4c6cbd",
        "colab": {
          "base_uri": "https://localhost:8080/",
          "height": 34
        }
      },
      "source": [
        "len(CBFs.hash_table)\n",
        "print(CBFs.hash_table[:10])"
      ],
      "execution_count": 0,
      "outputs": [
        {
          "output_type": "stream",
          "text": [
            "[ 122  114  100  109 -123 -117  126  120  104 -123]\n"
          ],
          "name": "stdout"
        }
      ]
    },
    {
      "cell_type": "markdown",
      "metadata": {
        "deletable": false,
        "editable": false,
        "nbgrader": {
          "checksum": "e80f94d7ec5e70f525c050d9abd6a418",
          "grade": false,
          "grade_id": "cell-55313f6a52567abd",
          "locked": true,
          "schema_version": 1,
          "solution": false
        },
        "id": "sfW86lX1QLLW",
        "colab_type": "text"
      },
      "source": [
        "### Task 4 [#ComplexityAnalysis, #ComputationalCritique].\n",
        "\n",
        "Now you will verify the effectiveness of your CBF implementation by testing how well the implementation matches or diverges from the theoretical findings. The following tasks will help you make this computational analysis. Explicitly include any assumptions you have made to arrive at your results. If there are any discrepancies between the theory and the computational experiments, provide an explanation for these.\n",
        "\n",
        "1. [#DataStructures] Create several CBFs (at least 10) for different FPRs, and evaluate how the memory size scales with the FPR. \n",
        "2. [#DataStructures] How does the memory size scale with the number of items stored, for a fixed FPR?\n",
        "3. [#DataStructures, #ComplexityAnalysis] How does the actual FPR scale with the number of hash functions?\n",
        "4. [#DataStructures, #ComplexityAnalysis] How does the access time to hashed values scale with the number of items stored in a CBF kept at constant FPR?\n"
      ]
    },
    {
      "cell_type": "code",
      "metadata": {
        "id": "WmdRn266pVSX",
        "colab_type": "code",
        "colab": {
          "base_uri": "https://localhost:8080/",
          "height": 34
        },
        "outputId": "0ae82631-2b16-4bc9-f90e-5eb78b3bec01"
      },
      "source": [
        "a = [9,0]\n",
        "b = ['plo','plo']\n",
        "a+b"
      ],
      "execution_count": 17,
      "outputs": [
        {
          "output_type": "execute_result",
          "data": {
            "text/plain": [
              "[9, 0, 'plo', 'plo']"
            ]
          },
          "metadata": {
            "tags": []
          },
          "execution_count": 17
        }
      ]
    },
    {
      "cell_type": "code",
      "metadata": {
        "id": "7BAXE2Ijqrc8",
        "colab_type": "code",
        "colab": {}
      },
      "source": [
        "FPRs = np.linspace(0.01, 1, 20)\n",
        "num_items = np.linspace(200, 2000, 10).astype('int32')\n",
        "memory_sizes = []\n",
        "\n",
        "for fpr in FPRs:\n",
        "  for num_item in num_items:\n",
        "    CBFs = CountingBloomFilter(num_item, fpr)\n",
        "    memory_sizes.append(CBFs.memory_size)\n",
        "\n"
      ],
      "execution_count": 0,
      "outputs": []
    },
    {
      "cell_type": "code",
      "metadata": {
        "id": "pO4evy1ysrUc",
        "colab_type": "code",
        "colab": {
          "base_uri": "https://localhost:8080/",
          "height": 340
        },
        "outputId": "8579165c-7ed1-43f3-cd81-0eeeea7f36ab"
      },
      "source": [
        "\n",
        "np.tile(num_items, 20)"
      ],
      "execution_count": 43,
      "outputs": [
        {
          "output_type": "execute_result",
          "data": {
            "text/plain": [
              "array([ 200,  400,  600,  800, 1000, 1200, 1400, 1600, 1800, 2000,  200,\n",
              "        400,  600,  800, 1000, 1200, 1400, 1600, 1800, 2000,  200,  400,\n",
              "        600,  800, 1000, 1200, 1400, 1600, 1800, 2000,  200,  400,  600,\n",
              "        800, 1000, 1200, 1400, 1600, 1800, 2000,  200,  400,  600,  800,\n",
              "       1000, 1200, 1400, 1600, 1800, 2000,  200,  400,  600,  800, 1000,\n",
              "       1200, 1400, 1600, 1800, 2000,  200,  400,  600,  800, 1000, 1200,\n",
              "       1400, 1600, 1800, 2000,  200,  400,  600,  800, 1000, 1200, 1400,\n",
              "       1600, 1800, 2000,  200,  400,  600,  800, 1000, 1200, 1400, 1600,\n",
              "       1800, 2000,  200,  400,  600,  800, 1000, 1200, 1400, 1600, 1800,\n",
              "       2000,  200,  400,  600,  800, 1000, 1200, 1400, 1600, 1800, 2000,\n",
              "        200,  400,  600,  800, 1000, 1200, 1400, 1600, 1800, 2000,  200,\n",
              "        400,  600,  800, 1000, 1200, 1400, 1600, 1800, 2000,  200,  400,\n",
              "        600,  800, 1000, 1200, 1400, 1600, 1800, 2000,  200,  400,  600,\n",
              "        800, 1000, 1200, 1400, 1600, 1800, 2000,  200,  400,  600,  800,\n",
              "       1000, 1200, 1400, 1600, 1800, 2000,  200,  400,  600,  800, 1000,\n",
              "       1200, 1400, 1600, 1800, 2000,  200,  400,  600,  800, 1000, 1200,\n",
              "       1400, 1600, 1800, 2000,  200,  400,  600,  800, 1000, 1200, 1400,\n",
              "       1600, 1800, 2000,  200,  400,  600,  800, 1000, 1200, 1400, 1600,\n",
              "       1800, 2000], dtype=int32)"
            ]
          },
          "metadata": {
            "tags": []
          },
          "execution_count": 43
        }
      ]
    },
    {
      "cell_type": "code",
      "metadata": {
        "id": "ZhRleaB-rnzZ",
        "colab_type": "code",
        "colab": {
          "base_uri": "https://localhost:8080/",
          "height": 501
        },
        "outputId": "45494250-81f2-447e-84a3-980eeeaf7d8c"
      },
      "source": [
        "plotting_data = dict({'FPRs':FPRs.repeat(10),\n",
        "                      'num_item': np.tile(num_items, 20),\n",
        "                      'memory_size': memory_sizes})\n",
        "\n",
        "sns.set(rc={'figure.figsize':(11.7,8.27)})\n",
        "sns.lineplot(x = 'FPRs', y='memory_size', hue='num_item', data=plotting_data)\n",
        "plt.show()"
      ],
      "execution_count": 58,
      "outputs": [
        {
          "output_type": "display_data",
          "data": {
            "image/png": "[encoded data removed]",
            "text/plain": [
              "<Figure size 842.4x595.44 with 1 Axes>"
            ]
          },
          "metadata": {
            "tags": []
          }
        }
      ]
    },
    {
      "cell_type": "code",
      "metadata": {
        "id": "pXLx-anlq_5I",
        "colab_type": "code",
        "colab": {
          "base_uri": "https://localhost:8080/",
          "height": 306
        },
        "outputId": "c7d1fe28-7ac2-4d60-9452-9bdf3a3d25eb"
      },
      "source": [
        "sns.scatterplot([(x,y) for x in FPRs and y in num_items])"
      ],
      "execution_count": 33,
      "outputs": [
        {
          "output_type": "error",
          "ename": "ValueError",
          "evalue": "ignored",
          "traceback": [
            "\u001b[0;31m---------------------------------------------------------------------------\u001b[0m",
            "\u001b[0;31mValueError\u001b[0m                                Traceback (most recent call last)",
            "\u001b[0;32m<ipython-input-33-e5e82a670020>\u001b[0m in \u001b[0;36m<module>\u001b[0;34m()\u001b[0m\n\u001b[0;32m----> 1\u001b[0;31m \u001b[0msns\u001b[0m\u001b[0;34m.\u001b[0m\u001b[0mscatterplot\u001b[0m\u001b[0;34m(\u001b[0m\u001b[0mFPRs\u001b[0m\u001b[0;34m,\u001b[0m \u001b[0mnum_items\u001b[0m\u001b[0;34m)\u001b[0m\u001b[0;34m\u001b[0m\u001b[0;34m\u001b[0m\u001b[0m\n\u001b[0m",
            "\u001b[0;32m/usr/local/lib/python3.6/dist-packages/seaborn/relational.py\u001b[0m in \u001b[0;36mscatterplot\u001b[0;34m(x, y, hue, style, size, data, palette, hue_order, hue_norm, sizes, size_order, size_norm, markers, style_order, x_bins, y_bins, units, estimator, ci, n_boot, alpha, x_jitter, y_jitter, legend, ax, **kwargs)\u001b[0m\n\u001b[1;32m   1400\u001b[0m         \u001b[0mx_bins\u001b[0m\u001b[0;34m=\u001b[0m\u001b[0mx_bins\u001b[0m\u001b[0;34m,\u001b[0m \u001b[0my_bins\u001b[0m\u001b[0;34m=\u001b[0m\u001b[0my_bins\u001b[0m\u001b[0;34m,\u001b[0m\u001b[0;34m\u001b[0m\u001b[0;34m\u001b[0m\u001b[0m\n\u001b[1;32m   1401\u001b[0m         \u001b[0mestimator\u001b[0m\u001b[0;34m=\u001b[0m\u001b[0mestimator\u001b[0m\u001b[0;34m,\u001b[0m \u001b[0mci\u001b[0m\u001b[0;34m=\u001b[0m\u001b[0mci\u001b[0m\u001b[0;34m,\u001b[0m \u001b[0mn_boot\u001b[0m\u001b[0;34m=\u001b[0m\u001b[0mn_boot\u001b[0m\u001b[0;34m,\u001b[0m\u001b[0;34m\u001b[0m\u001b[0;34m\u001b[0m\u001b[0m\n\u001b[0;32m-> 1402\u001b[0;31m         \u001b[0malpha\u001b[0m\u001b[0;34m=\u001b[0m\u001b[0malpha\u001b[0m\u001b[0;34m,\u001b[0m \u001b[0mx_jitter\u001b[0m\u001b[0;34m=\u001b[0m\u001b[0mx_jitter\u001b[0m\u001b[0;34m,\u001b[0m \u001b[0my_jitter\u001b[0m\u001b[0;34m=\u001b[0m\u001b[0my_jitter\u001b[0m\u001b[0;34m,\u001b[0m \u001b[0mlegend\u001b[0m\u001b[0;34m=\u001b[0m\u001b[0mlegend\u001b[0m\u001b[0;34m,\u001b[0m\u001b[0;34m\u001b[0m\u001b[0;34m\u001b[0m\u001b[0m\n\u001b[0m\u001b[1;32m   1403\u001b[0m     )\n\u001b[1;32m   1404\u001b[0m \u001b[0;34m\u001b[0m\u001b[0m\n",
            "\u001b[0;32m/usr/local/lib/python3.6/dist-packages/seaborn/relational.py\u001b[0m in \u001b[0;36m__init__\u001b[0;34m(self, x, y, hue, size, style, data, palette, hue_order, hue_norm, sizes, size_order, size_norm, dashes, markers, style_order, x_bins, y_bins, units, estimator, ci, n_boot, alpha, x_jitter, y_jitter, legend)\u001b[0m\n\u001b[1;32m    889\u001b[0m \u001b[0;34m\u001b[0m\u001b[0m\n\u001b[1;32m    890\u001b[0m         plot_data = self.establish_variables(\n\u001b[0;32m--> 891\u001b[0;31m             \u001b[0mx\u001b[0m\u001b[0;34m,\u001b[0m \u001b[0my\u001b[0m\u001b[0;34m,\u001b[0m \u001b[0mhue\u001b[0m\u001b[0;34m,\u001b[0m \u001b[0msize\u001b[0m\u001b[0;34m,\u001b[0m \u001b[0mstyle\u001b[0m\u001b[0;34m,\u001b[0m \u001b[0munits\u001b[0m\u001b[0;34m,\u001b[0m \u001b[0mdata\u001b[0m\u001b[0;34m\u001b[0m\u001b[0;34m\u001b[0m\u001b[0m\n\u001b[0m\u001b[1;32m    892\u001b[0m         )\n\u001b[1;32m    893\u001b[0m \u001b[0;34m\u001b[0m\u001b[0m\n",
            "\u001b[0;32m/usr/local/lib/python3.6/dist-packages/seaborn/relational.py\u001b[0m in \u001b[0;36mestablish_variables\u001b[0;34m(self, x, y, hue, size, style, units, data)\u001b[0m\n\u001b[1;32m    155\u001b[0m                 \u001b[0munits\u001b[0m\u001b[0;34m=\u001b[0m\u001b[0munits\u001b[0m\u001b[0;34m\u001b[0m\u001b[0;34m\u001b[0m\u001b[0m\n\u001b[1;32m    156\u001b[0m             )\n\u001b[0;32m--> 157\u001b[0;31m             \u001b[0mplot_data\u001b[0m \u001b[0;34m=\u001b[0m \u001b[0mpd\u001b[0m\u001b[0;34m.\u001b[0m\u001b[0mDataFrame\u001b[0m\u001b[0;34m(\u001b[0m\u001b[0mplot_data\u001b[0m\u001b[0;34m)\u001b[0m\u001b[0;34m\u001b[0m\u001b[0;34m\u001b[0m\u001b[0m\n\u001b[0m\u001b[1;32m    158\u001b[0m \u001b[0;34m\u001b[0m\u001b[0m\n\u001b[1;32m    159\u001b[0m         \u001b[0;31m# Option 3:\u001b[0m\u001b[0;34m\u001b[0m\u001b[0;34m\u001b[0m\u001b[0;34m\u001b[0m\u001b[0m\n",
            "\u001b[0;32m/usr/local/lib/python3.6/dist-packages/pandas/core/frame.py\u001b[0m in \u001b[0;36m__init__\u001b[0;34m(self, data, index, columns, dtype, copy)\u001b[0m\n\u001b[1;32m    409\u001b[0m             )\n\u001b[1;32m    410\u001b[0m         \u001b[0;32melif\u001b[0m \u001b[0misinstance\u001b[0m\u001b[0;34m(\u001b[0m\u001b[0mdata\u001b[0m\u001b[0;34m,\u001b[0m \u001b[0mdict\u001b[0m\u001b[0;34m)\u001b[0m\u001b[0;34m:\u001b[0m\u001b[0;34m\u001b[0m\u001b[0;34m\u001b[0m\u001b[0m\n\u001b[0;32m--> 411\u001b[0;31m             \u001b[0mmgr\u001b[0m \u001b[0;34m=\u001b[0m \u001b[0minit_dict\u001b[0m\u001b[0;34m(\u001b[0m\u001b[0mdata\u001b[0m\u001b[0;34m,\u001b[0m \u001b[0mindex\u001b[0m\u001b[0;34m,\u001b[0m \u001b[0mcolumns\u001b[0m\u001b[0;34m,\u001b[0m \u001b[0mdtype\u001b[0m\u001b[0;34m=\u001b[0m\u001b[0mdtype\u001b[0m\u001b[0;34m)\u001b[0m\u001b[0;34m\u001b[0m\u001b[0;34m\u001b[0m\u001b[0m\n\u001b[0m\u001b[1;32m    412\u001b[0m         \u001b[0;32melif\u001b[0m \u001b[0misinstance\u001b[0m\u001b[0;34m(\u001b[0m\u001b[0mdata\u001b[0m\u001b[0;34m,\u001b[0m \u001b[0mma\u001b[0m\u001b[0;34m.\u001b[0m\u001b[0mMaskedArray\u001b[0m\u001b[0;34m)\u001b[0m\u001b[0;34m:\u001b[0m\u001b[0;34m\u001b[0m\u001b[0;34m\u001b[0m\u001b[0m\n\u001b[1;32m    413\u001b[0m             \u001b[0;32mimport\u001b[0m \u001b[0mnumpy\u001b[0m\u001b[0;34m.\u001b[0m\u001b[0mma\u001b[0m\u001b[0;34m.\u001b[0m\u001b[0mmrecords\u001b[0m \u001b[0;32mas\u001b[0m \u001b[0mmrecords\u001b[0m\u001b[0;34m\u001b[0m\u001b[0;34m\u001b[0m\u001b[0m\n",
            "\u001b[0;32m/usr/local/lib/python3.6/dist-packages/pandas/core/internals/construction.py\u001b[0m in \u001b[0;36minit_dict\u001b[0;34m(data, index, columns, dtype)\u001b[0m\n\u001b[1;32m    255\u001b[0m             \u001b[0marr\u001b[0m \u001b[0;32mif\u001b[0m \u001b[0;32mnot\u001b[0m \u001b[0mis_datetime64tz_dtype\u001b[0m\u001b[0;34m(\u001b[0m\u001b[0marr\u001b[0m\u001b[0;34m)\u001b[0m \u001b[0;32melse\u001b[0m \u001b[0marr\u001b[0m\u001b[0;34m.\u001b[0m\u001b[0mcopy\u001b[0m\u001b[0;34m(\u001b[0m\u001b[0;34m)\u001b[0m \u001b[0;32mfor\u001b[0m \u001b[0marr\u001b[0m \u001b[0;32min\u001b[0m \u001b[0marrays\u001b[0m\u001b[0;34m\u001b[0m\u001b[0;34m\u001b[0m\u001b[0m\n\u001b[1;32m    256\u001b[0m         ]\n\u001b[0;32m--> 257\u001b[0;31m     \u001b[0;32mreturn\u001b[0m \u001b[0marrays_to_mgr\u001b[0m\u001b[0;34m(\u001b[0m\u001b[0marrays\u001b[0m\u001b[0;34m,\u001b[0m \u001b[0mdata_names\u001b[0m\u001b[0;34m,\u001b[0m \u001b[0mindex\u001b[0m\u001b[0;34m,\u001b[0m \u001b[0mcolumns\u001b[0m\u001b[0;34m,\u001b[0m \u001b[0mdtype\u001b[0m\u001b[0;34m=\u001b[0m\u001b[0mdtype\u001b[0m\u001b[0;34m)\u001b[0m\u001b[0;34m\u001b[0m\u001b[0;34m\u001b[0m\u001b[0m\n\u001b[0m\u001b[1;32m    258\u001b[0m \u001b[0;34m\u001b[0m\u001b[0m\n\u001b[1;32m    259\u001b[0m \u001b[0;34m\u001b[0m\u001b[0m\n",
            "\u001b[0;32m/usr/local/lib/python3.6/dist-packages/pandas/core/internals/construction.py\u001b[0m in \u001b[0;36marrays_to_mgr\u001b[0;34m(arrays, arr_names, index, columns, dtype)\u001b[0m\n\u001b[1;32m     75\u001b[0m     \u001b[0;31m# figure out the index, if necessary\u001b[0m\u001b[0;34m\u001b[0m\u001b[0;34m\u001b[0m\u001b[0;34m\u001b[0m\u001b[0m\n\u001b[1;32m     76\u001b[0m     \u001b[0;32mif\u001b[0m \u001b[0mindex\u001b[0m \u001b[0;32mis\u001b[0m \u001b[0;32mNone\u001b[0m\u001b[0;34m:\u001b[0m\u001b[0;34m\u001b[0m\u001b[0;34m\u001b[0m\u001b[0m\n\u001b[0;32m---> 77\u001b[0;31m         \u001b[0mindex\u001b[0m \u001b[0;34m=\u001b[0m \u001b[0mextract_index\u001b[0m\u001b[0;34m(\u001b[0m\u001b[0marrays\u001b[0m\u001b[0;34m)\u001b[0m\u001b[0;34m\u001b[0m\u001b[0;34m\u001b[0m\u001b[0m\n\u001b[0m\u001b[1;32m     78\u001b[0m     \u001b[0;32melse\u001b[0m\u001b[0;34m:\u001b[0m\u001b[0;34m\u001b[0m\u001b[0;34m\u001b[0m\u001b[0m\n\u001b[1;32m     79\u001b[0m         \u001b[0mindex\u001b[0m \u001b[0;34m=\u001b[0m \u001b[0mensure_index\u001b[0m\u001b[0;34m(\u001b[0m\u001b[0mindex\u001b[0m\u001b[0;34m)\u001b[0m\u001b[0;34m\u001b[0m\u001b[0;34m\u001b[0m\u001b[0m\n",
            "\u001b[0;32m/usr/local/lib/python3.6/dist-packages/pandas/core/internals/construction.py\u001b[0m in \u001b[0;36mextract_index\u001b[0;34m(data)\u001b[0m\n\u001b[1;32m    366\u001b[0m             \u001b[0mlengths\u001b[0m \u001b[0;34m=\u001b[0m \u001b[0mlist\u001b[0m\u001b[0;34m(\u001b[0m\u001b[0mset\u001b[0m\u001b[0;34m(\u001b[0m\u001b[0mraw_lengths\u001b[0m\u001b[0;34m)\u001b[0m\u001b[0;34m)\u001b[0m\u001b[0;34m\u001b[0m\u001b[0;34m\u001b[0m\u001b[0m\n\u001b[1;32m    367\u001b[0m             \u001b[0;32mif\u001b[0m \u001b[0mlen\u001b[0m\u001b[0;34m(\u001b[0m\u001b[0mlengths\u001b[0m\u001b[0;34m)\u001b[0m \u001b[0;34m>\u001b[0m \u001b[0;36m1\u001b[0m\u001b[0;34m:\u001b[0m\u001b[0;34m\u001b[0m\u001b[0;34m\u001b[0m\u001b[0m\n\u001b[0;32m--> 368\u001b[0;31m                 \u001b[0;32mraise\u001b[0m \u001b[0mValueError\u001b[0m\u001b[0;34m(\u001b[0m\u001b[0;34m\"arrays must all be same length\"\u001b[0m\u001b[0;34m)\u001b[0m\u001b[0;34m\u001b[0m\u001b[0;34m\u001b[0m\u001b[0m\n\u001b[0m\u001b[1;32m    369\u001b[0m \u001b[0;34m\u001b[0m\u001b[0m\n\u001b[1;32m    370\u001b[0m             \u001b[0;32mif\u001b[0m \u001b[0mhave_dicts\u001b[0m\u001b[0;34m:\u001b[0m\u001b[0;34m\u001b[0m\u001b[0;34m\u001b[0m\u001b[0m\n",
            "\u001b[0;31mValueError\u001b[0m: arrays must all be same length"
          ]
        }
      ]
    },
    {
      "cell_type": "code",
      "metadata": {
        "id": "Mz8x006b99OM",
        "colab_type": "code",
        "colab": {}
      },
      "source": [
        "FPRs = np.linspace(0.01, 1, 20)\n",
        "num_items = np.linspace(200, 2000, 10).astype('int32')\n",
        "\n",
        "for fpr in FPRs:\n",
        "  for num_item in num_items:\n",
        "    CBFs = CountingBloomFilter(num_item, fpr)\n",
        "\n",
        "    np.random.shuffle(all_text)\n",
        "\n",
        "    present = all_text[:num_item]\n",
        "    absent = all_text[num_item:2*num_item]\n",
        "\n",
        "    np.random.shuffle(present)\n",
        "    np.random.shuffle(absent)\n",
        "\n",
        "    for word in present:\n",
        "      CBFs.insert(word)\n",
        "\n",
        "    test_words = present + absent\n",
        "\n",
        "    true_positive = 0\n",
        "    false_positive = 0\n",
        "\n",
        "    for word in test_words:\n",
        "      is_found = CBFs.search(word)\n",
        "\n",
        "      if (is_found):\n",
        "      if (word not in present):\n",
        "        false_positive += 1 \n",
        "      else:\n",
        "        true_positive += 1\n",
        "\n",
        "      total_positive = false_positive + true_positive\n",
        "      print('True Positive, False Positive, False Positive Rate:',true_positive, false_positive, false_positive/(total_positive))"
      ],
      "execution_count": 0,
      "outputs": []
    },
    {
      "cell_type": "markdown",
      "metadata": {
        "deletable": false,
        "nbgrader": {
          "checksum": "f454ec05ad12849a094bb2017f596b7c",
          "grade": true,
          "grade_id": "cell-a1db8a260a21986a",
          "locked": false,
          "points": 0,
          "schema_version": 1,
          "solution": true
        },
        "id": "PzQR0iC4QLLX",
        "colab_type": "text"
      },
      "source": [
        "YOUR ANSWER HERE"
      ]
    },
    {
      "cell_type": "markdown",
      "metadata": {
        "deletable": false,
        "editable": false,
        "nbgrader": {
          "checksum": "d7f70354cd73ab5698686a0264a7bd48",
          "grade": false,
          "grade_id": "cell-2b3ef79d47e4e5d8",
          "locked": true,
          "schema_version": 1,
          "solution": false
        },
        "id": "pBVWtxDpQLLY",
        "colab_type": "text"
      },
      "source": [
        "### Task 5. [#ComputationalCritique]\n",
        "\n",
        "Identify and list (if any) corner cases for CBFs. Explain why these cases should be taken into account if you are a software engineer.\n"
      ]
    },
    {
      "cell_type": "markdown",
      "metadata": {
        "deletable": false,
        "nbgrader": {
          "checksum": "152195ee2616469d23c43456f16aadb0",
          "grade": true,
          "grade_id": "cell-dfe791e15f2fe896",
          "locked": false,
          "points": 0,
          "schema_version": 1,
          "solution": true
        },
        "id": "wgkuCdVWQLLZ",
        "colab_type": "text"
      },
      "source": [
        "- When false positive is not accepted\n",
        "- Limited Scalability: \n",
        "- Arithmetic Overflow"
      ]
    },
    {
      "cell_type": "markdown",
      "metadata": {
        "id": "-J95B6t0MHl4",
        "colab_type": "text"
      },
      "source": [
        "**Reference:**\n",
        "\n",
        "Alsayed, K. (2020). What are Counting Bloom Filters? — Python Implementation. Retrievedfrom https://medium.com/analytics-vidhya/cbfs-44c66b1b4a78\n",
        "\n",
        "\n",
        "Appleby, A. (2020). mmh3. Retrieved 7 March 2020, from https://pypi.org/project/mmh3/\n",
        "\n",
        "\n",
        "Bloom filter. (2020). Retrieved from https://en.wikipedia.org/wiki/Bloom_filter#Counting_Bloom_filters\n",
        "\n",
        "\n",
        "Bonomi F., Mitzenmacher M., Panigrahy R., Singh S., Varghese G. (2006) An Improved Construction for Counting Bloom Filters. In: Azar Y., Erlebach T. (eds) Algorithms – ESA 2006. ESA 2006. Lecture Notes in Computer Science, vol 4168. Springer, Berlin, Heidelberg\n",
        "\n",
        "\n",
        "Hashing | Set 1 (Introduction). (2020). Retrieved from https://www.geeksforgeeks.org/hashing-set-1-introduction/\n",
        "\n",
        "\n",
        "Kumar, A. (2020). Bloom Filters - Introduction and Python Implementation - GeeksforGeeks. Retrieved from https://www.geeksforgeeks.org/bloom-filters-introduction-and-python-implementation/"
      ]
    },
    {
      "cell_type": "markdown",
      "metadata": {
        "id": "NhHX_Dh_Pv0e",
        "colab_type": "text"
      },
      "source": [
        "**HC Index:**\n",
        "\n",
        ".#medium:\n",
        "\n",
        ".#organization:\n",
        "\n",
        ".#breakitdown: \n"
      ]
    },
    {
      "cell_type": "code",
      "metadata": {
        "id": "VH7znZkROSH3",
        "colab_type": "code",
        "colab": {}
      },
      "source": [
        ""
      ],
      "execution_count": 0,
      "outputs": []
    }
  ]
}