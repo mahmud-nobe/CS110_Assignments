{
  "nbformat": 4,
  "nbformat_minor": 0,
  "metadata": {
    "kernelspec": {
      "display_name": "Python 3",
      "language": "python",
      "name": "python3"
    },
    "language_info": {
      "codemirror_mode": {
        "name": "ipython",
        "version": 3
      },
      "file_extension": ".py",
      "mimetype": "text/x-python",
      "name": "python",
      "nbconvert_exporter": "python",
      "pygments_lexer": "ipython3",
      "version": "3.6.5"
    },
    "colab": {
      "name": "CS110 Assignment 3",
      "provenance": [],
      "include_colab_link": true
    }
  },
  "cells": [
    {
      "cell_type": "markdown",
      "metadata": {
        "id": "view-in-github",
        "colab_type": "text"
      },
      "source": [
        "<a href=\"https://colab.research.google.com/github/mahmud-nobe/CS110_Assignments/blob/master/CS110%20Assignment%203%3A%20Bloom%20Filters/CS110_Assignment_3.ipynb\" target=\"_parent\"><img src=\"https://colab.research.google.com/assets/colab-badge.svg\" alt=\"Open In Colab\"/></a>"
      ]
    },
    {
      "cell_type": "markdown",
      "metadata": {
        "id": "Q_2E6rSRQLLE",
        "colab_type": "text"
      },
      "source": [
        "Before you turn this problem in, make sure everything runs as expected. First, **restart the kernel** (in the menubar, select Kernel$\\rightarrow$Restart) and then **run all cells** (in the menubar, select Cell$\\rightarrow$Run All).\n",
        "\n",
        "Make sure you fill in any place that says `YOUR CODE HERE` or \"YOUR ANSWER HERE\", as well as your name and collaborators below:"
      ]
    },
    {
      "cell_type": "code",
      "metadata": {
        "id": "j7dPGE1iQLLG",
        "colab_type": "code",
        "colab": {}
      },
      "source": [
        "NAME = \"\"\n",
        "COLLABORATORS = \"\""
      ],
      "execution_count": 0,
      "outputs": []
    },
    {
      "cell_type": "markdown",
      "metadata": {
        "id": "GzhnQLkhQLLK",
        "colab_type": "text"
      },
      "source": [
        "---"
      ]
    },
    {
      "cell_type": "markdown",
      "metadata": {
        "deletable": false,
        "editable": false,
        "nbgrader": {
          "checksum": "e5d2038e11c57d2abd9d2c24d9421273",
          "grade": false,
          "grade_id": "cell-26967b3698cd6565",
          "locked": true,
          "schema_version": 1,
          "solution": false
        },
        "id": "C5JGSswBQLLL",
        "colab_type": "text"
      },
      "source": [
        "\n",
        "# CS110 Spring 2020 Assignment - Indexing Techniques and Data Structures.\n",
        "\n",
        "\n",
        "## Overview\n",
        "\n",
        " In this assignment, you  will research  Counting Bloom Filters (CBFs), which are data structures that extend the standard Bloom Filters. You will design and implement in Python a set of CBFs initialized at a given false positive rate, and will need to summarize your findings in a report. A report structured has been provided for you in the form of enumerated tasks, which you should follow.\n",
        " \n",
        " ## Intended Style and Key Audience\n",
        " \n",
        "Your report needs to be written in the style of a chapter from the Cormen textbook (i.e., exhibiting academic rigor and clear explanations) or a Wikipedia page on the subject (i.e., a general overview on a topic that will be peer-reviewed by the world-wide community). Thus, with a beginner’s audience in mind, your report needs to: \n",
        "\n",
        "* Carefully explain the concepts of a CBFs, \n",
        "* Include details on your CBFs design, \n",
        "* Perform an analysis of your implementation and experimental results pertaining to your Python implementation and \n",
        "* Perform a critical comparison analysis between the experimental results and the theoretically predicted ones. \n",
        "* Use the provided code cells to include all your code, and if these are not enough, please add more cells which you deem necessary.\n",
        "* Use the same function names provided in the template. \n",
        "* Thoroughly describe the algorithmic strategies you are employing in a given question. To do so, feel free to include extra Markdown cells whenever relevant--you may find this [how-to-guide](https://medium.com/analytics-vidhya/the-ultimate-markdown-guide-for-jupyter-notebook-d5e5abf728fd) helpful. \n",
        "\n",
        "Make sure you properly cite your sources of information. \n",
        "\n",
        "## Notes on the Submission Materials\n",
        "\n",
        "1. Your **first resource** should be a PDF file created from the Jupyter notebook template provided in these instructions. If your name is “Dumbledore”, your PDF should be named “Dumbledore.pdf”.\n",
        "2. Your **second resource** must be a single Jupyter Notebook named “Dumbledore.ipynb”. Alternatively, you can also submit a zip file that includes your Jupyter notebook, but please make sure to name it “Dumbledore.zip” (if your name is Dumbledore, the Jupyter notebook submitted as part of such zip file should still be named “Dumbledore.ipynb”!).\n",
        "\n",
        "## Notes on the Grading Rubrics\n",
        "\n",
        "* This is a strictly individual assignment. Everything you submit must reflect your own writing and coding. Please do refer to the course guidelines on the syllabus namely in what constitutes plagiarism. \n",
        "* All the tasks will be graded on the indicated companion LOs; please make sure to consult their descriptions and rubrics in the course syllabus to maximally align your approach to them. You will not be penalized for not attempting the optional challenge.\n",
        "* As per the course’s policy on the syllabus, you will need to footnote **at least three HCs** by including a meaningful justification of the application of each HC and how they enabled you to complete part of your work on this assignment. Please refer to [these guidelines](https://docs.google.com/document/d/1s7yOVOtMIaHQdKLeRmZbq1gRqwJKfezBsfru9Q6PcHw/edit) on how to incorporate HCs in your work.\n",
        "\n",
        "## Report Structured Tasks\n",
        "\n",
        "### Task 1. [#responsibility] [appropriate LO for the make-up work] \n",
        "\n",
        "Take a screenshot of your CS110 dashboard on Forum where the following is visible: \n",
        "* your name. \n",
        "* your absences for the course have been set to excused up to the end of week 7 (inclusively). Submit this screenshot as a PNG file on your Jupyter notebook. "
      ]
    },
    {
      "cell_type": "code",
      "metadata": {
        "deletable": false,
        "nbgrader": {
          "checksum": "128ce1269093d9e434af0c39cae9cdae",
          "grade": true,
          "grade_id": "cell-bc6c759845183c37",
          "locked": false,
          "points": 0,
          "schema_version": 1,
          "solution": true
        },
        "id": "PKqbHDwOQLLM",
        "colab_type": "code",
        "colab": {}
      },
      "source": [
        "# YOUR CODE HERE\n",
        "raise NotImplementedError()"
      ],
      "execution_count": 0,
      "outputs": []
    },
    {
      "cell_type": "markdown",
      "metadata": {
        "deletable": false,
        "editable": false,
        "nbgrader": {
          "checksum": "8469a85198e41dc824049110ffbbc6f3",
          "grade": false,
          "grade_id": "cell-a9085d1cfd0bf0e1",
          "locked": true,
          "schema_version": 1,
          "solution": false
        },
        "id": "VZRNYuYWQLLQ",
        "colab_type": "text"
      },
      "source": [
        "### Task 2.  [#ComputationalSolutions, #DataStructures, #ComplexityAnalysis]  \n",
        "\n",
        "Write a summary  of the CBFs as an indexing technique, with their underlying data structure and  hashing functionality. This is,  list all the operations they support. For all CBF operations, include an analysis of their asymptotic order growth (complexity analysis). Give a few examples of practical, real-life computational applications that can benefit from using CBFs and carefully justify why. "
      ]
    },
    {
      "cell_type": "markdown",
      "metadata": {
        "deletable": false,
        "nbgrader": {
          "checksum": "89b640ab4f7518099d2ca503738991ab",
          "grade": true,
          "grade_id": "cell-b0a98c487d3be44b",
          "locked": false,
          "points": 0,
          "schema_version": 1,
          "solution": true
        },
        "id": "DMLbkrkuQLLR",
        "colab_type": "text"
      },
      "source": [
        "YOUR ANSWER HERE"
      ]
    },
    {
      "cell_type": "markdown",
      "metadata": {
        "id": "oV7e1Lv_QLLS",
        "colab_type": "text"
      },
      "source": [
        "### Task 3. [#DataStructures, #PythonProgramming, #CodeReadability] \n",
        "\n",
        "Implement in Python 3 your designed CBFs data structure and all its operations using the code template below. Make sure you carefully organize your Python code, write meaningful comments (feel free to use [docstrings](https://www.python.org/dev/peps/pep-0257/)), and provide a thorough justification for your choice of hash functions. \n",
        "\n",
        "If you decide to use the Python library  `mmh3`,  you will need to provide a thorough explanation of why you have chosen the hashing functions therein. You may also use  `numpy`, `matplotlib`, `random`, `statistics`, and `math`. If you plan to use any other external library not mentioned in this list, you will need to contact your instructor first for validation.\n",
        "\n",
        "Make sure to strictly follow the honor code as any plagiarism attempt will be referred to the ASC. Please refer to [resource1](https://new.library.arizona.edu/research/citing/plagiarism) and [resource2](https://poorvucenter.yale.edu/writing/using-sources/understanding-and-avoiding-plagiarism/what-plagiarism), which specify what constitutes plagiarism. \n",
        "\n",
        "Demonstrate how your code works by inserting a list of words in [Shakespeare’s works](https://ocw.mit.edu/ans7870/6/6.006/s08/lecturenotes/files/t8.shakespeare.txt). The following lines of code will create such a list of words in Python:\n",
        "\n",
        "```python\n",
        "txt_file = open(\"t8.shakespeare.txt\", \"r\")\n",
        "\n",
        "entries = txt_file.read().split(' ')\n",
        "lines = [string.replace('\\n', '') for string in entries]\n",
        "all_text = [line for line in lines if line != '']\n",
        "```\n",
        "\n",
        "Feel free to use another interesting dataset for further validation, but this is optional."
      ]
    },
    {
      "cell_type": "code",
      "metadata": {
        "id": "TwrjbpYJQLLT",
        "colab_type": "code",
        "colab": {}
      },
      "source": [
        "# Feel free to define additional classes that you think are helpful \n",
        "# in building this class of CountingBloomFilter \n",
        "\n",
        "class CountingBloomFilter(object):\n",
        "    \"\"\"Implement the counting bloom filter which supports:\n",
        "    - search: queries the membership of an element\n",
        "    - insert: inserts a string to the filter\n",
        "    - delete: removes a string from the filter \n",
        "    \n",
        "    Feel free to define any helpful additional methods.\n",
        "    \"\"\"\n",
        "    def __init__(self, /YOUR ARGUMENTS/):\n",
        "        \"\"\"\n",
        "        /YOUR ARGUMENTS/ are the two parameters of your choice from the \n",
        "        following parameters of a CBF:\n",
        "        - fpr: float, false positive rate\n",
        "        - memory_size: int, memory size\n",
        "        - num_item: int, number of items stored\n",
        "        - num_hashfn: int, number of hash functions\n",
        "        \n",
        "        For example, if you choose fpr and memory_size, edit your __init__ to\n",
        "        `def __init__(self, memory_size, fpr)`\n",
        "        \"\"\"\n",
        "        pass\n",
        "    \n",
        "    def hash_cbf(self, item):\n",
        "        \"\"\"\n",
        "        Returns hash values of an item\n",
        "        [ADD ADDITIONAL DESCRIPTION, IF NEED BE]\n",
        "        \"\"\"\n",
        "        pass\n",
        "    \n",
        "    def search(self, item):\n",
        "        \"\"\"\n",
        "        [YOUR FUNCTION DESCRIPTION]\n",
        "        \"\"\"\n",
        "        pass\n",
        "    \n",
        "    def insert(self, item):\n",
        "        \"\"\"\n",
        "        [YOUR FUNCTION DESCRIPTION]\n",
        "        \"\"\"\n",
        "        pass\n",
        "    \n",
        "    def delete(self, item):\n",
        "        \"\"\"\n",
        "        [YOUR FUNCTION DESCRIPTION]\n",
        "        \"\"\"\n",
        "        pass\n"
      ],
      "execution_count": 0,
      "outputs": []
    },
    {
      "cell_type": "markdown",
      "metadata": {
        "deletable": false,
        "editable": false,
        "nbgrader": {
          "checksum": "e80f94d7ec5e70f525c050d9abd6a418",
          "grade": false,
          "grade_id": "cell-55313f6a52567abd",
          "locked": true,
          "schema_version": 1,
          "solution": false
        },
        "id": "sfW86lX1QLLW",
        "colab_type": "text"
      },
      "source": [
        "### Task 4 [#ComplexityAnalysis, #ComputationalCritique].\n",
        "\n",
        "Now you will verify the effectiveness of your CBF implementation by testing how well the implementation matches or diverges from the theoretical findings. The following tasks will help you make this computational analysis. Explicitly include any assumptions you have made to arrive at your results. If there are any discrepancies between the theory and the computational experiments, provide an explanation for these.\n",
        "\n",
        "1. [#DataStructures] Create several CBFs (at least 10) for different FPRs, and evaluate how the memory size scales with the FPR. \n",
        "2. [#DataStructures] How does the memory size scale with the number of items stored, for a fixed FPR?\n",
        "3. [#DataStructures, #ComplexityAnalysis] How does the actual FPR scale with the number of hash functions?\n",
        "4. [#DataStructures, #ComplexityAnalysis] How does the access time to hashed values scale with the number of items stored in a CBF kept at constant FPR?\n"
      ]
    },
    {
      "cell_type": "markdown",
      "metadata": {
        "deletable": false,
        "nbgrader": {
          "checksum": "f454ec05ad12849a094bb2017f596b7c",
          "grade": true,
          "grade_id": "cell-a1db8a260a21986a",
          "locked": false,
          "points": 0,
          "schema_version": 1,
          "solution": true
        },
        "id": "PzQR0iC4QLLX",
        "colab_type": "text"
      },
      "source": [
        "YOUR ANSWER HERE"
      ]
    },
    {
      "cell_type": "markdown",
      "metadata": {
        "deletable": false,
        "editable": false,
        "nbgrader": {
          "checksum": "d7f70354cd73ab5698686a0264a7bd48",
          "grade": false,
          "grade_id": "cell-2b3ef79d47e4e5d8",
          "locked": true,
          "schema_version": 1,
          "solution": false
        },
        "id": "pBVWtxDpQLLY",
        "colab_type": "text"
      },
      "source": [
        "### Task 5. [#ComputationalCritique]\n",
        "\n",
        "Identify and list (if any) corner cases for CBFs. Explain why these cases should be taken into account if you are a software engineer.\n"
      ]
    },
    {
      "cell_type": "markdown",
      "metadata": {
        "deletable": false,
        "nbgrader": {
          "checksum": "152195ee2616469d23c43456f16aadb0",
          "grade": true,
          "grade_id": "cell-dfe791e15f2fe896",
          "locked": false,
          "points": 0,
          "schema_version": 1,
          "solution": true
        },
        "id": "wgkuCdVWQLLZ",
        "colab_type": "text"
      },
      "source": [
        "YOUR ANSWER HERE"
      ]
    }
  ]
}