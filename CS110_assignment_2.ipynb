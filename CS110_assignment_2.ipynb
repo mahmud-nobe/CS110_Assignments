{
  "nbformat": 4,
  "nbformat_minor": 0,
  "metadata": {
    "kernelspec": {
      "display_name": "Python 3",
      "language": "python",
      "name": "python3"
    },
    "language_info": {
      "codemirror_mode": {
        "name": "ipython",
        "version": 3
      },
      "file_extension": ".py",
      "mimetype": "text/x-python",
      "name": "python",
      "nbconvert_exporter": "python",
      "pygments_lexer": "ipython3",
      "version": "3.6.5"
    },
    "colab": {
      "name": "CS110_assignment_2.ipynb",
      "provenance": [],
      "include_colab_link": true
    }
  },
  "cells": [
    {
      "cell_type": "markdown",
      "metadata": {
        "id": "view-in-github",
        "colab_type": "text"
      },
      "source": [
        "<a href=\"https://colab.research.google.com/github/mahmud-nobe/cs110_assignment_1/blob/master/CS110_assignment_2.ipynb\" target=\"_parent\"><img src=\"https://colab.research.google.com/assets/colab-badge.svg\" alt=\"Open In Colab\"/></a>"
      ]
    },
    {
      "cell_type": "markdown",
      "metadata": {
        "id": "vMS6lDHtkCoM",
        "colab_type": "text"
      },
      "source": [
        "Before you turn this problem in, make sure everything runs as expected. First, **restart the kernel** (in the menubar, select Kernel$\\rightarrow$Restart) and then **run all cells** (in the menubar, select Cell$\\rightarrow$Run All).\n",
        "\n",
        "Make sure you fill in any place that says `YOUR CODE HERE` or \"YOUR ANSWER HERE\", as well as your name and collaborators below:"
      ]
    },
    {
      "cell_type": "code",
      "metadata": {
        "id": "f__aLz4IkCoS",
        "colab_type": "code",
        "colab": {}
      },
      "source": [
        "NAME = \"\"\n",
        "COLLABORATORS = \"\""
      ],
      "execution_count": 0,
      "outputs": []
    },
    {
      "cell_type": "markdown",
      "metadata": {
        "id": "5R_8gwm7kCoc",
        "colab_type": "text"
      },
      "source": [
        "---"
      ]
    },
    {
      "cell_type": "markdown",
      "metadata": {
        "deletable": false,
        "editable": false,
        "nbgrader": {
          "checksum": "66eb1d270e9ad9af5dbad2f2a44b904a",
          "grade": false,
          "grade_id": "cell-c575431724e17712",
          "locked": true,
          "schema_version": 1,
          "solution": false
        },
        "id": "N-yqL-ojkCog",
        "colab_type": "text"
      },
      "source": [
        "\n",
        "# CS110 Spring 2020 - Assignment 2 (LBA)\n",
        "# Task Scheduler for a Multi-Tasking Minervan - Part I\n",
        "\n",
        "This is a Location-Based Assignment (LBA), in which you will build an automatic task scheduler for a day in the life of a Minervan in your current rotation city. You also need to apply the concepts of priority queues and heaps discussed in class in the context of a single day task scheduler. This assignment builds on the simple scheduler studied in lesson 4.1, “Heaps and priority queues”.  \n",
        "\n",
        "You are now asked to create your own list of tasks, with their durations and task dependencies.  Your list of tasks must include activities that you plan to perform in a day in your rotation city. Include at least 3 activities that are culturally specific to your rotation city (e.g., if you're in Tokyo, you might be interested in enjoying the cherry (sakura) blossom season). \n",
        "\n",
        "Please note that the weight of the assignment is smaller than any other CS110 assignment, which should be understood in terms of time and effort management. Please plan accordingly.\n",
        "\n",
        "### Improving The Simple Task Scheduler Studied in Lesson 4.1\n",
        "Your task scheduler receives a list of tasks to be performed in a day.  The input list of tasks has the form:\n",
        "\n",
        "<h5><center>Task_ID | Task Description | Task Duration | List of Task Dependencies | Task Status</center></h5>\n",
        "\n",
        "\n",
        "* **Task ID**: Unique task identifier which other tasks may reference (to deal with task dependencies).\n",
        "\n",
        "* **Task Description**. A short description of the task (e.g. ‘visit the Neues Museum’, ‘dine gogigui’, ‘get a Fahrkarten’, ‘go to an exhibition at the Dongdaemun Design Plaza”, etc). Why is this task particularly compelling?\n",
        "\n",
        "* **Task Duration** in minutes. Duration of the task in minutes.\n",
        "\n",
        "* **Dependencies.** This is a list of Task IDs indicating whether the current task cannot begin until all of its dependencies have been completed (e.g. one cannot eat gogigui unless one has already found a restaurant in Seoul, has arrived at a restaurant, has gotten a table, has ordered, etc.)\n",
        "\n",
        "* **Status.** A task is one of these states: $NOT-YET-STARTED$, $IN-PROGRESS$, or $COMPLETED$.\n",
        "\n",
        "With an input list of tasks as described above, your scheduler needs to use a priority queue, implemented with either a $MAXHEAP$ or a $MINHEAP$ depending on your implementation, to plan the execution of the tasks. Please note that for this assignment, you are expected to write your own heap/priority queue implementation (rather than using the heapq module we have used in class).\n",
        "\n",
        "Your scheduler must keep a clock that gets incremented by a fixed time-step.  This clock is also kept in minutes.  Your scheduler needs to output a step-by-step execution of the input tasks and a report on the total amount of time required to execute all the tasks.\n",
        "\n",
        "### Criteria for scheduling tasks.\n",
        "\n",
        "Like in the example in class, we assume that all tasks have the same priority. Thus, your scheduler will begin scheduling tasks by first looking at which tasks are ready to be executed and added to the priority queue as soon as all their dependencies have been satisfied.\n",
        "\n",
        "You may consider a different criterion for deciding which task is tackled first among tasks\n",
        "that are ready to be executed (e.g., you may choose to consider first a task that has a large number of dependencies).\n",
        "\n",
        "\n",
        "### Submission Materials.\n",
        "Your assignment submission needs to include the following resources:\n",
        "1. A PDF file must be the first resource and it will be created from the Jupyter notebook template provided in these instructions. Please make sure to use the same function names as the ones provided in the template. If your name is “Dumbledore”, your PDF should be named “Dumbledore.pdf”.\n",
        "2. Your second resource must be a single Python/Jupyter Notebook named “Dumbledore.ipynb”. You can also submit a zip file that includes your Jupyter notebook, but please make sure to name it “Dumbledore.zip” (if your name is Dumbledore!).\n",
        "\n",
        "## Part A [HCs #responsibility and #professionalism; appropriate CS110-LO]\n",
        "\n",
        "Take a screenshot of your CS110 dashboard on Forum where the following is visible:\n",
        "* your name.\n",
        "* your absences for the course have been set to excused up to the end of week 5 (inclusively).\n",
        "\n",
        "This will be evidence that you have submitted acceptable pre-class and make-up work\n",
        "for a CS110 session you may have missed. Check the specific CS110 make-up and\n",
        "pre-class policies in the syllabus of the course.\n",
        "\n"
      ]
    },
    {
      "cell_type": "code",
      "metadata": {
        "deletable": false,
        "nbgrader": {
          "checksum": "1b9cbb3fa11dd816551bcbbf6ca6696c",
          "grade": true,
          "grade_id": "cell-ca49a09bf929e124",
          "locked": false,
          "points": 0,
          "schema_version": 1,
          "solution": true
        },
        "id": "PUPK9AXAkCoi",
        "colab_type": "code",
        "colab": {}
      },
      "source": [
        "# YOUR CODE HERE\n",
        "raise NotImplementedError()"
      ],
      "execution_count": 0,
      "outputs": []
    },
    {
      "cell_type": "markdown",
      "metadata": {
        "deletable": false,
        "editable": false,
        "nbgrader": {
          "checksum": "1d48190542937d8d56949ea3167e6fb5",
          "grade": false,
          "grade_id": "cell-ff302ba405eaa55c",
          "locked": true,
          "schema_version": 1,
          "solution": false
        },
        "id": "K3oopk0fkCoq",
        "colab_type": "text"
      },
      "source": [
        "## Part B [#ComputationalSolutions, #DataStructures]\n",
        "\n",
        "Prepare a table containing a list of all the activities that you plan to do in the city of your rotation, with a short, compelling justification why they are interesting. Make sure you plan activities that involve visiting landmarks or other locations that highlight particular socio-culture aspects of the rotation city where you are. An activity is decomposed in a set of tasks which are exclusively of a cultural nature (not routine nor academic). Your assignment needs to include:\n",
        "* At least 5 activities and each activity can be subdivided into 3 to k tasks.\n",
        "* 3 of the activities must be culturally specific to your rotation city.  Make sure to include at least 1 picture per activity.\n",
        "\n",
        "For example, if you want to visit the Neues Museum, this will be one of the tasks satisfying these requirements. Reasonable subtasks will include: checking the timetable for the museum exhibitions on its webpage, take the bus/tram from the residence hall to the museum, enjoy an exhibition, have lunch in the cafeteria, visit the souvenir’s shop, take the bus/tram back home.\n",
        "\n",
        "How will you store information about these activities and sub-tasks?\n",
        "\n"
      ]
    },
    {
      "cell_type": "code",
      "metadata": {
        "deletable": false,
        "nbgrader": {
          "checksum": "9efd8229a4e234746157204f87f1bbff",
          "grade": true,
          "grade_id": "cell-2fbae380859904ee",
          "locked": false,
          "points": 0,
          "schema_version": 1,
          "solution": true
        },
        "id": "fVB3e5DYkCos",
        "colab_type": "code",
        "colab": {}
      },
      "source": [
        "# YOUR CODE HERE\n",
        "raise NotImplementedError()"
      ],
      "execution_count": 0,
      "outputs": []
    },
    {
      "cell_type": "markdown",
      "metadata": {
        "deletable": false,
        "editable": false,
        "nbgrader": {
          "checksum": "2a6746f92d97559a58e1ad44061d19fa",
          "grade": false,
          "grade_id": "cell-bccf11dddac7101b",
          "locked": true,
          "schema_version": 1,
          "solution": false
        },
        "id": "EoVqLyRhkCoz",
        "colab_type": "text"
      },
      "source": [
        "## Part C [#PythonProgramming, #CodeReadability]\n",
        "\n",
        "Write a Task Priority Scheduler in Python 3, which receives the list of tasks above as input and returns a day task schedule for you to follow. Please refrain from using any external Python library besides the math and random module (if you intend on using other libraries, please check with your course instructor first).  \n",
        "\n",
        "**Your Computational Solution to the Task Scheduler.**\n",
        "\n",
        "You can organize your list of tasks using Python lists as we studied in one of lesson 4.1 activities. Of course, you may choose to make an improvement and choose to implement the list of tasks using a different Python data type (e.g. Python dictionaries, classes, NumPy arrays,  etc). In all cases, make sure your internal representation of the list of tasks has all the fields described in Figure 1.  Your implementation of the task scheduler must report at the end of every time-step which task is being performed and the remaining time for that task.  Additionally, your scheduler must report every time a task is completed.  The scheduler ends when all tasks have been completed.\n",
        "\n",
        "**Input:** list of tasks, current time for the scheduler (in minutes), time-step (in minutes).\n",
        "\n",
        "**Output:** periodic reports of the current task being executed (every time-step), report of task completions, report whenever the scheduler has completed all tasks.\n",
        "\n",
        "Below you are given an example of what the input and output may look like, taken from the activity in lesson 4.1. Note that this is only an example and you can improve the formatting and presentation of the output, as long as it meets all the requirements for the output above.\n",
        "\n",
        "Example code:\n",
        "```python\n",
        "tasks = [[0, 'get up at 8:00 AM', 10, [],], \n",
        "         [1, 'get dressed and ready', 15, [0]],\n",
        "         [2, 'eat healthy breakfast',40, [0]]\n",
        "        ]\n",
        "my_scheduler(tasks, step_size, init_time)\n",
        "print(\"Completed all planned tasks\")\n",
        "```\n",
        "\n",
        "Example output:\n",
        "```\n",
        "Simple Scheduler at time: 8h0 executing task:0 remaining time10\n",
        "Completed Task:0 - get up at 8:00 AM\n",
        "Simple Scheduler at time: 8h10 executing task:1 remaining time15\n",
        "Simple Scheduler at time: 8h20 executing task:1 remaining time5\n",
        "Completed Task:1 - get dressed and ready\n",
        "Simple Scheduler at time: 8h25 executing task:2 remaining time40\n",
        "Simple Scheduler at time: 8h35 executing task:2 remaining time30\n",
        "Simple Scheduler at time: 8h45 executing task:2 remaining time20\n",
        "Simple Scheduler at time: 8h55 executing task:2 remaining time10\n",
        "Completed Task:2 - eat healthy breakfast\n",
        "Completed all planned tasks\n",
        "```\n"
      ]
    },
    {
      "cell_type": "code",
      "metadata": {
        "deletable": false,
        "nbgrader": {
          "checksum": "e890719b4b72e63cdf7ae5bcada2f674",
          "grade": false,
          "grade_id": "cell-e4bd5f93a8c053fe",
          "locked": false,
          "schema_version": 1,
          "solution": true
        },
        "id": "k3kak5whkCo1",
        "colab_type": "code",
        "colab": {}
      },
      "source": [
        "def my_scheduler(tasks, step_size, init_time):\n",
        "    \"\"\" Feel free to add helper functions or other code above this function if you want to.\n",
        "    Input: \n",
        "    - tasks: a Python list of tasks. How each individual task is stored/ presented depends on your \n",
        "    answer to Part B.\n",
        "    - step_size: int, step size in minutes\n",
        "    - init_time: int, initial time, set in minutes (8AM = 480)\n",
        "    \"\"\"\n",
        "    # YOUR CODE HERE\n",
        "    raise NotImplementedError()"
      ],
      "execution_count": 0,
      "outputs": []
    },
    {
      "cell_type": "markdown",
      "metadata": {
        "deletable": false,
        "editable": false,
        "nbgrader": {
          "checksum": "fc80ee2998a43ba0bc3f9f3f1e0d421f",
          "grade": false,
          "grade_id": "cell-e99180e1cdc54843",
          "locked": true,
          "schema_version": 1,
          "solution": false
        },
        "id": "S6KZqLx4kCo_",
        "colab_type": "text"
      },
      "source": [
        "## Part D [#ComputationalSolutions]\n",
        "Now, you realize that some of the tasks in your schedule can be multitasked! This is, many of your daily tasks can be performed simultaneously (e.g. sipping a local beverage while chatting with a friend at a cafe, taking pictures while riding a bus or walking in a park). In this section, you need to review your computational solution to the task scheduler, and now include the handling of multitasking. Notice that while some tasks can be multitasked, others cannot because they require your full attention (e.g. CS110 pre-class work).\n",
        "\n",
        "This revised version of the scheduler receives a list of tasks in a table of the form shown below:\n",
        "\n",
        "<h5><center> Task_ID | Task Description | Task Duration | List of Task Dependencies | Multitasking | Task Status</center></h5>\n",
        "\n",
        "Part D does not require any code but you will be asked to provide a Python implementation in Part E.\n",
        "\n",
        "* **Multitasking.** It is a boolean field (True/False) determining whether a task can be multitasked.\n",
        "\n",
        "* **Criteria for scheduling Non-Multitasking tasks.** These tasks require your full attention, therefore your scheduler cannot schedule any other tasks while a non-multitasking task has not been completed. After completion of a non-multitasking task, make sure to update the dependencies of any other tasks (where appropriate) and the corresponding priorities.\n",
        "\n",
        "\n",
        "* **Criteria for scheduling Multitasking tasks.** These tasks can share the time you dedicate to them. Notice that when multitasking, the tasks may have a different duration time,  and you will need to keep track of the remaining time for every task being processed in multitasking mode and update the scheduler clock accordingly.   In fact, when two or more multitasking tasks are being executed, the remaining time of every task needs to be adjusted at the same time. Notice that because multitasking tasks have different duration times, they will be completed at different times.\n",
        "\n",
        "    *Hint*: You may wonder how to prevent two multitasking tasks that are not compatible with happening at the same time. For example, eat a delicious pizza and brushing your teeth. These two tasks can be performed in multitasking but they don’t make sense together. Let’s say that you decide to eat your pizza and then brush your teeth but not the other way around, in this case you may want to use the concept of dependencies to establish an order.\n",
        "\n",
        "Describe any changes you will need to make to the first version of the scheduler. You are asked to implement this schedule in Python in the next section.\n"
      ]
    },
    {
      "cell_type": "markdown",
      "metadata": {
        "deletable": false,
        "nbgrader": {
          "checksum": "1b68a1680c31f96e30e0b19a2cb7c559",
          "grade": true,
          "grade_id": "cell-38795f885d1e2aeb",
          "locked": false,
          "points": 0,
          "schema_version": 1,
          "solution": true
        },
        "id": "WulmgaW8kCpC",
        "colab_type": "text"
      },
      "source": [
        "YOUR ANSWER HERE"
      ]
    },
    {
      "cell_type": "markdown",
      "metadata": {
        "deletable": false,
        "editable": false,
        "nbgrader": {
          "checksum": "c8a462bdc2346fe8db04522ce8ed8f4d",
          "grade": false,
          "grade_id": "cell-07ef122c86c2b505",
          "locked": true,
          "schema_version": 1,
          "solution": false
        },
        "id": "kpfGkxCpkCpE",
        "colab_type": "text"
      },
      "source": [
        "## Part E [#PythonProgramming, #CodeReadability]\n",
        "\n",
        "Write a Task Priority Scheduler with Multitasking capability in Python 3, which receives as input a list of tasks as depicted in Figure 2, and reports (output) at the end of every time-step which task is being performed and the remaining time for that task.  Additionally, your scheduler must report every time a task is completed. Please refrain from using any external Python library besides the math and random module (if you intend on using other libraries, please check with your course instructor first).  \n",
        "\n",
        "**Input:** list of tasks, current time for the scheduler (in minutes), time-step (in minutes).\n",
        "**Output:** periodic reports of the current task(s) being executed (every time-step), report of  task completions, report whenever the scheduler has completed all tasks. \n",
        "\n",
        "See example code for the input and output in Part C\n"
      ]
    },
    {
      "cell_type": "code",
      "metadata": {
        "deletable": false,
        "nbgrader": {
          "checksum": "7c84e0bff58697cc7510821d0a1f57d8",
          "grade": false,
          "grade_id": "cell-831cf2b12e088f2f",
          "locked": false,
          "schema_version": 1,
          "solution": true
        },
        "id": "ZmY36ZJ7kCpG",
        "colab_type": "code",
        "colab": {}
      },
      "source": [
        "def my_multitask_scheduler(tasks, step_size, init_time):\n",
        "    \"\"\" Feel free to add helper functions or other code above this function if you want to.\n",
        "    Input: \n",
        "    - tasks: a Python list of tasks. How each individual task is stored/ presented depends on your \n",
        "    answer to Part B.\n",
        "    - step_size: int, step size in minutes\n",
        "    - init_time: int, initial time, set in minutes (8AM = 480)\n",
        "    \"\"\"\n",
        "    # YOUR CODE HERE\n",
        "    raise NotImplementedError()"
      ],
      "execution_count": 0,
      "outputs": []
    },
    {
      "cell_type": "markdown",
      "metadata": {
        "deletable": false,
        "editable": false,
        "nbgrader": {
          "checksum": "938e9513d1640dd06b56e3d1229c0201",
          "grade": false,
          "grade_id": "cell-4a90dca6350d38e6",
          "locked": true,
          "schema_version": 1,
          "solution": false
        },
        "id": "8n9CoJ4QkCpO",
        "colab_type": "text"
      },
      "source": [
        "## Part F [#ComputationalCritique]\n",
        "Produce a critical analysis of your scheduler, highlighting all the benefits in following the algorithmic directives defined in the instructions and any failure modes you envision it running into. \n",
        "\n"
      ]
    },
    {
      "cell_type": "markdown",
      "metadata": {
        "deletable": false,
        "nbgrader": {
          "checksum": "62bf957992b2520170df8b7cf8235f72",
          "grade": true,
          "grade_id": "cell-1e53ebd7c9fda795",
          "locked": false,
          "points": 0,
          "schema_version": 1,
          "solution": true
        },
        "id": "vPjSQclykCpQ",
        "colab_type": "text"
      },
      "source": [
        "YOUR ANSWER HERE"
      ]
    }
  ]
}